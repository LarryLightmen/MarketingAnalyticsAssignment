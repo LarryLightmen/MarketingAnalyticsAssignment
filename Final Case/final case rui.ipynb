{
 "cells": [
  {
   "cell_type": "code",
   "execution_count": 1,
   "metadata": {},
   "outputs": [],
   "source": [
    "import pickle\n",
    "import numpy as np\n",
    "import pandas as pd\n",
    "import io\n",
    "import scipy.stats as scs\n",
    "import matplotlib.pyplot as plt\n",
    "f = open(\"subscribers\",'rb')\n",
    "subscribers = pickle.load(f)\n",
    "f.close()\n",
    "f = open(\"engagement\",'rb')\n",
    "engagement = pickle.load(f)\n",
    "f.close()\n",
    "f = open(\"customer_service_reps\",'rb')\n",
    "customer_service_reps = pickle.load(f)\n",
    "f.close()\n"
   ]
  },
  {
   "cell_type": "code",
   "execution_count": 150,
   "metadata": {},
   "outputs": [],
   "source": [
    "import warnings\n",
    "warnings.filterwarnings(\"ignore\")"
   ]
  },
  {
   "cell_type": "code",
   "execution_count": 2,
   "metadata": {},
   "outputs": [
    {
     "data": {
      "text/plain": [
       "Index(['subid', 'package_type', 'num_weekly_services_utilized',\n",
       "       'preferred_genre', 'intended_use', 'weekly_consumption_hour',\n",
       "       'num_ideal_streaming_services', 'retarget_TF', 'age', 'male_TF',\n",
       "       'country', 'attribution_technical', 'attribution_survey', 'op_sys',\n",
       "       'months_per_bill_period', 'plan_type', 'monthly_price',\n",
       "       'discount_price', 'account_creation_date', 'creation_until_cancel_days',\n",
       "       'cancel_before_trial_end', 'trial_end_date',\n",
       "       'initial_credit_card_declined', 'revenue_net', 'join_fee', 'language',\n",
       "       'paid_TF', 'refund_after_trial_TF', 'payment_type'],\n",
       "      dtype='object')"
      ]
     },
     "execution_count": 2,
     "metadata": {},
     "output_type": "execute_result"
    }
   ],
   "source": [
    "subscribers.columns"
   ]
  },
  {
   "cell_type": "code",
   "execution_count": 3,
   "metadata": {},
   "outputs": [
    {
     "data": {
      "text/html": [
       "<div>\n",
       "<style scoped>\n",
       "    .dataframe tbody tr th:only-of-type {\n",
       "        vertical-align: middle;\n",
       "    }\n",
       "\n",
       "    .dataframe tbody tr th {\n",
       "        vertical-align: top;\n",
       "    }\n",
       "\n",
       "    .dataframe thead th {\n",
       "        text-align: right;\n",
       "    }\n",
       "</style>\n",
       "<table border=\"1\" class=\"dataframe\">\n",
       "  <thead>\n",
       "    <tr style=\"text-align: right;\">\n",
       "      <th></th>\n",
       "      <th>subid</th>\n",
       "      <th>package_type</th>\n",
       "      <th>num_weekly_services_utilized</th>\n",
       "      <th>preferred_genre</th>\n",
       "      <th>intended_use</th>\n",
       "      <th>weekly_consumption_hour</th>\n",
       "      <th>num_ideal_streaming_services</th>\n",
       "      <th>retarget_TF</th>\n",
       "      <th>age</th>\n",
       "      <th>male_TF</th>\n",
       "      <th>...</th>\n",
       "      <th>creation_until_cancel_days</th>\n",
       "      <th>cancel_before_trial_end</th>\n",
       "      <th>trial_end_date</th>\n",
       "      <th>initial_credit_card_declined</th>\n",
       "      <th>revenue_net</th>\n",
       "      <th>join_fee</th>\n",
       "      <th>language</th>\n",
       "      <th>paid_TF</th>\n",
       "      <th>refund_after_trial_TF</th>\n",
       "      <th>payment_type</th>\n",
       "    </tr>\n",
       "  </thead>\n",
       "  <tbody>\n",
       "    <tr>\n",
       "      <th>162502</th>\n",
       "      <td>21724479</td>\n",
       "      <td>economy</td>\n",
       "      <td>NaN</td>\n",
       "      <td>comedy</td>\n",
       "      <td>access to exclusive content</td>\n",
       "      <td>NaN</td>\n",
       "      <td>NaN</td>\n",
       "      <td>False</td>\n",
       "      <td>NaN</td>\n",
       "      <td>False</td>\n",
       "      <td>...</td>\n",
       "      <td>NaN</td>\n",
       "      <td>True</td>\n",
       "      <td>2020-02-08</td>\n",
       "      <td>False</td>\n",
       "      <td>NaN</td>\n",
       "      <td>NaN</td>\n",
       "      <td>ar</td>\n",
       "      <td>True</td>\n",
       "      <td>False</td>\n",
       "      <td>Standard Charter</td>\n",
       "    </tr>\n",
       "    <tr>\n",
       "      <th>380374</th>\n",
       "      <td>23383224</td>\n",
       "      <td>base</td>\n",
       "      <td>NaN</td>\n",
       "      <td>comedy</td>\n",
       "      <td>access to exclusive content</td>\n",
       "      <td>22.951579</td>\n",
       "      <td>NaN</td>\n",
       "      <td>False</td>\n",
       "      <td>70.0</td>\n",
       "      <td>False</td>\n",
       "      <td>...</td>\n",
       "      <td>0.0</td>\n",
       "      <td>False</td>\n",
       "      <td>2020-03-16</td>\n",
       "      <td>False</td>\n",
       "      <td>0.0</td>\n",
       "      <td>0.3303</td>\n",
       "      <td>ar</td>\n",
       "      <td>False</td>\n",
       "      <td>False</td>\n",
       "      <td>NaN</td>\n",
       "    </tr>\n",
       "    <tr>\n",
       "      <th>496617</th>\n",
       "      <td>26844789</td>\n",
       "      <td>enhanced</td>\n",
       "      <td>3.362885</td>\n",
       "      <td>regional</td>\n",
       "      <td>replace OTT</td>\n",
       "      <td>36.001186</td>\n",
       "      <td>1.951776</td>\n",
       "      <td>False</td>\n",
       "      <td>25.0</td>\n",
       "      <td>True</td>\n",
       "      <td>...</td>\n",
       "      <td>1.0</td>\n",
       "      <td>False</td>\n",
       "      <td>2019-12-22</td>\n",
       "      <td>False</td>\n",
       "      <td>0.0</td>\n",
       "      <td>0.1101</td>\n",
       "      <td>ar</td>\n",
       "      <td>False</td>\n",
       "      <td>False</td>\n",
       "      <td>NaN</td>\n",
       "    </tr>\n",
       "    <tr>\n",
       "      <th>356799</th>\n",
       "      <td>29417030</td>\n",
       "      <td>base</td>\n",
       "      <td>NaN</td>\n",
       "      <td>drama</td>\n",
       "      <td>replace OTT</td>\n",
       "      <td>20.051667</td>\n",
       "      <td>NaN</td>\n",
       "      <td>False</td>\n",
       "      <td>30.0</td>\n",
       "      <td>False</td>\n",
       "      <td>...</td>\n",
       "      <td>0.0</td>\n",
       "      <td>False</td>\n",
       "      <td>2020-02-11</td>\n",
       "      <td>False</td>\n",
       "      <td>0.0</td>\n",
       "      <td>0.0367</td>\n",
       "      <td>ar</td>\n",
       "      <td>False</td>\n",
       "      <td>False</td>\n",
       "      <td>NaN</td>\n",
       "    </tr>\n",
       "    <tr>\n",
       "      <th>681701</th>\n",
       "      <td>26723159</td>\n",
       "      <td>base</td>\n",
       "      <td>3.731089</td>\n",
       "      <td>comedy</td>\n",
       "      <td>replace OTT</td>\n",
       "      <td>22.951579</td>\n",
       "      <td>2.506384</td>\n",
       "      <td>False</td>\n",
       "      <td>28.0</td>\n",
       "      <td>False</td>\n",
       "      <td>...</td>\n",
       "      <td>9.0</td>\n",
       "      <td>False</td>\n",
       "      <td>2019-10-20</td>\n",
       "      <td>False</td>\n",
       "      <td>0.0</td>\n",
       "      <td>0.0367</td>\n",
       "      <td>ar</td>\n",
       "      <td>False</td>\n",
       "      <td>False</td>\n",
       "      <td>NaN</td>\n",
       "    </tr>\n",
       "  </tbody>\n",
       "</table>\n",
       "<p>5 rows × 29 columns</p>\n",
       "</div>"
      ],
      "text/plain": [
       "           subid package_type  num_weekly_services_utilized preferred_genre  \\\n",
       "162502  21724479      economy                           NaN          comedy   \n",
       "380374  23383224         base                           NaN          comedy   \n",
       "496617  26844789     enhanced                      3.362885        regional   \n",
       "356799  29417030         base                           NaN           drama   \n",
       "681701  26723159         base                      3.731089          comedy   \n",
       "\n",
       "                       intended_use  weekly_consumption_hour  \\\n",
       "162502  access to exclusive content                      NaN   \n",
       "380374  access to exclusive content                22.951579   \n",
       "496617                  replace OTT                36.001186   \n",
       "356799                  replace OTT                20.051667   \n",
       "681701                  replace OTT                22.951579   \n",
       "\n",
       "        num_ideal_streaming_services  retarget_TF   age male_TF  ...  \\\n",
       "162502                           NaN        False   NaN   False  ...   \n",
       "380374                           NaN        False  70.0   False  ...   \n",
       "496617                      1.951776        False  25.0    True  ...   \n",
       "356799                           NaN        False  30.0   False  ...   \n",
       "681701                      2.506384        False  28.0   False  ...   \n",
       "\n",
       "       creation_until_cancel_days cancel_before_trial_end trial_end_date  \\\n",
       "162502                        NaN                    True     2020-02-08   \n",
       "380374                        0.0                   False     2020-03-16   \n",
       "496617                        1.0                   False     2019-12-22   \n",
       "356799                        0.0                   False     2020-02-11   \n",
       "681701                        9.0                   False     2019-10-20   \n",
       "\n",
       "       initial_credit_card_declined  revenue_net join_fee  language  paid_TF  \\\n",
       "162502                        False          NaN      NaN        ar     True   \n",
       "380374                        False          0.0   0.3303        ar    False   \n",
       "496617                        False          0.0   0.1101        ar    False   \n",
       "356799                        False          0.0   0.0367        ar    False   \n",
       "681701                        False          0.0   0.0367        ar    False   \n",
       "\n",
       "       refund_after_trial_TF      payment_type  \n",
       "162502                 False  Standard Charter  \n",
       "380374                 False               NaN  \n",
       "496617                 False               NaN  \n",
       "356799                 False               NaN  \n",
       "681701                 False               NaN  \n",
       "\n",
       "[5 rows x 29 columns]"
      ]
     },
     "execution_count": 3,
     "metadata": {},
     "output_type": "execute_result"
    }
   ],
   "source": [
    "subscribers.head()"
   ]
  },
  {
   "cell_type": "code",
   "execution_count": 4,
   "metadata": {},
   "outputs": [
    {
     "data": {
      "text/plain": [
       "227628"
      ]
     },
     "execution_count": 4,
     "metadata": {},
     "output_type": "execute_result"
    }
   ],
   "source": [
    "len(subscribers)"
   ]
  },
  {
   "cell_type": "code",
   "execution_count": 5,
   "metadata": {},
   "outputs": [
    {
     "data": {
      "text/html": [
       "<div>\n",
       "<style scoped>\n",
       "    .dataframe tbody tr th:only-of-type {\n",
       "        vertical-align: middle;\n",
       "    }\n",
       "\n",
       "    .dataframe tbody tr th {\n",
       "        vertical-align: top;\n",
       "    }\n",
       "\n",
       "    .dataframe thead th {\n",
       "        text-align: right;\n",
       "    }\n",
       "</style>\n",
       "<table border=\"1\" class=\"dataframe\">\n",
       "  <thead>\n",
       "    <tr style=\"text-align: right;\">\n",
       "      <th></th>\n",
       "      <th>subid</th>\n",
       "      <th>date</th>\n",
       "      <th>app_opens</th>\n",
       "      <th>cust_service_mssgs</th>\n",
       "      <th>num_videos_completed</th>\n",
       "      <th>num_videos_more_than_30_seconds</th>\n",
       "      <th>num_videos_rated</th>\n",
       "      <th>num_series_started</th>\n",
       "      <th>payment_period</th>\n",
       "    </tr>\n",
       "  </thead>\n",
       "  <tbody>\n",
       "    <tr>\n",
       "      <th>1</th>\n",
       "      <td>22349235</td>\n",
       "      <td>2019-07-01</td>\n",
       "      <td>1.0</td>\n",
       "      <td>1.0</td>\n",
       "      <td>0.0</td>\n",
       "      <td>6.0</td>\n",
       "      <td>0.0</td>\n",
       "      <td>0.0</td>\n",
       "      <td>0.0</td>\n",
       "    </tr>\n",
       "    <tr>\n",
       "      <th>2</th>\n",
       "      <td>22349235</td>\n",
       "      <td>2019-07-02</td>\n",
       "      <td>1.0</td>\n",
       "      <td>0.0</td>\n",
       "      <td>0.0</td>\n",
       "      <td>5.0</td>\n",
       "      <td>0.0</td>\n",
       "      <td>0.0</td>\n",
       "      <td>0.0</td>\n",
       "    </tr>\n",
       "    <tr>\n",
       "      <th>3</th>\n",
       "      <td>22349235</td>\n",
       "      <td>2019-07-03</td>\n",
       "      <td>0.0</td>\n",
       "      <td>1.0</td>\n",
       "      <td>0.0</td>\n",
       "      <td>0.0</td>\n",
       "      <td>0.0</td>\n",
       "      <td>0.0</td>\n",
       "      <td>0.0</td>\n",
       "    </tr>\n",
       "    <tr>\n",
       "      <th>50</th>\n",
       "      <td>20848497</td>\n",
       "      <td>2019-07-02</td>\n",
       "      <td>1.0</td>\n",
       "      <td>0.0</td>\n",
       "      <td>7.0</td>\n",
       "      <td>7.0</td>\n",
       "      <td>0.0</td>\n",
       "      <td>0.0</td>\n",
       "      <td>0.0</td>\n",
       "    </tr>\n",
       "    <tr>\n",
       "      <th>51</th>\n",
       "      <td>22680106</td>\n",
       "      <td>2019-07-02</td>\n",
       "      <td>2.0</td>\n",
       "      <td>1.0</td>\n",
       "      <td>7.0</td>\n",
       "      <td>7.0</td>\n",
       "      <td>0.0</td>\n",
       "      <td>1.0</td>\n",
       "      <td>0.0</td>\n",
       "    </tr>\n",
       "  </tbody>\n",
       "</table>\n",
       "</div>"
      ],
      "text/plain": [
       "       subid       date  app_opens  cust_service_mssgs  num_videos_completed  \\\n",
       "1   22349235 2019-07-01        1.0                 1.0                   0.0   \n",
       "2   22349235 2019-07-02        1.0                 0.0                   0.0   \n",
       "3   22349235 2019-07-03        0.0                 1.0                   0.0   \n",
       "50  20848497 2019-07-02        1.0                 0.0                   7.0   \n",
       "51  22680106 2019-07-02        2.0                 1.0                   7.0   \n",
       "\n",
       "    num_videos_more_than_30_seconds  num_videos_rated  num_series_started  \\\n",
       "1                               6.0               0.0                 0.0   \n",
       "2                               5.0               0.0                 0.0   \n",
       "3                               0.0               0.0                 0.0   \n",
       "50                              7.0               0.0                 0.0   \n",
       "51                              7.0               0.0                 1.0   \n",
       "\n",
       "    payment_period  \n",
       "1              0.0  \n",
       "2              0.0  \n",
       "3              0.0  \n",
       "50             0.0  \n",
       "51             0.0  "
      ]
     },
     "execution_count": 5,
     "metadata": {},
     "output_type": "execute_result"
    }
   ],
   "source": [
    "engagement.head()"
   ]
  },
  {
   "cell_type": "code",
   "execution_count": 6,
   "metadata": {},
   "outputs": [
    {
     "data": {
      "text/plain": [
       "2585724"
      ]
     },
     "execution_count": 6,
     "metadata": {},
     "output_type": "execute_result"
    }
   ],
   "source": [
    "len(engagement)"
   ]
  },
  {
   "cell_type": "code",
   "execution_count": 7,
   "metadata": {},
   "outputs": [
    {
     "data": {
      "text/html": [
       "<div>\n",
       "<style scoped>\n",
       "    .dataframe tbody tr th:only-of-type {\n",
       "        vertical-align: middle;\n",
       "    }\n",
       "\n",
       "    .dataframe tbody tr th {\n",
       "        vertical-align: top;\n",
       "    }\n",
       "\n",
       "    .dataframe thead th {\n",
       "        text-align: right;\n",
       "    }\n",
       "</style>\n",
       "<table border=\"1\" class=\"dataframe\">\n",
       "  <thead>\n",
       "    <tr style=\"text-align: right;\">\n",
       "      <th></th>\n",
       "      <th>customer_service_rep_id</th>\n",
       "      <th>subid</th>\n",
       "      <th>current_sub_TF</th>\n",
       "      <th>cancel_date</th>\n",
       "      <th>account_creation_date</th>\n",
       "      <th>num_trial_days</th>\n",
       "      <th>trial_completed_TF</th>\n",
       "      <th>billing_channel</th>\n",
       "      <th>revenue_net_1month</th>\n",
       "      <th>payment_period</th>\n",
       "      <th>last_payment</th>\n",
       "      <th>next_payment</th>\n",
       "      <th>renew</th>\n",
       "    </tr>\n",
       "  </thead>\n",
       "  <tbody>\n",
       "    <tr>\n",
       "      <th>4</th>\n",
       "      <td>36189811</td>\n",
       "      <td>25108574</td>\n",
       "      <td>False</td>\n",
       "      <td>NaT</td>\n",
       "      <td>2019-11-26 03:30:29</td>\n",
       "      <td>7</td>\n",
       "      <td>True</td>\n",
       "      <td>itunes</td>\n",
       "      <td>1.1377</td>\n",
       "      <td>0</td>\n",
       "      <td>2019-11-26 03:30:29</td>\n",
       "      <td>2019-11-26 03:30:29</td>\n",
       "      <td>NaN</td>\n",
       "    </tr>\n",
       "    <tr>\n",
       "      <th>5</th>\n",
       "      <td>36189811</td>\n",
       "      <td>25108574</td>\n",
       "      <td>False</td>\n",
       "      <td>NaT</td>\n",
       "      <td>2019-11-26 03:30:29</td>\n",
       "      <td>7</td>\n",
       "      <td>True</td>\n",
       "      <td>itunes</td>\n",
       "      <td>1.1377</td>\n",
       "      <td>1</td>\n",
       "      <td>2019-11-26 03:30:29</td>\n",
       "      <td>2019-12-27 03:30:29</td>\n",
       "      <td>NaN</td>\n",
       "    </tr>\n",
       "    <tr>\n",
       "      <th>6</th>\n",
       "      <td>36189811</td>\n",
       "      <td>25108574</td>\n",
       "      <td>False</td>\n",
       "      <td>NaT</td>\n",
       "      <td>2019-11-26 03:30:29</td>\n",
       "      <td>7</td>\n",
       "      <td>True</td>\n",
       "      <td>itunes</td>\n",
       "      <td>1.1377</td>\n",
       "      <td>2</td>\n",
       "      <td>2019-12-27 03:30:29</td>\n",
       "      <td>2020-01-26 03:30:29</td>\n",
       "      <td>NaN</td>\n",
       "    </tr>\n",
       "    <tr>\n",
       "      <th>7</th>\n",
       "      <td>36189811</td>\n",
       "      <td>25108574</td>\n",
       "      <td>False</td>\n",
       "      <td>NaT</td>\n",
       "      <td>2019-11-26 03:30:29</td>\n",
       "      <td>7</td>\n",
       "      <td>True</td>\n",
       "      <td>itunes</td>\n",
       "      <td>1.1377</td>\n",
       "      <td>3</td>\n",
       "      <td>2020-01-26 03:30:29</td>\n",
       "      <td>NaT</td>\n",
       "      <td>NaN</td>\n",
       "    </tr>\n",
       "    <tr>\n",
       "      <th>8</th>\n",
       "      <td>31174901</td>\n",
       "      <td>25914865</td>\n",
       "      <td>True</td>\n",
       "      <td>NaT</td>\n",
       "      <td>2020-03-19 01:20:25</td>\n",
       "      <td>14</td>\n",
       "      <td>True</td>\n",
       "      <td>itunes</td>\n",
       "      <td>1.1377</td>\n",
       "      <td>0</td>\n",
       "      <td>2020-03-19 01:20:25</td>\n",
       "      <td>2020-04-02 01:20:25</td>\n",
       "      <td>NaN</td>\n",
       "    </tr>\n",
       "  </tbody>\n",
       "</table>\n",
       "</div>"
      ],
      "text/plain": [
       "   customer_service_rep_id     subid  current_sub_TF cancel_date  \\\n",
       "4                 36189811  25108574           False         NaT   \n",
       "5                 36189811  25108574           False         NaT   \n",
       "6                 36189811  25108574           False         NaT   \n",
       "7                 36189811  25108574           False         NaT   \n",
       "8                 31174901  25914865            True         NaT   \n",
       "\n",
       "  account_creation_date  num_trial_days  trial_completed_TF billing_channel  \\\n",
       "4   2019-11-26 03:30:29               7                True          itunes   \n",
       "5   2019-11-26 03:30:29               7                True          itunes   \n",
       "6   2019-11-26 03:30:29               7                True          itunes   \n",
       "7   2019-11-26 03:30:29               7                True          itunes   \n",
       "8   2020-03-19 01:20:25              14                True          itunes   \n",
       "\n",
       "   revenue_net_1month  payment_period        last_payment        next_payment  \\\n",
       "4              1.1377               0 2019-11-26 03:30:29 2019-11-26 03:30:29   \n",
       "5              1.1377               1 2019-11-26 03:30:29 2019-12-27 03:30:29   \n",
       "6              1.1377               2 2019-12-27 03:30:29 2020-01-26 03:30:29   \n",
       "7              1.1377               3 2020-01-26 03:30:29                 NaT   \n",
       "8              1.1377               0 2020-03-19 01:20:25 2020-04-02 01:20:25   \n",
       "\n",
       "  renew  \n",
       "4   NaN  \n",
       "5   NaN  \n",
       "6   NaN  \n",
       "7   NaN  \n",
       "8   NaN  "
      ]
     },
     "execution_count": 7,
     "metadata": {},
     "output_type": "execute_result"
    }
   ],
   "source": [
    "customer_service_reps.head()"
   ]
  },
  {
   "cell_type": "code",
   "execution_count": 8,
   "metadata": {},
   "outputs": [
    {
     "data": {
      "text/plain": [
       "2208643"
      ]
     },
     "execution_count": 8,
     "metadata": {},
     "output_type": "execute_result"
    }
   ],
   "source": [
    "len(customer_service_reps)"
   ]
  },
  {
   "cell_type": "markdown",
   "metadata": {},
   "source": [
    "Consultant will\n",
    "execute at least 2 marketing analyses of the following identified priorities:\n",
    "\n",
    "• AB testing to understand what marketing strategies have been most effective to date\n",
    "\n",
    "• Customer segmentation to help the marketing team design acquisition strategies\n",
    "supporting the Executive team’s growth objective\n",
    "\n",
    "\n",
    "• Advertising channel spend efficiency and effectiveness, supporting the advertising\n",
    "team’s budget allocation for the upcoming quarter\n",
    "\n",
    "In addition:\n",
    "\n",
    "• Consultant will build a churn model and develop recommendation(s)\n",
    "on an alternative product pricing structure as well as a distribution of expected CLV,\n",
    "representing the uncertainty of future payments given the current customer base."
   ]
  },
  {
   "cell_type": "markdown",
   "metadata": {},
   "source": [
    "# 1 AB testing  (renew)"
   ]
  },
  {
   "cell_type": "code",
   "execution_count": 9,
   "metadata": {},
   "outputs": [
    {
     "data": {
      "text/plain": [
       "'\\nAB testing to understand what marketing strategies have been most effective to date\\n'"
      ]
     },
     "execution_count": 9,
     "metadata": {},
     "output_type": "execute_result"
    }
   ],
   "source": [
    "'''\n",
    "AB testing to understand what marketing strategies have been most effective to date\n",
    "'''"
   ]
  },
  {
   "cell_type": "code",
   "execution_count": 10,
   "metadata": {},
   "outputs": [
    {
     "data": {
      "text/plain": [
       "base_uae_14_day_trial                227096\n",
       "high_uae_14_day_trial                   325\n",
       "low_uae_no_trial                        167\n",
       "base_eur_14_day_trial                    18\n",
       "high_sar_14_day_trial                    12\n",
       "low_gbp_14_day_trial                      4\n",
       "high_aud_14_day_trial                     2\n",
       "low_sar_no_trial                          1\n",
       "low_eur_no_trial                          1\n",
       "high_jpy_14_day_trial                     1\n",
       "base_uae_no_trial_7_day_guarantee         1\n",
       "Name: plan_type, dtype: int64"
      ]
     },
     "execution_count": 10,
     "metadata": {},
     "output_type": "execute_result"
    }
   ],
   "source": [
    "# data :  subscribers\n",
    "# step\n",
    "subscribers['plan_type'].value_counts()"
   ]
  },
  {
   "cell_type": "code",
   "execution_count": 11,
   "metadata": {},
   "outputs": [
    {
     "data": {
      "text/plain": [
       "Index(['subid', 'package_type', 'num_weekly_services_utilized',\n",
       "       'preferred_genre', 'intended_use', 'weekly_consumption_hour',\n",
       "       'num_ideal_streaming_services', 'retarget_TF', 'age', 'male_TF',\n",
       "       'country', 'attribution_technical', 'attribution_survey', 'op_sys',\n",
       "       'months_per_bill_period', 'plan_type', 'monthly_price',\n",
       "       'discount_price', 'account_creation_date', 'creation_until_cancel_days',\n",
       "       'cancel_before_trial_end', 'trial_end_date',\n",
       "       'initial_credit_card_declined', 'revenue_net', 'join_fee', 'language',\n",
       "       'paid_TF', 'refund_after_trial_TF', 'payment_type'],\n",
       "      dtype='object')"
      ]
     },
     "execution_count": 11,
     "metadata": {},
     "output_type": "execute_result"
    }
   ],
   "source": [
    "subscribers.columns\n"
   ]
  },
  {
   "cell_type": "code",
   "execution_count": 12,
   "metadata": {},
   "outputs": [],
   "source": [
    "df = subscribers.merge(customer_service_reps[['subid','renew']],on=['subid'])"
   ]
  },
  {
   "cell_type": "code",
   "execution_count": 13,
   "metadata": {},
   "outputs": [
    {
     "data": {
      "text/plain": [
       "False    129302\n",
       "True      73146\n",
       "Name: renew, dtype: int64"
      ]
     },
     "execution_count": 13,
     "metadata": {},
     "output_type": "execute_result"
    }
   ],
   "source": [
    "df['renew'].value_counts()"
   ]
  },
  {
   "cell_type": "code",
   "execution_count": 14,
   "metadata": {},
   "outputs": [
    {
     "data": {
      "text/plain": [
       "base_uae_14_day_trial                209383\n",
       "high_uae_14_day_trial                   375\n",
       "low_uae_no_trial                         88\n",
       "base_eur_14_day_trial                    23\n",
       "high_sar_14_day_trial                    15\n",
       "high_aud_14_day_trial                     5\n",
       "high_jpy_14_day_trial                     2\n",
       "base_uae_no_trial_7_day_guarantee         2\n",
       "low_gbp_14_day_trial                      1\n",
       "Name: plan_type, dtype: int64"
      ]
     },
     "execution_count": 14,
     "metadata": {},
     "output_type": "execute_result"
    }
   ],
   "source": [
    "df['plan_type'].value_counts()"
   ]
  },
  {
   "cell_type": "code",
   "execution_count": 15,
   "metadata": {},
   "outputs": [],
   "source": [
    "# pd.DataFrame(list(a),index=a.index, columns=['paid'])"
   ]
  },
  {
   "cell_type": "code",
   "execution_count": 16,
   "metadata": {},
   "outputs": [],
   "source": [
    "df['renew'] = df['renew'].astype(float)"
   ]
  },
  {
   "cell_type": "code",
   "execution_count": 17,
   "metadata": {},
   "outputs": [
    {
     "data": {
      "text/plain": [
       "plan_type\n",
       "base_eur_14_day_trial                   13.0\n",
       "base_uae_14_day_trial                72971.0\n",
       "base_uae_no_trial_7_day_guarantee        0.0\n",
       "high_aud_14_day_trial                    2.0\n",
       "high_jpy_14_day_trial                    1.0\n",
       "high_sar_14_day_trial                    5.0\n",
       "high_uae_14_day_trial                  129.0\n",
       "low_gbp_14_day_trial                     0.0\n",
       "low_uae_no_trial                        25.0\n",
       "Name: renew, dtype: float64"
      ]
     },
     "execution_count": 17,
     "metadata": {},
     "output_type": "execute_result"
    }
   ],
   "source": [
    "df.groupby(['plan_type']).sum()['renew']"
   ]
  },
  {
   "cell_type": "code",
   "execution_count": 18,
   "metadata": {},
   "outputs": [],
   "source": [
    "a = df.groupby(['plan_type']).sum()['renew']"
   ]
  },
  {
   "cell_type": "code",
   "execution_count": 19,
   "metadata": {},
   "outputs": [],
   "source": [
    "dataframe = pd.DataFrame(list(a),index=a.index, columns=['rew']).merge(df['plan_type'].value_counts(),left_on=None, right_on=None, left_index=True, right_index=True)\n",
    "dataframe.columns = ['renew','all']\n",
    "dataframe['coversion_rate'] = dataframe['renew']/dataframe['all']"
   ]
  },
  {
   "cell_type": "code",
   "execution_count": 20,
   "metadata": {},
   "outputs": [
    {
     "data": {
      "text/html": [
       "<div>\n",
       "<style scoped>\n",
       "    .dataframe tbody tr th:only-of-type {\n",
       "        vertical-align: middle;\n",
       "    }\n",
       "\n",
       "    .dataframe tbody tr th {\n",
       "        vertical-align: top;\n",
       "    }\n",
       "\n",
       "    .dataframe thead th {\n",
       "        text-align: right;\n",
       "    }\n",
       "</style>\n",
       "<table border=\"1\" class=\"dataframe\">\n",
       "  <thead>\n",
       "    <tr style=\"text-align: right;\">\n",
       "      <th></th>\n",
       "      <th>renew</th>\n",
       "      <th>all</th>\n",
       "      <th>coversion_rate</th>\n",
       "    </tr>\n",
       "  </thead>\n",
       "  <tbody>\n",
       "    <tr>\n",
       "      <th>base_eur_14_day_trial</th>\n",
       "      <td>13.0</td>\n",
       "      <td>23</td>\n",
       "      <td>0.565217</td>\n",
       "    </tr>\n",
       "    <tr>\n",
       "      <th>high_jpy_14_day_trial</th>\n",
       "      <td>1.0</td>\n",
       "      <td>2</td>\n",
       "      <td>0.500000</td>\n",
       "    </tr>\n",
       "    <tr>\n",
       "      <th>high_aud_14_day_trial</th>\n",
       "      <td>2.0</td>\n",
       "      <td>5</td>\n",
       "      <td>0.400000</td>\n",
       "    </tr>\n",
       "    <tr>\n",
       "      <th>base_uae_14_day_trial</th>\n",
       "      <td>72971.0</td>\n",
       "      <td>209383</td>\n",
       "      <td>0.348505</td>\n",
       "    </tr>\n",
       "    <tr>\n",
       "      <th>high_uae_14_day_trial</th>\n",
       "      <td>129.0</td>\n",
       "      <td>375</td>\n",
       "      <td>0.344000</td>\n",
       "    </tr>\n",
       "    <tr>\n",
       "      <th>high_sar_14_day_trial</th>\n",
       "      <td>5.0</td>\n",
       "      <td>15</td>\n",
       "      <td>0.333333</td>\n",
       "    </tr>\n",
       "    <tr>\n",
       "      <th>low_uae_no_trial</th>\n",
       "      <td>25.0</td>\n",
       "      <td>88</td>\n",
       "      <td>0.284091</td>\n",
       "    </tr>\n",
       "    <tr>\n",
       "      <th>base_uae_no_trial_7_day_guarantee</th>\n",
       "      <td>0.0</td>\n",
       "      <td>2</td>\n",
       "      <td>0.000000</td>\n",
       "    </tr>\n",
       "    <tr>\n",
       "      <th>low_gbp_14_day_trial</th>\n",
       "      <td>0.0</td>\n",
       "      <td>1</td>\n",
       "      <td>0.000000</td>\n",
       "    </tr>\n",
       "  </tbody>\n",
       "</table>\n",
       "</div>"
      ],
      "text/plain": [
       "                                     renew     all  coversion_rate\n",
       "base_eur_14_day_trial                 13.0      23        0.565217\n",
       "high_jpy_14_day_trial                  1.0       2        0.500000\n",
       "high_aud_14_day_trial                  2.0       5        0.400000\n",
       "base_uae_14_day_trial              72971.0  209383        0.348505\n",
       "high_uae_14_day_trial                129.0     375        0.344000\n",
       "high_sar_14_day_trial                  5.0      15        0.333333\n",
       "low_uae_no_trial                      25.0      88        0.284091\n",
       "base_uae_no_trial_7_day_guarantee      0.0       2        0.000000\n",
       "low_gbp_14_day_trial                   0.0       1        0.000000"
      ]
     },
     "execution_count": 20,
     "metadata": {},
     "output_type": "execute_result"
    }
   ],
   "source": [
    "dataframe.sort_values(by='coversion_rate', ascending = False)"
   ]
  },
  {
   "cell_type": "code",
   "execution_count": 21,
   "metadata": {},
   "outputs": [],
   "source": [
    "def generate_data(N_A, N_B, p_A, p_B, days=None, control_label='A',\n",
    "                  test_label='B'):\n",
    "    \"\"\"Returns a pandas dataframe with fake subscribers data\n",
    "\n",
    "    Example:\n",
    "\n",
    "    Parameters:\n",
    "        N_A (int): sample size for control group\n",
    "        N_B (int): sample size for test group\n",
    "            Note: final sample size may not match N_A provided because the\n",
    "            group at each row is chosen at random (50/50).\n",
    "        p_A (float): conversion rate; conversion rate of control group\n",
    "        p_B (float): conversion rate; conversion rate of test group\n",
    "        days (int): optional; if provided, a column for 'ts' will be included\n",
    "            to divide the data in chunks of time\n",
    "            Note: overflow data will be included in an extra day\n",
    "        control_label (str)\n",
    "        test_label (str)\n",
    "\n",
    "    Returns:\n",
    "        df (df)\n",
    "    \"\"\"\n",
    "\n",
    "    # initiate empty container\n",
    "    data = []\n",
    "\n",
    "    # total amount of rows in the data\n",
    "    N = N_A + N_B\n",
    "\n",
    "    # distribute events based on proportion of group size\n",
    "    group_bern = scs.bernoulli(N_A / (N_A + N_B))\n",
    "\n",
    "    # initiate bernoulli distributions from which to randomly sample\n",
    "    A_bern = scs.bernoulli(p_A)\n",
    "    B_bern = scs.bernoulli(p_B)\n",
    "\n",
    "    for idx in range(N):\n",
    "        # initite empty row\n",
    "        row = {}\n",
    "        # for 'ts' column\n",
    "        if days is not None:\n",
    "            if type(days) == int:\n",
    "                row['ts'] = idx // (N // days)\n",
    "            else:\n",
    "                raise ValueError(\"Provide an integer for the days parameter.\")\n",
    "        # assign group based on 50/50 probability\n",
    "        row['group'] = group_bern.rvs()\n",
    "\n",
    "        if row['group'] == 0:\n",
    "            # assign conversion based on provided parameters\n",
    "            row['converted'] = A_bern.rvs()\n",
    "        else:\n",
    "            row['converted'] = B_bern.rvs()\n",
    "        # collect row into data container\n",
    "        data.append(row)\n",
    "\n",
    "    # convert data into pandas dataframe\n",
    "    df = pd.DataFrame(data)\n",
    "\n",
    "    # transform group labels of 0s and 1s to user-defined group labels\n",
    "    df['group'] = df['group'].apply(\n",
    "        lambda x: control_label if x == 0 else test_label)\n",
    "\n",
    "    return df\n",
    "\n",
    "\n"
   ]
  },
  {
   "cell_type": "markdown",
   "metadata": {},
   "source": [
    "**Hypothesis setup:**\n",
    "\n",
    "\n",
    "Variant B: high_uae_14_day_trial\n",
    "\n",
    "Variant A: base_uae_14_day_trial\n",
    "\n",
    "Null Hypothesis $H_{0}$: Variant B and Variant A had the same conversion rates \n",
    "\n",
    "Alternative hypothesis $H_{A}$: Variant B had a lower conversion rate than Variant A\n",
    "\n",
    "**Assumptions:**\n",
    "1. Variant A represents the population and we can treat the population mean as known and equal to the mean of Variant A."
   ]
  },
  {
   "cell_type": "code",
   "execution_count": 22,
   "metadata": {},
   "outputs": [
    {
     "data": {
      "text/html": [
       "<div>\n",
       "<style scoped>\n",
       "    .dataframe tbody tr th:only-of-type {\n",
       "        vertical-align: middle;\n",
       "    }\n",
       "\n",
       "    .dataframe tbody tr th {\n",
       "        vertical-align: top;\n",
       "    }\n",
       "\n",
       "    .dataframe thead th {\n",
       "        text-align: right;\n",
       "    }\n",
       "</style>\n",
       "<table border=\"1\" class=\"dataframe\">\n",
       "  <thead>\n",
       "    <tr style=\"text-align: right;\">\n",
       "      <th></th>\n",
       "      <th>Variant</th>\n",
       "      <th>purchase_TF</th>\n",
       "    </tr>\n",
       "  </thead>\n",
       "  <tbody>\n",
       "    <tr>\n",
       "      <th>0</th>\n",
       "      <td>B</td>\n",
       "      <td>0</td>\n",
       "    </tr>\n",
       "    <tr>\n",
       "      <th>1</th>\n",
       "      <td>B</td>\n",
       "      <td>0</td>\n",
       "    </tr>\n",
       "    <tr>\n",
       "      <th>2</th>\n",
       "      <td>B</td>\n",
       "      <td>1</td>\n",
       "    </tr>\n",
       "    <tr>\n",
       "      <th>3</th>\n",
       "      <td>B</td>\n",
       "      <td>0</td>\n",
       "    </tr>\n",
       "    <tr>\n",
       "      <th>4</th>\n",
       "      <td>B</td>\n",
       "      <td>1</td>\n",
       "    </tr>\n",
       "  </tbody>\n",
       "</table>\n",
       "</div>"
      ],
      "text/plain": [
       "  Variant  purchase_TF\n",
       "0       B            0\n",
       "1       B            0\n",
       "2       B            1\n",
       "3       B            0\n",
       "4       B            1"
      ]
     },
     "execution_count": 22,
     "metadata": {},
     "output_type": "execute_result"
    }
   ],
   "source": [
    "# AB test\n",
    "# Variant A high_uae_14_day_trial   328.0 \t715\n",
    "# Variant B base_uae_14_day_trial   182690.0 \t397785 \n",
    "N_B = 715\n",
    "N_A = 397785\n",
    "p_B = 328/715\n",
    "p_A = 182690/397785\n",
    "df = generate_data(N_A, N_B, p_A, p_B, days=None, control_label='A',\n",
    "                  test_label='B')\n",
    "df.columns = ['Variant', 'purchase_TF']\n",
    "df.head()"
   ]
  },
  {
   "cell_type": "markdown",
   "metadata": {},
   "source": [
    "##### Conducting the test"
   ]
  },
  {
   "cell_type": "code",
   "execution_count": 23,
   "metadata": {},
   "outputs": [
    {
     "name": "stdout",
     "output_type": "stream",
     "text": [
      "We reject the null. The conversion rate of variant B is significantly lower than that of variant A.\n",
      "Our Z score is -4.0986849282588995.\n"
     ]
    }
   ],
   "source": [
    "# calculate our z score\n",
    "p_treatment = df[df[\"Variant\"]==\"B\"]['purchase_TF'].sum()/len(df[df[\"Variant\"]==\"B\"]['purchase_TF'])\n",
    "p_varA = df[df[\"Variant\"]==\"A\"]['purchase_TF'].sum()/len(df[df[\"Variant\"]==\"A\"]['purchase_TF'])\n",
    "n = len(df[df[\"Variant\"]==\"B\"]['purchase_TF'])\n",
    "z = (p_treatment-p_varA)/(((p_varA*(1-p_varA))/n)**0.5)\n",
    "if abs(z) > 1.64:\n",
    "    print(\"We reject the null. The conversion rate of variant B is significantly lower than that of variant A.\")\n",
    "    print(\"Our Z score is {}.\".format(z))\n",
    "else:\n",
    "    print(\"Test failed. The old version is not that different from the new in terms of conversion rate.\")"
   ]
  },
  {
   "cell_type": "code",
   "execution_count": 24,
   "metadata": {},
   "outputs": [
    {
     "data": {
      "text/plain": [
       "-4.0986849282588995"
      ]
     },
     "execution_count": 24,
     "metadata": {},
     "output_type": "execute_result"
    }
   ],
   "source": [
    "z"
   ]
  },
  {
   "cell_type": "markdown",
   "metadata": {},
   "source": [
    "With 95% confidence level, $Z_{0.05}$ = 1.64. Reject null if z > 1.64. Since z is 2.20, **we reject the null hypothesis and conclude that at 95% confidence level, variant B generates less conversion than variant A.**"
   ]
  },
  {
   "cell_type": "markdown",
   "metadata": {},
   "source": [
    "##### Optimal Sample Size"
   ]
  },
  {
   "cell_type": "code",
   "execution_count": 25,
   "metadata": {},
   "outputs": [
    {
     "name": "stdout",
     "output_type": "stream",
     "text": [
      "The optimal sample size for each segment is 371615.521812394\n"
     ]
    }
   ],
   "source": [
    "# Calculate optumal sample size\n",
    "t_alpha = 1.96\n",
    "t_beta = 0.842\n",
    "p0 = p_varA\n",
    "p1 = p_treatment\n",
    "delta = p1-p0\n",
    "p_bar = (p0+p1)/2\n",
    "\n",
    "# plug into the formula\n",
    "n_star = ((t_alpha*((2*p_bar*(1-p_bar))**.5)+(t_beta*((p0*(1-p0)+p1*(1-p1))**.5)))**2)*(delta**-2)\n",
    "print(\"The optimal sample size for each segment is {}\".format(n_star))"
   ]
  },
  {
   "cell_type": "code",
   "execution_count": 26,
   "metadata": {},
   "outputs": [],
   "source": [
    "# # seperate treatment and control groups\n",
    "# A = df[df[\"Variant\"]==\"A\"]\n",
    "# B = df[df[\"Variant\"]==\"B\"]"
   ]
  },
  {
   "cell_type": "code",
   "execution_count": 27,
   "metadata": {},
   "outputs": [],
   "source": [
    "# # test using 1-sample \n",
    "\n",
    "# log = []\n",
    "# sample_list = []\n",
    "# for i in range(10):\n",
    "# #     n = 360083869\n",
    "\n",
    "#     sample_B = B.sample(n=n,replace=True)\n",
    "#     sample_list.append(sample_B)\n",
    "\n",
    "\n",
    "#     convB = sample_B['purchase_TF'].sum()/n\n",
    "\n",
    "#     z_sample = (convB-p_varA)/(((p_varA*(1-p_varA))/n)**0.5)\n",
    "#     if z_sample >= 1.64:\n",
    "#         log.append(1) # reject Null - Variant B is better \n",
    "   \n",
    "#     else:\n",
    "#         log.append(0) # fail to reject Null - Variant B is NOT better \n",
    "        \n",
    "        \n",
    "# print(\"The challenger wins {}% of the time.\".format(sum(log)/len(log)*100))"
   ]
  },
  {
   "cell_type": "markdown",
   "metadata": {},
   "source": [
    "##### Sequential Testing"
   ]
  },
  {
   "cell_type": "markdown",
   "metadata": {},
   "source": [
    "Assume P(Xi=1) under H0 = p-varA and P(Xi=1) under H1 = p-treatment.\n",
    "\n",
    "Set desired type 1 error = 5% and type 2 error = 20%."
   ]
  },
  {
   "cell_type": "code",
   "execution_count": 28,
   "metadata": {},
   "outputs": [],
   "source": [
    "# # using the same sample as in part 2\n",
    "\n",
    "# # set parameters \n",
    "# n = 1198\n",
    "# n_trials = 10\n",
    "# alpha = .05\n",
    "# beta = .2\n",
    "# min_diff = p_treatment-p_varA # from original dataset\n",
    "# upper_bound = np.log(1/alpha)\n",
    "# lower_bound = np.log(beta)\n",
    "\n",
    "# # test each observation in the sample:\n",
    "# list_of_trials = []\n",
    "# number_of_success = 0\n",
    "\n",
    "# for j in range(len(sample_list)):\n",
    "#     sample_B = sample_list[j]\n",
    "#     log_lambda_n = 0\n",
    "#     for i in range(len(sample_B)):  \n",
    "        \n",
    "#         # update log_lambda_n\n",
    "#         if sample_B['purchase_TF'].iloc[i] == True:\n",
    "#             log_lambda_xi = np.log(p_treatment/p_varA)               \n",
    "#         else:\n",
    "#             log_lambda_xi = np.log((1-p_treatment)/(1-p_varA))\n",
    "\n",
    "#         log_lambda_n += log_lambda_xi\n",
    "        \n",
    "        \n",
    "#         # check if log_lambda_n is out of bounds\n",
    "#         if log_lambda_n > upper_bound: # Accept H1\n",
    "#             number_of_success += 1\n",
    "#             break \n",
    "        \n",
    "#         elif log_lambda_n < lower_bound: # Accept H0\n",
    "#             break\n",
    "            \n",
    "#     list_of_trials.append(i+1) # record the number of iterations required to stop test \n",
    "    \n",
    "# print(\"Success rate is {}%\".format(number_of_success/n_trials*100))"
   ]
  },
  {
   "cell_type": "code",
   "execution_count": 29,
   "metadata": {},
   "outputs": [],
   "source": [
    "# get the avg number of iterations required to stop the test\n",
    "# np.mean(list_of_trials)"
   ]
  },
  {
   "cell_type": "code",
   "execution_count": 30,
   "metadata": {},
   "outputs": [],
   "source": [
    "# examine the list of trial number \n",
    "# list_of_trials"
   ]
  },
  {
   "cell_type": "markdown",
   "metadata": {},
   "source": [
    "# 2 Customer segmentation"
   ]
  },
  {
   "cell_type": "code",
   "execution_count": 31,
   "metadata": {
    "scrolled": true
   },
   "outputs": [
    {
     "data": {
      "text/plain": [
       "'\\nCustomer segmentation to help the marketing team design acquisition strategies\\nsupporting the Executive team’s growth objective\\n'"
      ]
     },
     "execution_count": 31,
     "metadata": {},
     "output_type": "execute_result"
    }
   ],
   "source": [
    "'''\n",
    "Customer segmentation to help the marketing team design acquisition strategies\n",
    "supporting the Executive team’s growth objective\n",
    "'''"
   ]
  },
  {
   "cell_type": "code",
   "execution_count": 32,
   "metadata": {},
   "outputs": [
    {
     "name": "stdout",
     "output_type": "stream",
     "text": [
      "<class 'pandas.core.frame.DataFrame'>\n",
      "Int64Index: 2585724 entries, 0 to 2585723\n",
      "Data columns (total 37 columns):\n",
      " #   Column                           Dtype         \n",
      "---  ------                           -----         \n",
      " 0   subid                            int64         \n",
      " 1   date                             datetime64[ns]\n",
      " 2   app_opens                        float64       \n",
      " 3   cust_service_mssgs               float64       \n",
      " 4   num_videos_completed             float64       \n",
      " 5   num_videos_more_than_30_seconds  float64       \n",
      " 6   num_videos_rated                 float64       \n",
      " 7   num_series_started               float64       \n",
      " 8   payment_period                   float64       \n",
      " 9   package_type                     object        \n",
      " 10  num_weekly_services_utilized     float64       \n",
      " 11  preferred_genre                  object        \n",
      " 12  intended_use                     object        \n",
      " 13  weekly_consumption_hour          float64       \n",
      " 14  num_ideal_streaming_services     float64       \n",
      " 15  retarget_TF                      bool          \n",
      " 16  age                              float64       \n",
      " 17  male_TF                          object        \n",
      " 18  country                          object        \n",
      " 19  attribution_technical            object        \n",
      " 20  attribution_survey               object        \n",
      " 21  op_sys                           object        \n",
      " 22  months_per_bill_period           int64         \n",
      " 23  plan_type                        object        \n",
      " 24  monthly_price                    float64       \n",
      " 25  discount_price                   float64       \n",
      " 26  account_creation_date            datetime64[ns]\n",
      " 27  creation_until_cancel_days       float64       \n",
      " 28  cancel_before_trial_end          bool          \n",
      " 29  trial_end_date                   datetime64[ns]\n",
      " 30  initial_credit_card_declined     bool          \n",
      " 31  revenue_net                      float64       \n",
      " 32  join_fee                         float64       \n",
      " 33  language                         object        \n",
      " 34  paid_TF                          bool          \n",
      " 35  refund_after_trial_TF            bool          \n",
      " 36  payment_type                     object        \n",
      "dtypes: bool(5), datetime64[ns](3), float64(16), int64(2), object(11)\n",
      "memory usage: 663.3+ MB\n"
     ]
    }
   ],
   "source": [
    "# data :  subscribers \n",
    "# step\n",
    "df = engagement.copy()\n",
    "# add other dataframe\n",
    "df = pd.DataFrame.merge(df,subscribers, on = ['subid'])\n",
    "df.info()"
   ]
  },
  {
   "cell_type": "code",
   "execution_count": 33,
   "metadata": {},
   "outputs": [],
   "source": [
    "df['Day of Week'] = df['account_creation_date'].dt.dayofweek\n",
    "df['Day of Week'] = df['Day of Week'].astype(str)"
   ]
  },
  {
   "cell_type": "code",
   "execution_count": 34,
   "metadata": {},
   "outputs": [],
   "source": [
    "# create weekend weekday labels\n",
    "def weekday(day):\n",
    "    day = int(day)\n",
    "    if day in [5,6]:\n",
    "        return(\"Weekend\")\n",
    "    else: return(\"Weekday\")"
   ]
  },
  {
   "cell_type": "code",
   "execution_count": 35,
   "metadata": {},
   "outputs": [],
   "source": [
    "df['Day of Week'] =df['Day of Week'].apply(weekday)"
   ]
  },
  {
   "cell_type": "code",
   "execution_count": 36,
   "metadata": {},
   "outputs": [],
   "source": [
    "df['preferred_genre'] = df['preferred_genre'].astype(str)\n",
    "df['package_type'] = df['package_type'].astype(str)\n",
    "df['intended_use'] = df['intended_use'].astype(str)\n",
    "df['op_sys'] = df['op_sys'].astype(str)\n",
    "df['payment_type'] = df['payment_type'].astype(str)\n",
    "df['op_sys'] = df['op_sys'].astype(str)"
   ]
  },
  {
   "cell_type": "code",
   "execution_count": 37,
   "metadata": {
    "scrolled": true
   },
   "outputs": [
    {
     "data": {
      "text/plain": [
       "array(['Apple Pay', 'CBD', 'Najim', 'Paypal', 'RAKBANK',\n",
       "       'Standard Charter', 'nan'], dtype=object)"
      ]
     },
     "execution_count": 37,
     "metadata": {},
     "output_type": "execute_result"
    }
   ],
   "source": [
    "np.unique(df['payment_type'])"
   ]
  },
  {
   "cell_type": "code",
   "execution_count": 38,
   "metadata": {},
   "outputs": [
    {
     "data": {
      "text/plain": [
       "Index(['subid', 'date', 'app_opens', 'cust_service_mssgs',\n",
       "       'num_videos_completed', 'num_videos_more_than_30_seconds',\n",
       "       'num_videos_rated', 'num_series_started', 'payment_period',\n",
       "       'package_type', 'num_weekly_services_utilized', 'preferred_genre',\n",
       "       'intended_use', 'weekly_consumption_hour',\n",
       "       'num_ideal_streaming_services', 'retarget_TF', 'age', 'male_TF',\n",
       "       'country', 'attribution_technical', 'attribution_survey', 'op_sys',\n",
       "       'months_per_bill_period', 'plan_type', 'monthly_price',\n",
       "       'discount_price', 'account_creation_date', 'creation_until_cancel_days',\n",
       "       'cancel_before_trial_end', 'trial_end_date',\n",
       "       'initial_credit_card_declined', 'revenue_net', 'join_fee', 'language',\n",
       "       'paid_TF', 'refund_after_trial_TF', 'payment_type', 'Day of Week'],\n",
       "      dtype='object')"
      ]
     },
     "execution_count": 38,
     "metadata": {},
     "output_type": "execute_result"
    }
   ],
   "source": [
    "df.columns"
   ]
  },
  {
   "cell_type": "code",
   "execution_count": 39,
   "metadata": {},
   "outputs": [],
   "source": [
    "# to drop the useless\n",
    "df = df.dropna()\n",
    "id_col = df['subid']\n",
    "df = df.drop(columns=['subid','date','app_opens','num_videos_more_than_30_seconds','num_series_started',\n",
    "                     'payment_period','num_weekly_services_utilized','country','op_sys','attribution_survey',\n",
    "                     'months_per_bill_period','account_creation_date','creation_until_cancel_days','trial_end_date',\n",
    "                     'language','join_fee'])"
   ]
  },
  {
   "cell_type": "code",
   "execution_count": 40,
   "metadata": {},
   "outputs": [
    {
     "data": {
      "text/plain": [
       "Index(['cust_service_mssgs', 'num_videos_completed', 'num_videos_rated',\n",
       "       'package_type', 'preferred_genre', 'intended_use',\n",
       "       'weekly_consumption_hour', 'num_ideal_streaming_services',\n",
       "       'retarget_TF', 'age', 'male_TF', 'attribution_technical', 'plan_type',\n",
       "       'monthly_price', 'discount_price', 'cancel_before_trial_end',\n",
       "       'initial_credit_card_declined', 'revenue_net', 'paid_TF',\n",
       "       'refund_after_trial_TF', 'payment_type', 'Day of Week'],\n",
       "      dtype='object')"
      ]
     },
     "execution_count": 40,
     "metadata": {},
     "output_type": "execute_result"
    }
   ],
   "source": [
    "df.columns"
   ]
  },
  {
   "cell_type": "code",
   "execution_count": 41,
   "metadata": {
    "scrolled": false
   },
   "outputs": [
    {
     "data": {
      "text/html": [
       "<div>\n",
       "<style scoped>\n",
       "    .dataframe tbody tr th:only-of-type {\n",
       "        vertical-align: middle;\n",
       "    }\n",
       "\n",
       "    .dataframe tbody tr th {\n",
       "        vertical-align: top;\n",
       "    }\n",
       "\n",
       "    .dataframe thead th {\n",
       "        text-align: right;\n",
       "    }\n",
       "</style>\n",
       "<table border=\"1\" class=\"dataframe\">\n",
       "  <thead>\n",
       "    <tr style=\"text-align: right;\">\n",
       "      <th></th>\n",
       "      <th>cust_service_mssgs</th>\n",
       "      <th>num_videos_completed</th>\n",
       "      <th>num_videos_rated</th>\n",
       "      <th>package_type</th>\n",
       "      <th>preferred_genre</th>\n",
       "      <th>intended_use</th>\n",
       "      <th>weekly_consumption_hour</th>\n",
       "      <th>num_ideal_streaming_services</th>\n",
       "      <th>retarget_TF</th>\n",
       "      <th>age</th>\n",
       "      <th>...</th>\n",
       "      <th>plan_type</th>\n",
       "      <th>monthly_price</th>\n",
       "      <th>discount_price</th>\n",
       "      <th>cancel_before_trial_end</th>\n",
       "      <th>initial_credit_card_declined</th>\n",
       "      <th>revenue_net</th>\n",
       "      <th>paid_TF</th>\n",
       "      <th>refund_after_trial_TF</th>\n",
       "      <th>payment_type</th>\n",
       "      <th>Day of Week</th>\n",
       "    </tr>\n",
       "  </thead>\n",
       "  <tbody>\n",
       "    <tr>\n",
       "      <th>3</th>\n",
       "      <td>0.0</td>\n",
       "      <td>7.0</td>\n",
       "      <td>0.0</td>\n",
       "      <td>nan</td>\n",
       "      <td>nan</td>\n",
       "      <td>expand regional access</td>\n",
       "      <td>20.051667</td>\n",
       "      <td>1.919271</td>\n",
       "      <td>False</td>\n",
       "      <td>29.0</td>\n",
       "      <td>...</td>\n",
       "      <td>base_uae_14_day_trial</td>\n",
       "      <td>4.7343</td>\n",
       "      <td>4.5141</td>\n",
       "      <td>False</td>\n",
       "      <td>False</td>\n",
       "      <td>0.0</td>\n",
       "      <td>False</td>\n",
       "      <td>False</td>\n",
       "      <td>nan</td>\n",
       "      <td>Weekday</td>\n",
       "    </tr>\n",
       "    <tr>\n",
       "      <th>4</th>\n",
       "      <td>1.0</td>\n",
       "      <td>6.0</td>\n",
       "      <td>0.0</td>\n",
       "      <td>nan</td>\n",
       "      <td>nan</td>\n",
       "      <td>expand regional access</td>\n",
       "      <td>20.051667</td>\n",
       "      <td>1.919271</td>\n",
       "      <td>False</td>\n",
       "      <td>29.0</td>\n",
       "      <td>...</td>\n",
       "      <td>base_uae_14_day_trial</td>\n",
       "      <td>4.7343</td>\n",
       "      <td>4.5141</td>\n",
       "      <td>False</td>\n",
       "      <td>False</td>\n",
       "      <td>0.0</td>\n",
       "      <td>False</td>\n",
       "      <td>False</td>\n",
       "      <td>nan</td>\n",
       "      <td>Weekday</td>\n",
       "    </tr>\n",
       "    <tr>\n",
       "      <th>5</th>\n",
       "      <td>1.0</td>\n",
       "      <td>5.0</td>\n",
       "      <td>0.0</td>\n",
       "      <td>nan</td>\n",
       "      <td>nan</td>\n",
       "      <td>expand regional access</td>\n",
       "      <td>20.051667</td>\n",
       "      <td>1.919271</td>\n",
       "      <td>False</td>\n",
       "      <td>29.0</td>\n",
       "      <td>...</td>\n",
       "      <td>base_uae_14_day_trial</td>\n",
       "      <td>4.7343</td>\n",
       "      <td>4.5141</td>\n",
       "      <td>False</td>\n",
       "      <td>False</td>\n",
       "      <td>0.0</td>\n",
       "      <td>False</td>\n",
       "      <td>False</td>\n",
       "      <td>nan</td>\n",
       "      <td>Weekday</td>\n",
       "    </tr>\n",
       "    <tr>\n",
       "      <th>6</th>\n",
       "      <td>0.0</td>\n",
       "      <td>5.0</td>\n",
       "      <td>0.0</td>\n",
       "      <td>nan</td>\n",
       "      <td>nan</td>\n",
       "      <td>expand regional access</td>\n",
       "      <td>20.051667</td>\n",
       "      <td>1.919271</td>\n",
       "      <td>False</td>\n",
       "      <td>29.0</td>\n",
       "      <td>...</td>\n",
       "      <td>base_uae_14_day_trial</td>\n",
       "      <td>4.7343</td>\n",
       "      <td>4.5141</td>\n",
       "      <td>False</td>\n",
       "      <td>False</td>\n",
       "      <td>0.0</td>\n",
       "      <td>False</td>\n",
       "      <td>False</td>\n",
       "      <td>nan</td>\n",
       "      <td>Weekday</td>\n",
       "    </tr>\n",
       "    <tr>\n",
       "      <th>7</th>\n",
       "      <td>0.0</td>\n",
       "      <td>4.0</td>\n",
       "      <td>0.0</td>\n",
       "      <td>nan</td>\n",
       "      <td>nan</td>\n",
       "      <td>expand regional access</td>\n",
       "      <td>20.051667</td>\n",
       "      <td>1.919271</td>\n",
       "      <td>False</td>\n",
       "      <td>29.0</td>\n",
       "      <td>...</td>\n",
       "      <td>base_uae_14_day_trial</td>\n",
       "      <td>4.7343</td>\n",
       "      <td>4.5141</td>\n",
       "      <td>False</td>\n",
       "      <td>False</td>\n",
       "      <td>0.0</td>\n",
       "      <td>False</td>\n",
       "      <td>False</td>\n",
       "      <td>nan</td>\n",
       "      <td>Weekday</td>\n",
       "    </tr>\n",
       "  </tbody>\n",
       "</table>\n",
       "<p>5 rows × 22 columns</p>\n",
       "</div>"
      ],
      "text/plain": [
       "   cust_service_mssgs  num_videos_completed  num_videos_rated package_type  \\\n",
       "3                 0.0                   7.0               0.0          nan   \n",
       "4                 1.0                   6.0               0.0          nan   \n",
       "5                 1.0                   5.0               0.0          nan   \n",
       "6                 0.0                   5.0               0.0          nan   \n",
       "7                 0.0                   4.0               0.0          nan   \n",
       "\n",
       "  preferred_genre            intended_use  weekly_consumption_hour  \\\n",
       "3             nan  expand regional access                20.051667   \n",
       "4             nan  expand regional access                20.051667   \n",
       "5             nan  expand regional access                20.051667   \n",
       "6             nan  expand regional access                20.051667   \n",
       "7             nan  expand regional access                20.051667   \n",
       "\n",
       "   num_ideal_streaming_services  retarget_TF   age  ...  \\\n",
       "3                      1.919271        False  29.0  ...   \n",
       "4                      1.919271        False  29.0  ...   \n",
       "5                      1.919271        False  29.0  ...   \n",
       "6                      1.919271        False  29.0  ...   \n",
       "7                      1.919271        False  29.0  ...   \n",
       "\n",
       "               plan_type monthly_price discount_price  \\\n",
       "3  base_uae_14_day_trial        4.7343         4.5141   \n",
       "4  base_uae_14_day_trial        4.7343         4.5141   \n",
       "5  base_uae_14_day_trial        4.7343         4.5141   \n",
       "6  base_uae_14_day_trial        4.7343         4.5141   \n",
       "7  base_uae_14_day_trial        4.7343         4.5141   \n",
       "\n",
       "   cancel_before_trial_end  initial_credit_card_declined  revenue_net  \\\n",
       "3                    False                         False          0.0   \n",
       "4                    False                         False          0.0   \n",
       "5                    False                         False          0.0   \n",
       "6                    False                         False          0.0   \n",
       "7                    False                         False          0.0   \n",
       "\n",
       "   paid_TF  refund_after_trial_TF  payment_type  Day of Week  \n",
       "3    False                  False           nan      Weekday  \n",
       "4    False                  False           nan      Weekday  \n",
       "5    False                  False           nan      Weekday  \n",
       "6    False                  False           nan      Weekday  \n",
       "7    False                  False           nan      Weekday  \n",
       "\n",
       "[5 rows x 22 columns]"
      ]
     },
     "execution_count": 41,
     "metadata": {},
     "output_type": "execute_result"
    }
   ],
   "source": [
    "df.head()"
   ]
  },
  {
   "cell_type": "code",
   "execution_count": 42,
   "metadata": {},
   "outputs": [],
   "source": [
    "# transform categorical variables into dummy columns \n",
    "df_new = pd.get_dummies(df)"
   ]
  },
  {
   "cell_type": "code",
   "execution_count": 43,
   "metadata": {},
   "outputs": [
    {
     "data": {
      "text/html": [
       "<div>\n",
       "<style scoped>\n",
       "    .dataframe tbody tr th:only-of-type {\n",
       "        vertical-align: middle;\n",
       "    }\n",
       "\n",
       "    .dataframe tbody tr th {\n",
       "        vertical-align: top;\n",
       "    }\n",
       "\n",
       "    .dataframe thead th {\n",
       "        text-align: right;\n",
       "    }\n",
       "</style>\n",
       "<table border=\"1\" class=\"dataframe\">\n",
       "  <thead>\n",
       "    <tr style=\"text-align: right;\">\n",
       "      <th></th>\n",
       "      <th>cust_service_mssgs</th>\n",
       "      <th>num_videos_completed</th>\n",
       "      <th>num_videos_rated</th>\n",
       "      <th>weekly_consumption_hour</th>\n",
       "      <th>num_ideal_streaming_services</th>\n",
       "      <th>retarget_TF</th>\n",
       "      <th>age</th>\n",
       "      <th>monthly_price</th>\n",
       "      <th>discount_price</th>\n",
       "      <th>cancel_before_trial_end</th>\n",
       "      <th>...</th>\n",
       "      <th>plan_type_high_uae_14_day_trial</th>\n",
       "      <th>plan_type_low_gbp_14_day_trial</th>\n",
       "      <th>payment_type_CBD</th>\n",
       "      <th>payment_type_Najim</th>\n",
       "      <th>payment_type_Paypal</th>\n",
       "      <th>payment_type_RAKBANK</th>\n",
       "      <th>payment_type_Standard Charter</th>\n",
       "      <th>payment_type_nan</th>\n",
       "      <th>Day of Week_Weekday</th>\n",
       "      <th>Day of Week_Weekend</th>\n",
       "    </tr>\n",
       "  </thead>\n",
       "  <tbody>\n",
       "    <tr>\n",
       "      <th>3</th>\n",
       "      <td>0.0</td>\n",
       "      <td>7.0</td>\n",
       "      <td>0.0</td>\n",
       "      <td>20.051667</td>\n",
       "      <td>1.919271</td>\n",
       "      <td>False</td>\n",
       "      <td>29.0</td>\n",
       "      <td>4.7343</td>\n",
       "      <td>4.5141</td>\n",
       "      <td>False</td>\n",
       "      <td>...</td>\n",
       "      <td>0</td>\n",
       "      <td>0</td>\n",
       "      <td>0</td>\n",
       "      <td>0</td>\n",
       "      <td>0</td>\n",
       "      <td>0</td>\n",
       "      <td>0</td>\n",
       "      <td>1</td>\n",
       "      <td>1</td>\n",
       "      <td>0</td>\n",
       "    </tr>\n",
       "    <tr>\n",
       "      <th>4</th>\n",
       "      <td>1.0</td>\n",
       "      <td>6.0</td>\n",
       "      <td>0.0</td>\n",
       "      <td>20.051667</td>\n",
       "      <td>1.919271</td>\n",
       "      <td>False</td>\n",
       "      <td>29.0</td>\n",
       "      <td>4.7343</td>\n",
       "      <td>4.5141</td>\n",
       "      <td>False</td>\n",
       "      <td>...</td>\n",
       "      <td>0</td>\n",
       "      <td>0</td>\n",
       "      <td>0</td>\n",
       "      <td>0</td>\n",
       "      <td>0</td>\n",
       "      <td>0</td>\n",
       "      <td>0</td>\n",
       "      <td>1</td>\n",
       "      <td>1</td>\n",
       "      <td>0</td>\n",
       "    </tr>\n",
       "    <tr>\n",
       "      <th>5</th>\n",
       "      <td>1.0</td>\n",
       "      <td>5.0</td>\n",
       "      <td>0.0</td>\n",
       "      <td>20.051667</td>\n",
       "      <td>1.919271</td>\n",
       "      <td>False</td>\n",
       "      <td>29.0</td>\n",
       "      <td>4.7343</td>\n",
       "      <td>4.5141</td>\n",
       "      <td>False</td>\n",
       "      <td>...</td>\n",
       "      <td>0</td>\n",
       "      <td>0</td>\n",
       "      <td>0</td>\n",
       "      <td>0</td>\n",
       "      <td>0</td>\n",
       "      <td>0</td>\n",
       "      <td>0</td>\n",
       "      <td>1</td>\n",
       "      <td>1</td>\n",
       "      <td>0</td>\n",
       "    </tr>\n",
       "    <tr>\n",
       "      <th>6</th>\n",
       "      <td>0.0</td>\n",
       "      <td>5.0</td>\n",
       "      <td>0.0</td>\n",
       "      <td>20.051667</td>\n",
       "      <td>1.919271</td>\n",
       "      <td>False</td>\n",
       "      <td>29.0</td>\n",
       "      <td>4.7343</td>\n",
       "      <td>4.5141</td>\n",
       "      <td>False</td>\n",
       "      <td>...</td>\n",
       "      <td>0</td>\n",
       "      <td>0</td>\n",
       "      <td>0</td>\n",
       "      <td>0</td>\n",
       "      <td>0</td>\n",
       "      <td>0</td>\n",
       "      <td>0</td>\n",
       "      <td>1</td>\n",
       "      <td>1</td>\n",
       "      <td>0</td>\n",
       "    </tr>\n",
       "    <tr>\n",
       "      <th>7</th>\n",
       "      <td>0.0</td>\n",
       "      <td>4.0</td>\n",
       "      <td>0.0</td>\n",
       "      <td>20.051667</td>\n",
       "      <td>1.919271</td>\n",
       "      <td>False</td>\n",
       "      <td>29.0</td>\n",
       "      <td>4.7343</td>\n",
       "      <td>4.5141</td>\n",
       "      <td>False</td>\n",
       "      <td>...</td>\n",
       "      <td>0</td>\n",
       "      <td>0</td>\n",
       "      <td>0</td>\n",
       "      <td>0</td>\n",
       "      <td>0</td>\n",
       "      <td>0</td>\n",
       "      <td>0</td>\n",
       "      <td>1</td>\n",
       "      <td>1</td>\n",
       "      <td>0</td>\n",
       "    </tr>\n",
       "  </tbody>\n",
       "</table>\n",
       "<p>5 rows × 79 columns</p>\n",
       "</div>"
      ],
      "text/plain": [
       "   cust_service_mssgs  num_videos_completed  num_videos_rated  \\\n",
       "3                 0.0                   7.0               0.0   \n",
       "4                 1.0                   6.0               0.0   \n",
       "5                 1.0                   5.0               0.0   \n",
       "6                 0.0                   5.0               0.0   \n",
       "7                 0.0                   4.0               0.0   \n",
       "\n",
       "   weekly_consumption_hour  num_ideal_streaming_services  retarget_TF   age  \\\n",
       "3                20.051667                      1.919271        False  29.0   \n",
       "4                20.051667                      1.919271        False  29.0   \n",
       "5                20.051667                      1.919271        False  29.0   \n",
       "6                20.051667                      1.919271        False  29.0   \n",
       "7                20.051667                      1.919271        False  29.0   \n",
       "\n",
       "   monthly_price  discount_price  cancel_before_trial_end  ...  \\\n",
       "3         4.7343          4.5141                    False  ...   \n",
       "4         4.7343          4.5141                    False  ...   \n",
       "5         4.7343          4.5141                    False  ...   \n",
       "6         4.7343          4.5141                    False  ...   \n",
       "7         4.7343          4.5141                    False  ...   \n",
       "\n",
       "   plan_type_high_uae_14_day_trial  plan_type_low_gbp_14_day_trial  \\\n",
       "3                                0                               0   \n",
       "4                                0                               0   \n",
       "5                                0                               0   \n",
       "6                                0                               0   \n",
       "7                                0                               0   \n",
       "\n",
       "   payment_type_CBD  payment_type_Najim  payment_type_Paypal  \\\n",
       "3                 0                   0                    0   \n",
       "4                 0                   0                    0   \n",
       "5                 0                   0                    0   \n",
       "6                 0                   0                    0   \n",
       "7                 0                   0                    0   \n",
       "\n",
       "   payment_type_RAKBANK  payment_type_Standard Charter  payment_type_nan  \\\n",
       "3                     0                              0                 1   \n",
       "4                     0                              0                 1   \n",
       "5                     0                              0                 1   \n",
       "6                     0                              0                 1   \n",
       "7                     0                              0                 1   \n",
       "\n",
       "   Day of Week_Weekday  Day of Week_Weekend  \n",
       "3                    1                    0  \n",
       "4                    1                    0  \n",
       "5                    1                    0  \n",
       "6                    1                    0  \n",
       "7                    1                    0  \n",
       "\n",
       "[5 rows x 79 columns]"
      ]
     },
     "execution_count": 43,
     "metadata": {},
     "output_type": "execute_result"
    }
   ],
   "source": [
    "df_new.head()"
   ]
  },
  {
   "cell_type": "code",
   "execution_count": 44,
   "metadata": {},
   "outputs": [],
   "source": [
    "# split data \n",
    "from sklearn.model_selection import train_test_split\n",
    "\n",
    "train, test = train_test_split(df_new, test_size=0.33, random_state=42)\n",
    "\n",
    "# scale data after splitting (fit using training set)\n",
    "from sklearn.preprocessing import MinMaxScaler\n",
    "\n",
    "scaler = MinMaxScaler()\n",
    "\n",
    "X1 = scaler.fit_transform(train)\n",
    "X2 = scaler.transform(test)\n",
    "\n",
    "X = scaler.transform(df_new)"
   ]
  },
  {
   "cell_type": "code",
   "execution_count": 45,
   "metadata": {},
   "outputs": [
    {
     "data": {
      "text/plain": [
       "339305"
      ]
     },
     "execution_count": 45,
     "metadata": {},
     "output_type": "execute_result"
    }
   ],
   "source": [
    "len(X1)"
   ]
  },
  {
   "cell_type": "code",
   "execution_count": 46,
   "metadata": {},
   "outputs": [
    {
     "data": {
      "text/plain": [
       "167121"
      ]
     },
     "execution_count": 46,
     "metadata": {},
     "output_type": "execute_result"
    }
   ],
   "source": [
    "len(X2)"
   ]
  },
  {
   "cell_type": "markdown",
   "metadata": {},
   "source": [
    "##### Training the model"
   ]
  },
  {
   "cell_type": "code",
   "execution_count": 47,
   "metadata": {},
   "outputs": [
    {
     "data": {
      "image/png": "[encoded data removed]",
      "text/plain": [
       "<Figure size 432x288 with 1 Axes>"
      ]
     },
     "metadata": {
      "needs_background": "light"
     },
     "output_type": "display_data"
    }
   ],
   "source": [
    "\n",
    "from sklearn.cluster import KMeans\n",
    "# use the elbow method\n",
    "\n",
    "# calculate distortion for a range of number of cluster\n",
    "distortions = []\n",
    "for i in range(1, 11):\n",
    "    km = KMeans(\n",
    "        n_clusters=i, init='random',\n",
    "        n_init=10, max_iter=300,\n",
    "        tol=1e-04, random_state=0\n",
    "    )\n",
    "    km.fit(X1)\n",
    "    distortions.append(km.inertia_)\n",
    "\n",
    "# plot\n",
    "plt.plot(range(1, 11), distortions, marker='o')\n",
    "plt.xlabel('Number of clusters')\n",
    "plt.ylabel('Distortion')\n",
    "plt.show()"
   ]
  },
  {
   "cell_type": "code",
   "execution_count": 48,
   "metadata": {},
   "outputs": [],
   "source": [
    "# use our optimal k\n",
    "km = KMeans(\n",
    "    n_clusters=4, init='random',\n",
    "    n_init=10, max_iter=300, \n",
    "    tol=1e-04, random_state=0\n",
    ")\n",
    "y1 = km.fit_predict(X1)\n",
    "y2 = km.predict(X2)\n",
    "y_km = km.predict(X)"
   ]
  },
  {
   "cell_type": "code",
   "execution_count": 49,
   "metadata": {},
   "outputs": [],
   "source": [
    "# assign the split dataframes back to dataframe\n",
    "train = pd.DataFrame(train,columns=df_new.columns)\n",
    "test = pd.DataFrame(test,columns=df_new.columns)"
   ]
  },
  {
   "cell_type": "code",
   "execution_count": 50,
   "metadata": {},
   "outputs": [],
   "source": [
    "# assign results back to the dataframes\n",
    "train['Cluster'] = y1\n",
    "test['Cluster'] = y2"
   ]
  },
  {
   "cell_type": "markdown",
   "metadata": {},
   "source": [
    "##### Evaluate Results"
   ]
  },
  {
   "cell_type": "code",
   "execution_count": 51,
   "metadata": {},
   "outputs": [
    {
     "data": {
      "text/html": [
       "<div>\n",
       "<style scoped>\n",
       "    .dataframe tbody tr th:only-of-type {\n",
       "        vertical-align: middle;\n",
       "    }\n",
       "\n",
       "    .dataframe tbody tr th {\n",
       "        vertical-align: top;\n",
       "    }\n",
       "\n",
       "    .dataframe thead th {\n",
       "        text-align: right;\n",
       "    }\n",
       "</style>\n",
       "<table border=\"1\" class=\"dataframe\">\n",
       "  <thead>\n",
       "    <tr style=\"text-align: right;\">\n",
       "      <th></th>\n",
       "      <th>cust_service_mssgs</th>\n",
       "      <th>num_videos_completed</th>\n",
       "      <th>num_videos_rated</th>\n",
       "      <th>weekly_consumption_hour</th>\n",
       "      <th>num_ideal_streaming_services</th>\n",
       "      <th>retarget_TF</th>\n",
       "      <th>age</th>\n",
       "      <th>monthly_price</th>\n",
       "      <th>discount_price</th>\n",
       "      <th>cancel_before_trial_end</th>\n",
       "      <th>...</th>\n",
       "      <th>plan_type_high_uae_14_day_trial</th>\n",
       "      <th>plan_type_low_gbp_14_day_trial</th>\n",
       "      <th>payment_type_CBD</th>\n",
       "      <th>payment_type_Najim</th>\n",
       "      <th>payment_type_Paypal</th>\n",
       "      <th>payment_type_RAKBANK</th>\n",
       "      <th>payment_type_Standard Charter</th>\n",
       "      <th>payment_type_nan</th>\n",
       "      <th>Day of Week_Weekday</th>\n",
       "      <th>Day of Week_Weekend</th>\n",
       "    </tr>\n",
       "    <tr>\n",
       "      <th>Cluster</th>\n",
       "      <th></th>\n",
       "      <th></th>\n",
       "      <th></th>\n",
       "      <th></th>\n",
       "      <th></th>\n",
       "      <th></th>\n",
       "      <th></th>\n",
       "      <th></th>\n",
       "      <th></th>\n",
       "      <th></th>\n",
       "      <th></th>\n",
       "      <th></th>\n",
       "      <th></th>\n",
       "      <th></th>\n",
       "      <th></th>\n",
       "      <th></th>\n",
       "      <th></th>\n",
       "      <th></th>\n",
       "      <th></th>\n",
       "      <th></th>\n",
       "      <th></th>\n",
       "    </tr>\n",
       "  </thead>\n",
       "  <tbody>\n",
       "    <tr>\n",
       "      <th>0</th>\n",
       "      <td>0.371215</td>\n",
       "      <td>2.622366</td>\n",
       "      <td>0.068222</td>\n",
       "      <td>28.248319</td>\n",
       "      <td>1.993285</td>\n",
       "      <td>0.043429</td>\n",
       "      <td>54.376742</td>\n",
       "      <td>4.735709</td>\n",
       "      <td>4.516078</td>\n",
       "      <td>1.000000</td>\n",
       "      <td>...</td>\n",
       "      <td>0.003878</td>\n",
       "      <td>0.000000</td>\n",
       "      <td>0.047784</td>\n",
       "      <td>0.0249</td>\n",
       "      <td>0.329694</td>\n",
       "      <td>0.173074</td>\n",
       "      <td>0.424547</td>\n",
       "      <td>0.0</td>\n",
       "      <td>0.693118</td>\n",
       "      <td>0.306882</td>\n",
       "    </tr>\n",
       "    <tr>\n",
       "      <th>1</th>\n",
       "      <td>0.588555</td>\n",
       "      <td>3.047419</td>\n",
       "      <td>0.000455</td>\n",
       "      <td>27.691068</td>\n",
       "      <td>2.004291</td>\n",
       "      <td>0.031906</td>\n",
       "      <td>156.264657</td>\n",
       "      <td>4.735020</td>\n",
       "      <td>4.515115</td>\n",
       "      <td>0.079188</td>\n",
       "      <td>...</td>\n",
       "      <td>0.002039</td>\n",
       "      <td>0.000023</td>\n",
       "      <td>0.000000</td>\n",
       "      <td>0.0000</td>\n",
       "      <td>0.000000</td>\n",
       "      <td>0.000000</td>\n",
       "      <td>0.000000</td>\n",
       "      <td>1.0</td>\n",
       "      <td>0.693085</td>\n",
       "      <td>0.306915</td>\n",
       "    </tr>\n",
       "    <tr>\n",
       "      <th>2</th>\n",
       "      <td>0.565011</td>\n",
       "      <td>2.998339</td>\n",
       "      <td>0.000853</td>\n",
       "      <td>27.497740</td>\n",
       "      <td>2.008992</td>\n",
       "      <td>0.022537</td>\n",
       "      <td>1460.601364</td>\n",
       "      <td>4.734220</td>\n",
       "      <td>4.514004</td>\n",
       "      <td>0.094697</td>\n",
       "      <td>...</td>\n",
       "      <td>0.000000</td>\n",
       "      <td>0.000000</td>\n",
       "      <td>0.000000</td>\n",
       "      <td>0.0000</td>\n",
       "      <td>0.000000</td>\n",
       "      <td>0.000000</td>\n",
       "      <td>0.000000</td>\n",
       "      <td>1.0</td>\n",
       "      <td>0.697919</td>\n",
       "      <td>0.302081</td>\n",
       "    </tr>\n",
       "    <tr>\n",
       "      <th>3</th>\n",
       "      <td>0.580952</td>\n",
       "      <td>3.001465</td>\n",
       "      <td>0.000411</td>\n",
       "      <td>27.758114</td>\n",
       "      <td>1.983040</td>\n",
       "      <td>0.036469</td>\n",
       "      <td>71.352461</td>\n",
       "      <td>4.735328</td>\n",
       "      <td>4.515561</td>\n",
       "      <td>0.073670</td>\n",
       "      <td>...</td>\n",
       "      <td>0.002982</td>\n",
       "      <td>0.000000</td>\n",
       "      <td>0.000000</td>\n",
       "      <td>0.0000</td>\n",
       "      <td>0.000000</td>\n",
       "      <td>0.000000</td>\n",
       "      <td>0.000000</td>\n",
       "      <td>1.0</td>\n",
       "      <td>0.694407</td>\n",
       "      <td>0.305593</td>\n",
       "    </tr>\n",
       "  </tbody>\n",
       "</table>\n",
       "<p>4 rows × 79 columns</p>\n",
       "</div>"
      ],
      "text/plain": [
       "         cust_service_mssgs  num_videos_completed  num_videos_rated  \\\n",
       "Cluster                                                               \n",
       "0                  0.371215              2.622366          0.068222   \n",
       "1                  0.588555              3.047419          0.000455   \n",
       "2                  0.565011              2.998339          0.000853   \n",
       "3                  0.580952              3.001465          0.000411   \n",
       "\n",
       "         weekly_consumption_hour  num_ideal_streaming_services  retarget_TF  \\\n",
       "Cluster                                                                       \n",
       "0                      28.248319                      1.993285     0.043429   \n",
       "1                      27.691068                      2.004291     0.031906   \n",
       "2                      27.497740                      2.008992     0.022537   \n",
       "3                      27.758114                      1.983040     0.036469   \n",
       "\n",
       "                 age  monthly_price  discount_price  cancel_before_trial_end  \\\n",
       "Cluster                                                                        \n",
       "0          54.376742       4.735709        4.516078                 1.000000   \n",
       "1         156.264657       4.735020        4.515115                 0.079188   \n",
       "2        1460.601364       4.734220        4.514004                 0.094697   \n",
       "3          71.352461       4.735328        4.515561                 0.073670   \n",
       "\n",
       "         ...  plan_type_high_uae_14_day_trial  plan_type_low_gbp_14_day_trial  \\\n",
       "Cluster  ...                                                                    \n",
       "0        ...                         0.003878                        0.000000   \n",
       "1        ...                         0.002039                        0.000023   \n",
       "2        ...                         0.000000                        0.000000   \n",
       "3        ...                         0.002982                        0.000000   \n",
       "\n",
       "         payment_type_CBD  payment_type_Najim  payment_type_Paypal  \\\n",
       "Cluster                                                              \n",
       "0                0.047784              0.0249             0.329694   \n",
       "1                0.000000              0.0000             0.000000   \n",
       "2                0.000000              0.0000             0.000000   \n",
       "3                0.000000              0.0000             0.000000   \n",
       "\n",
       "         payment_type_RAKBANK  payment_type_Standard Charter  \\\n",
       "Cluster                                                        \n",
       "0                    0.173074                       0.424547   \n",
       "1                    0.000000                       0.000000   \n",
       "2                    0.000000                       0.000000   \n",
       "3                    0.000000                       0.000000   \n",
       "\n",
       "         payment_type_nan  Day of Week_Weekday  Day of Week_Weekend  \n",
       "Cluster                                                              \n",
       "0                     0.0             0.693118             0.306882  \n",
       "1                     1.0             0.693085             0.306915  \n",
       "2                     1.0             0.697919             0.302081  \n",
       "3                     1.0             0.694407             0.305593  \n",
       "\n",
       "[4 rows x 79 columns]"
      ]
     },
     "execution_count": 51,
     "metadata": {},
     "output_type": "execute_result"
    }
   ],
   "source": [
    "# check out the train clusters\n",
    "\n",
    "train.groupby(by='Cluster').mean()"
   ]
  },
  {
   "cell_type": "code",
   "execution_count": 52,
   "metadata": {},
   "outputs": [
    {
     "data": {
      "text/html": [
       "<div>\n",
       "<style scoped>\n",
       "    .dataframe tbody tr th:only-of-type {\n",
       "        vertical-align: middle;\n",
       "    }\n",
       "\n",
       "    .dataframe tbody tr th {\n",
       "        vertical-align: top;\n",
       "    }\n",
       "\n",
       "    .dataframe thead th {\n",
       "        text-align: right;\n",
       "    }\n",
       "</style>\n",
       "<table border=\"1\" class=\"dataframe\">\n",
       "  <thead>\n",
       "    <tr style=\"text-align: right;\">\n",
       "      <th></th>\n",
       "      <th>cust_service_mssgs</th>\n",
       "      <th>num_videos_completed</th>\n",
       "      <th>num_videos_rated</th>\n",
       "      <th>weekly_consumption_hour</th>\n",
       "      <th>num_ideal_streaming_services</th>\n",
       "      <th>retarget_TF</th>\n",
       "      <th>age</th>\n",
       "      <th>monthly_price</th>\n",
       "      <th>discount_price</th>\n",
       "      <th>cancel_before_trial_end</th>\n",
       "      <th>...</th>\n",
       "      <th>plan_type_high_uae_14_day_trial</th>\n",
       "      <th>plan_type_low_gbp_14_day_trial</th>\n",
       "      <th>payment_type_CBD</th>\n",
       "      <th>payment_type_Najim</th>\n",
       "      <th>payment_type_Paypal</th>\n",
       "      <th>payment_type_RAKBANK</th>\n",
       "      <th>payment_type_Standard Charter</th>\n",
       "      <th>payment_type_nan</th>\n",
       "      <th>Day of Week_Weekday</th>\n",
       "      <th>Day of Week_Weekend</th>\n",
       "    </tr>\n",
       "    <tr>\n",
       "      <th>Cluster</th>\n",
       "      <th></th>\n",
       "      <th></th>\n",
       "      <th></th>\n",
       "      <th></th>\n",
       "      <th></th>\n",
       "      <th></th>\n",
       "      <th></th>\n",
       "      <th></th>\n",
       "      <th></th>\n",
       "      <th></th>\n",
       "      <th></th>\n",
       "      <th></th>\n",
       "      <th></th>\n",
       "      <th></th>\n",
       "      <th></th>\n",
       "      <th></th>\n",
       "      <th></th>\n",
       "      <th></th>\n",
       "      <th></th>\n",
       "      <th></th>\n",
       "      <th></th>\n",
       "    </tr>\n",
       "  </thead>\n",
       "  <tbody>\n",
       "    <tr>\n",
       "      <th>0</th>\n",
       "      <td>0.375441</td>\n",
       "      <td>2.622361</td>\n",
       "      <td>0.068851</td>\n",
       "      <td>28.264062</td>\n",
       "      <td>1.995518</td>\n",
       "      <td>0.044548</td>\n",
       "      <td>54.701405</td>\n",
       "      <td>4.735774</td>\n",
       "      <td>4.516166</td>\n",
       "      <td>1.000000</td>\n",
       "      <td>...</td>\n",
       "      <td>0.004034</td>\n",
       "      <td>0.000000</td>\n",
       "      <td>0.049403</td>\n",
       "      <td>0.026091</td>\n",
       "      <td>0.324274</td>\n",
       "      <td>0.171498</td>\n",
       "      <td>0.428734</td>\n",
       "      <td>0.0</td>\n",
       "      <td>0.690728</td>\n",
       "      <td>0.309272</td>\n",
       "    </tr>\n",
       "    <tr>\n",
       "      <th>1</th>\n",
       "      <td>0.592890</td>\n",
       "      <td>3.047724</td>\n",
       "      <td>0.000555</td>\n",
       "      <td>27.694760</td>\n",
       "      <td>2.004963</td>\n",
       "      <td>0.031883</td>\n",
       "      <td>56.493929</td>\n",
       "      <td>4.735018</td>\n",
       "      <td>4.515104</td>\n",
       "      <td>0.080593</td>\n",
       "      <td>...</td>\n",
       "      <td>0.002003</td>\n",
       "      <td>0.000031</td>\n",
       "      <td>0.000000</td>\n",
       "      <td>0.000000</td>\n",
       "      <td>0.000000</td>\n",
       "      <td>0.000000</td>\n",
       "      <td>0.000000</td>\n",
       "      <td>1.0</td>\n",
       "      <td>0.694255</td>\n",
       "      <td>0.305745</td>\n",
       "    </tr>\n",
       "    <tr>\n",
       "      <th>2</th>\n",
       "      <td>0.566764</td>\n",
       "      <td>3.003371</td>\n",
       "      <td>0.000754</td>\n",
       "      <td>27.480007</td>\n",
       "      <td>2.009891</td>\n",
       "      <td>0.023733</td>\n",
       "      <td>1124.002573</td>\n",
       "      <td>4.734153</td>\n",
       "      <td>4.513924</td>\n",
       "      <td>0.095111</td>\n",
       "      <td>...</td>\n",
       "      <td>0.000000</td>\n",
       "      <td>0.000000</td>\n",
       "      <td>0.000000</td>\n",
       "      <td>0.000000</td>\n",
       "      <td>0.000000</td>\n",
       "      <td>0.000000</td>\n",
       "      <td>0.000000</td>\n",
       "      <td>1.0</td>\n",
       "      <td>0.699006</td>\n",
       "      <td>0.300994</td>\n",
       "    </tr>\n",
       "    <tr>\n",
       "      <th>3</th>\n",
       "      <td>0.578491</td>\n",
       "      <td>3.020475</td>\n",
       "      <td>0.000679</td>\n",
       "      <td>27.725897</td>\n",
       "      <td>1.982208</td>\n",
       "      <td>0.035831</td>\n",
       "      <td>80.031339</td>\n",
       "      <td>4.735435</td>\n",
       "      <td>4.515704</td>\n",
       "      <td>0.073438</td>\n",
       "      <td>...</td>\n",
       "      <td>0.003264</td>\n",
       "      <td>0.000000</td>\n",
       "      <td>0.000000</td>\n",
       "      <td>0.000000</td>\n",
       "      <td>0.000000</td>\n",
       "      <td>0.000000</td>\n",
       "      <td>0.000000</td>\n",
       "      <td>1.0</td>\n",
       "      <td>0.692565</td>\n",
       "      <td>0.307435</td>\n",
       "    </tr>\n",
       "  </tbody>\n",
       "</table>\n",
       "<p>4 rows × 79 columns</p>\n",
       "</div>"
      ],
      "text/plain": [
       "         cust_service_mssgs  num_videos_completed  num_videos_rated  \\\n",
       "Cluster                                                               \n",
       "0                  0.375441              2.622361          0.068851   \n",
       "1                  0.592890              3.047724          0.000555   \n",
       "2                  0.566764              3.003371          0.000754   \n",
       "3                  0.578491              3.020475          0.000679   \n",
       "\n",
       "         weekly_consumption_hour  num_ideal_streaming_services  retarget_TF  \\\n",
       "Cluster                                                                       \n",
       "0                      28.264062                      1.995518     0.044548   \n",
       "1                      27.694760                      2.004963     0.031883   \n",
       "2                      27.480007                      2.009891     0.023733   \n",
       "3                      27.725897                      1.982208     0.035831   \n",
       "\n",
       "                 age  monthly_price  discount_price  cancel_before_trial_end  \\\n",
       "Cluster                                                                        \n",
       "0          54.701405       4.735774        4.516166                 1.000000   \n",
       "1          56.493929       4.735018        4.515104                 0.080593   \n",
       "2        1124.002573       4.734153        4.513924                 0.095111   \n",
       "3          80.031339       4.735435        4.515704                 0.073438   \n",
       "\n",
       "         ...  plan_type_high_uae_14_day_trial  plan_type_low_gbp_14_day_trial  \\\n",
       "Cluster  ...                                                                    \n",
       "0        ...                         0.004034                        0.000000   \n",
       "1        ...                         0.002003                        0.000031   \n",
       "2        ...                         0.000000                        0.000000   \n",
       "3        ...                         0.003264                        0.000000   \n",
       "\n",
       "         payment_type_CBD  payment_type_Najim  payment_type_Paypal  \\\n",
       "Cluster                                                              \n",
       "0                0.049403            0.026091             0.324274   \n",
       "1                0.000000            0.000000             0.000000   \n",
       "2                0.000000            0.000000             0.000000   \n",
       "3                0.000000            0.000000             0.000000   \n",
       "\n",
       "         payment_type_RAKBANK  payment_type_Standard Charter  \\\n",
       "Cluster                                                        \n",
       "0                    0.171498                       0.428734   \n",
       "1                    0.000000                       0.000000   \n",
       "2                    0.000000                       0.000000   \n",
       "3                    0.000000                       0.000000   \n",
       "\n",
       "         payment_type_nan  Day of Week_Weekday  Day of Week_Weekend  \n",
       "Cluster                                                              \n",
       "0                     0.0             0.690728             0.309272  \n",
       "1                     1.0             0.694255             0.305745  \n",
       "2                     1.0             0.699006             0.300994  \n",
       "3                     1.0             0.692565             0.307435  \n",
       "\n",
       "[4 rows x 79 columns]"
      ]
     },
     "execution_count": 52,
     "metadata": {},
     "output_type": "execute_result"
    }
   ],
   "source": [
    "# check out the test clusters\n",
    "\n",
    "test.groupby(by='Cluster').mean()"
   ]
  },
  {
   "cell_type": "code",
   "execution_count": 53,
   "metadata": {},
   "outputs": [
    {
     "name": "stdout",
     "output_type": "stream",
     "text": [
      "Cluster 0 is 4.903568534645413%\n",
      "Cluster 1 is 7.719899721806996%\n"
     ]
    }
   ],
   "source": [
    "# check cluster proportions - train \n",
    "for i in [0,1]:\n",
    "    print(\"Cluster {} is {}%\".format(i,train['Cluster'].value_counts()[i]/17092.45))"
   ]
  },
  {
   "cell_type": "code",
   "execution_count": 54,
   "metadata": {},
   "outputs": [
    {
     "name": "stdout",
     "output_type": "stream",
     "text": [
      "Cluster 0 is 4.916922843011018%\n",
      "Cluster 1 is 7.70833432319556%\n"
     ]
    }
   ],
   "source": [
    "# check cluster proportions - test\n",
    "# for i in [0,1,2]:\n",
    "for i in [0,1]:\n",
    "    print(\"Cluster {} is {}%\".format(i,test['Cluster'].value_counts()[i]/8418.68))"
   ]
  },
  {
   "cell_type": "code",
   "execution_count": 55,
   "metadata": {},
   "outputs": [
    {
     "data": {
      "text/html": [
       "<div>\n",
       "<style scoped>\n",
       "    .dataframe tbody tr th:only-of-type {\n",
       "        vertical-align: middle;\n",
       "    }\n",
       "\n",
       "    .dataframe tbody tr th {\n",
       "        vertical-align: top;\n",
       "    }\n",
       "\n",
       "    .dataframe thead th {\n",
       "        text-align: right;\n",
       "    }\n",
       "</style>\n",
       "<table border=\"1\" class=\"dataframe\">\n",
       "  <thead>\n",
       "    <tr style=\"text-align: right;\">\n",
       "      <th></th>\n",
       "      <th>cust_service_mssgs</th>\n",
       "      <th>num_videos_completed</th>\n",
       "      <th>num_videos_rated</th>\n",
       "      <th>weekly_consumption_hour</th>\n",
       "      <th>num_ideal_streaming_services</th>\n",
       "      <th>retarget_TF</th>\n",
       "      <th>age</th>\n",
       "      <th>monthly_price</th>\n",
       "      <th>discount_price</th>\n",
       "      <th>cancel_before_trial_end</th>\n",
       "      <th>...</th>\n",
       "      <th>plan_type_high_uae_14_day_trial</th>\n",
       "      <th>plan_type_low_gbp_14_day_trial</th>\n",
       "      <th>payment_type_CBD</th>\n",
       "      <th>payment_type_Najim</th>\n",
       "      <th>payment_type_Paypal</th>\n",
       "      <th>payment_type_RAKBANK</th>\n",
       "      <th>payment_type_Standard Charter</th>\n",
       "      <th>payment_type_nan</th>\n",
       "      <th>Day of Week_Weekday</th>\n",
       "      <th>Day of Week_Weekend</th>\n",
       "    </tr>\n",
       "    <tr>\n",
       "      <th>Cluster</th>\n",
       "      <th></th>\n",
       "      <th></th>\n",
       "      <th></th>\n",
       "      <th></th>\n",
       "      <th></th>\n",
       "      <th></th>\n",
       "      <th></th>\n",
       "      <th></th>\n",
       "      <th></th>\n",
       "      <th></th>\n",
       "      <th></th>\n",
       "      <th></th>\n",
       "      <th></th>\n",
       "      <th></th>\n",
       "      <th></th>\n",
       "      <th></th>\n",
       "      <th></th>\n",
       "      <th></th>\n",
       "      <th></th>\n",
       "      <th></th>\n",
       "      <th></th>\n",
       "    </tr>\n",
       "  </thead>\n",
       "  <tbody>\n",
       "    <tr>\n",
       "      <th>0</th>\n",
       "      <td>0.372612</td>\n",
       "      <td>2.622364</td>\n",
       "      <td>0.068430</td>\n",
       "      <td>28.253524</td>\n",
       "      <td>1.994023</td>\n",
       "      <td>0.043799</td>\n",
       "      <td>54.484076</td>\n",
       "      <td>4.735730</td>\n",
       "      <td>4.516107</td>\n",
       "      <td>1.000000</td>\n",
       "      <td>...</td>\n",
       "      <td>0.003929</td>\n",
       "      <td>0.000000</td>\n",
       "      <td>0.04832</td>\n",
       "      <td>0.025294</td>\n",
       "      <td>0.327902</td>\n",
       "      <td>0.172553</td>\n",
       "      <td>0.425931</td>\n",
       "      <td>0.0</td>\n",
       "      <td>0.692328</td>\n",
       "      <td>0.307672</td>\n",
       "    </tr>\n",
       "    <tr>\n",
       "      <th>1</th>\n",
       "      <td>0.589984</td>\n",
       "      <td>3.047519</td>\n",
       "      <td>0.000488</td>\n",
       "      <td>27.692285</td>\n",
       "      <td>2.004512</td>\n",
       "      <td>0.031898</td>\n",
       "      <td>123.373353</td>\n",
       "      <td>4.735020</td>\n",
       "      <td>4.515112</td>\n",
       "      <td>0.079651</td>\n",
       "      <td>...</td>\n",
       "      <td>0.002027</td>\n",
       "      <td>0.000025</td>\n",
       "      <td>0.00000</td>\n",
       "      <td>0.000000</td>\n",
       "      <td>0.000000</td>\n",
       "      <td>0.000000</td>\n",
       "      <td>0.000000</td>\n",
       "      <td>1.0</td>\n",
       "      <td>0.693471</td>\n",
       "      <td>0.306529</td>\n",
       "    </tr>\n",
       "    <tr>\n",
       "      <th>2</th>\n",
       "      <td>0.565590</td>\n",
       "      <td>3.000000</td>\n",
       "      <td>0.000820</td>\n",
       "      <td>27.491887</td>\n",
       "      <td>2.009288</td>\n",
       "      <td>0.022932</td>\n",
       "      <td>1349.489456</td>\n",
       "      <td>4.734198</td>\n",
       "      <td>4.513977</td>\n",
       "      <td>0.094834</td>\n",
       "      <td>...</td>\n",
       "      <td>0.000000</td>\n",
       "      <td>0.000000</td>\n",
       "      <td>0.00000</td>\n",
       "      <td>0.000000</td>\n",
       "      <td>0.000000</td>\n",
       "      <td>0.000000</td>\n",
       "      <td>0.000000</td>\n",
       "      <td>1.0</td>\n",
       "      <td>0.698278</td>\n",
       "      <td>0.301722</td>\n",
       "    </tr>\n",
       "    <tr>\n",
       "      <th>3</th>\n",
       "      <td>0.580140</td>\n",
       "      <td>3.007736</td>\n",
       "      <td>0.000500</td>\n",
       "      <td>27.747487</td>\n",
       "      <td>1.982765</td>\n",
       "      <td>0.036258</td>\n",
       "      <td>74.215241</td>\n",
       "      <td>4.735364</td>\n",
       "      <td>4.515608</td>\n",
       "      <td>0.073593</td>\n",
       "      <td>...</td>\n",
       "      <td>0.003075</td>\n",
       "      <td>0.000000</td>\n",
       "      <td>0.00000</td>\n",
       "      <td>0.000000</td>\n",
       "      <td>0.000000</td>\n",
       "      <td>0.000000</td>\n",
       "      <td>0.000000</td>\n",
       "      <td>1.0</td>\n",
       "      <td>0.693799</td>\n",
       "      <td>0.306201</td>\n",
       "    </tr>\n",
       "  </tbody>\n",
       "</table>\n",
       "<p>4 rows × 79 columns</p>\n",
       "</div>"
      ],
      "text/plain": [
       "         cust_service_mssgs  num_videos_completed  num_videos_rated  \\\n",
       "Cluster                                                               \n",
       "0                  0.372612              2.622364          0.068430   \n",
       "1                  0.589984              3.047519          0.000488   \n",
       "2                  0.565590              3.000000          0.000820   \n",
       "3                  0.580140              3.007736          0.000500   \n",
       "\n",
       "         weekly_consumption_hour  num_ideal_streaming_services  retarget_TF  \\\n",
       "Cluster                                                                       \n",
       "0                      28.253524                      1.994023     0.043799   \n",
       "1                      27.692285                      2.004512     0.031898   \n",
       "2                      27.491887                      2.009288     0.022932   \n",
       "3                      27.747487                      1.982765     0.036258   \n",
       "\n",
       "                 age  monthly_price  discount_price  cancel_before_trial_end  \\\n",
       "Cluster                                                                        \n",
       "0          54.484076       4.735730        4.516107                 1.000000   \n",
       "1         123.373353       4.735020        4.515112                 0.079651   \n",
       "2        1349.489456       4.734198        4.513977                 0.094834   \n",
       "3          74.215241       4.735364        4.515608                 0.073593   \n",
       "\n",
       "         ...  plan_type_high_uae_14_day_trial  plan_type_low_gbp_14_day_trial  \\\n",
       "Cluster  ...                                                                    \n",
       "0        ...                         0.003929                        0.000000   \n",
       "1        ...                         0.002027                        0.000025   \n",
       "2        ...                         0.000000                        0.000000   \n",
       "3        ...                         0.003075                        0.000000   \n",
       "\n",
       "         payment_type_CBD  payment_type_Najim  payment_type_Paypal  \\\n",
       "Cluster                                                              \n",
       "0                 0.04832            0.025294             0.327902   \n",
       "1                 0.00000            0.000000             0.000000   \n",
       "2                 0.00000            0.000000             0.000000   \n",
       "3                 0.00000            0.000000             0.000000   \n",
       "\n",
       "         payment_type_RAKBANK  payment_type_Standard Charter  \\\n",
       "Cluster                                                        \n",
       "0                    0.172553                       0.425931   \n",
       "1                    0.000000                       0.000000   \n",
       "2                    0.000000                       0.000000   \n",
       "3                    0.000000                       0.000000   \n",
       "\n",
       "         payment_type_nan  Day of Week_Weekday  Day of Week_Weekend  \n",
       "Cluster                                                              \n",
       "0                     0.0             0.692328             0.307672  \n",
       "1                     1.0             0.693471             0.306529  \n",
       "2                     1.0             0.698278             0.301722  \n",
       "3                     1.0             0.693799             0.306201  \n",
       "\n",
       "[4 rows x 79 columns]"
      ]
     },
     "execution_count": 55,
     "metadata": {},
     "output_type": "execute_result"
    }
   ],
   "source": [
    "df_new['Cluster'] = y_km # predict on whole dataset\n",
    "\n",
    "# check out the clusters - whole dataset \n",
    "\n",
    "df_new.groupby(by='Cluster').mean()"
   ]
  },
  {
   "cell_type": "code",
   "execution_count": 56,
   "metadata": {},
   "outputs": [],
   "source": [
    "df_new.groupby(by='Cluster').mean().to_csv('Segmentation.csv')"
   ]
  },
  {
   "cell_type": "code",
   "execution_count": 57,
   "metadata": {},
   "outputs": [],
   "source": [
    "# assign ticket id back to the dataset for further visualization\n",
    "df_new = pd.concat([df_new,id_col],axis=1)"
   ]
  },
  {
   "cell_type": "code",
   "execution_count": 58,
   "metadata": {},
   "outputs": [],
   "source": [
    "# save the result on the whole dataset to file \n",
    "df_new.to_csv('Result.csv')"
   ]
  },
  {
   "cell_type": "code",
   "execution_count": 59,
   "metadata": {},
   "outputs": [
    {
     "data": {
      "text/html": [
       "<div>\n",
       "<style scoped>\n",
       "    .dataframe tbody tr th:only-of-type {\n",
       "        vertical-align: middle;\n",
       "    }\n",
       "\n",
       "    .dataframe tbody tr th {\n",
       "        vertical-align: top;\n",
       "    }\n",
       "\n",
       "    .dataframe thead th {\n",
       "        text-align: right;\n",
       "    }\n",
       "</style>\n",
       "<table border=\"1\" class=\"dataframe\">\n",
       "  <thead>\n",
       "    <tr style=\"text-align: right;\">\n",
       "      <th></th>\n",
       "      <th>cust_service_mssgs</th>\n",
       "      <th>num_videos_completed</th>\n",
       "      <th>num_videos_rated</th>\n",
       "      <th>weekly_consumption_hour</th>\n",
       "      <th>num_ideal_streaming_services</th>\n",
       "      <th>retarget_TF</th>\n",
       "      <th>age</th>\n",
       "      <th>monthly_price</th>\n",
       "      <th>discount_price</th>\n",
       "      <th>cancel_before_trial_end</th>\n",
       "      <th>...</th>\n",
       "      <th>payment_type_CBD</th>\n",
       "      <th>payment_type_Najim</th>\n",
       "      <th>payment_type_Paypal</th>\n",
       "      <th>payment_type_RAKBANK</th>\n",
       "      <th>payment_type_Standard Charter</th>\n",
       "      <th>payment_type_nan</th>\n",
       "      <th>Day of Week_Weekday</th>\n",
       "      <th>Day of Week_Weekend</th>\n",
       "      <th>Cluster</th>\n",
       "      <th>subid</th>\n",
       "    </tr>\n",
       "  </thead>\n",
       "  <tbody>\n",
       "    <tr>\n",
       "      <th>3</th>\n",
       "      <td>0.0</td>\n",
       "      <td>7.0</td>\n",
       "      <td>0.0</td>\n",
       "      <td>20.051667</td>\n",
       "      <td>1.919271</td>\n",
       "      <td>False</td>\n",
       "      <td>29.0</td>\n",
       "      <td>4.7343</td>\n",
       "      <td>4.5141</td>\n",
       "      <td>False</td>\n",
       "      <td>...</td>\n",
       "      <td>0</td>\n",
       "      <td>0</td>\n",
       "      <td>0</td>\n",
       "      <td>0</td>\n",
       "      <td>0</td>\n",
       "      <td>1</td>\n",
       "      <td>1</td>\n",
       "      <td>0</td>\n",
       "      <td>2</td>\n",
       "      <td>20848497</td>\n",
       "    </tr>\n",
       "    <tr>\n",
       "      <th>4</th>\n",
       "      <td>1.0</td>\n",
       "      <td>6.0</td>\n",
       "      <td>0.0</td>\n",
       "      <td>20.051667</td>\n",
       "      <td>1.919271</td>\n",
       "      <td>False</td>\n",
       "      <td>29.0</td>\n",
       "      <td>4.7343</td>\n",
       "      <td>4.5141</td>\n",
       "      <td>False</td>\n",
       "      <td>...</td>\n",
       "      <td>0</td>\n",
       "      <td>0</td>\n",
       "      <td>0</td>\n",
       "      <td>0</td>\n",
       "      <td>0</td>\n",
       "      <td>1</td>\n",
       "      <td>1</td>\n",
       "      <td>0</td>\n",
       "      <td>2</td>\n",
       "      <td>20848497</td>\n",
       "    </tr>\n",
       "    <tr>\n",
       "      <th>5</th>\n",
       "      <td>1.0</td>\n",
       "      <td>5.0</td>\n",
       "      <td>0.0</td>\n",
       "      <td>20.051667</td>\n",
       "      <td>1.919271</td>\n",
       "      <td>False</td>\n",
       "      <td>29.0</td>\n",
       "      <td>4.7343</td>\n",
       "      <td>4.5141</td>\n",
       "      <td>False</td>\n",
       "      <td>...</td>\n",
       "      <td>0</td>\n",
       "      <td>0</td>\n",
       "      <td>0</td>\n",
       "      <td>0</td>\n",
       "      <td>0</td>\n",
       "      <td>1</td>\n",
       "      <td>1</td>\n",
       "      <td>0</td>\n",
       "      <td>2</td>\n",
       "      <td>20848497</td>\n",
       "    </tr>\n",
       "    <tr>\n",
       "      <th>6</th>\n",
       "      <td>0.0</td>\n",
       "      <td>5.0</td>\n",
       "      <td>0.0</td>\n",
       "      <td>20.051667</td>\n",
       "      <td>1.919271</td>\n",
       "      <td>False</td>\n",
       "      <td>29.0</td>\n",
       "      <td>4.7343</td>\n",
       "      <td>4.5141</td>\n",
       "      <td>False</td>\n",
       "      <td>...</td>\n",
       "      <td>0</td>\n",
       "      <td>0</td>\n",
       "      <td>0</td>\n",
       "      <td>0</td>\n",
       "      <td>0</td>\n",
       "      <td>1</td>\n",
       "      <td>1</td>\n",
       "      <td>0</td>\n",
       "      <td>2</td>\n",
       "      <td>20848497</td>\n",
       "    </tr>\n",
       "    <tr>\n",
       "      <th>7</th>\n",
       "      <td>0.0</td>\n",
       "      <td>4.0</td>\n",
       "      <td>0.0</td>\n",
       "      <td>20.051667</td>\n",
       "      <td>1.919271</td>\n",
       "      <td>False</td>\n",
       "      <td>29.0</td>\n",
       "      <td>4.7343</td>\n",
       "      <td>4.5141</td>\n",
       "      <td>False</td>\n",
       "      <td>...</td>\n",
       "      <td>0</td>\n",
       "      <td>0</td>\n",
       "      <td>0</td>\n",
       "      <td>0</td>\n",
       "      <td>0</td>\n",
       "      <td>1</td>\n",
       "      <td>1</td>\n",
       "      <td>0</td>\n",
       "      <td>2</td>\n",
       "      <td>20848497</td>\n",
       "    </tr>\n",
       "  </tbody>\n",
       "</table>\n",
       "<p>5 rows × 81 columns</p>\n",
       "</div>"
      ],
      "text/plain": [
       "   cust_service_mssgs  num_videos_completed  num_videos_rated  \\\n",
       "3                 0.0                   7.0               0.0   \n",
       "4                 1.0                   6.0               0.0   \n",
       "5                 1.0                   5.0               0.0   \n",
       "6                 0.0                   5.0               0.0   \n",
       "7                 0.0                   4.0               0.0   \n",
       "\n",
       "   weekly_consumption_hour  num_ideal_streaming_services  retarget_TF   age  \\\n",
       "3                20.051667                      1.919271        False  29.0   \n",
       "4                20.051667                      1.919271        False  29.0   \n",
       "5                20.051667                      1.919271        False  29.0   \n",
       "6                20.051667                      1.919271        False  29.0   \n",
       "7                20.051667                      1.919271        False  29.0   \n",
       "\n",
       "   monthly_price  discount_price  cancel_before_trial_end  ...  \\\n",
       "3         4.7343          4.5141                    False  ...   \n",
       "4         4.7343          4.5141                    False  ...   \n",
       "5         4.7343          4.5141                    False  ...   \n",
       "6         4.7343          4.5141                    False  ...   \n",
       "7         4.7343          4.5141                    False  ...   \n",
       "\n",
       "   payment_type_CBD  payment_type_Najim  payment_type_Paypal  \\\n",
       "3                 0                   0                    0   \n",
       "4                 0                   0                    0   \n",
       "5                 0                   0                    0   \n",
       "6                 0                   0                    0   \n",
       "7                 0                   0                    0   \n",
       "\n",
       "   payment_type_RAKBANK  payment_type_Standard Charter  payment_type_nan  \\\n",
       "3                     0                              0                 1   \n",
       "4                     0                              0                 1   \n",
       "5                     0                              0                 1   \n",
       "6                     0                              0                 1   \n",
       "7                     0                              0                 1   \n",
       "\n",
       "   Day of Week_Weekday  Day of Week_Weekend  Cluster     subid  \n",
       "3                    1                    0        2  20848497  \n",
       "4                    1                    0        2  20848497  \n",
       "5                    1                    0        2  20848497  \n",
       "6                    1                    0        2  20848497  \n",
       "7                    1                    0        2  20848497  \n",
       "\n",
       "[5 rows x 81 columns]"
      ]
     },
     "execution_count": 59,
     "metadata": {},
     "output_type": "execute_result"
    }
   ],
   "source": [
    "df_new.head()"
   ]
  },
  {
   "cell_type": "markdown",
   "metadata": {},
   "source": [
    "# Churn model"
   ]
  },
  {
   "cell_type": "code",
   "execution_count": 60,
   "metadata": {},
   "outputs": [],
   "source": [
    "df = subscribers.merge(customer_service_reps[['subid','renew']],on=['subid'])\n",
    "\n"
   ]
  },
  {
   "cell_type": "code",
   "execution_count": 61,
   "metadata": {},
   "outputs": [
    {
     "data": {
      "text/html": [
       "<div>\n",
       "<style scoped>\n",
       "    .dataframe tbody tr th:only-of-type {\n",
       "        vertical-align: middle;\n",
       "    }\n",
       "\n",
       "    .dataframe tbody tr th {\n",
       "        vertical-align: top;\n",
       "    }\n",
       "\n",
       "    .dataframe thead th {\n",
       "        text-align: right;\n",
       "    }\n",
       "</style>\n",
       "<table border=\"1\" class=\"dataframe\">\n",
       "  <thead>\n",
       "    <tr style=\"text-align: right;\">\n",
       "      <th></th>\n",
       "      <th>subid</th>\n",
       "      <th>package_type</th>\n",
       "      <th>num_weekly_services_utilized</th>\n",
       "      <th>preferred_genre</th>\n",
       "      <th>intended_use</th>\n",
       "      <th>weekly_consumption_hour</th>\n",
       "      <th>num_ideal_streaming_services</th>\n",
       "      <th>retarget_TF</th>\n",
       "      <th>age</th>\n",
       "      <th>male_TF</th>\n",
       "      <th>...</th>\n",
       "      <th>creation_until_cancel_days</th>\n",
       "      <th>cancel_before_trial_end</th>\n",
       "      <th>trial_end_date</th>\n",
       "      <th>initial_credit_card_declined</th>\n",
       "      <th>revenue_net</th>\n",
       "      <th>join_fee</th>\n",
       "      <th>language</th>\n",
       "      <th>paid_TF</th>\n",
       "      <th>refund_after_trial_TF</th>\n",
       "      <th>payment_type</th>\n",
       "    </tr>\n",
       "  </thead>\n",
       "  <tbody>\n",
       "    <tr>\n",
       "      <th>628003</th>\n",
       "      <td>29067453</td>\n",
       "      <td>base</td>\n",
       "      <td>NaN</td>\n",
       "      <td>drama</td>\n",
       "      <td>access to exclusive content</td>\n",
       "      <td>27.301448</td>\n",
       "      <td>NaN</td>\n",
       "      <td>False</td>\n",
       "      <td>1955.0</td>\n",
       "      <td>False</td>\n",
       "      <td>...</td>\n",
       "      <td>7.0</td>\n",
       "      <td>False</td>\n",
       "      <td>2019-10-31</td>\n",
       "      <td>False</td>\n",
       "      <td>0.0000</td>\n",
       "      <td>0.0000</td>\n",
       "      <td>ar</td>\n",
       "      <td>False</td>\n",
       "      <td>False</td>\n",
       "      <td>NaN</td>\n",
       "    </tr>\n",
       "    <tr>\n",
       "      <th>3846</th>\n",
       "      <td>24614444</td>\n",
       "      <td>base</td>\n",
       "      <td>NaN</td>\n",
       "      <td>comedy</td>\n",
       "      <td>access to exclusive content</td>\n",
       "      <td>25.851492</td>\n",
       "      <td>NaN</td>\n",
       "      <td>False</td>\n",
       "      <td>1950.0</td>\n",
       "      <td>False</td>\n",
       "      <td>...</td>\n",
       "      <td>30.0</td>\n",
       "      <td>True</td>\n",
       "      <td>2019-09-07</td>\n",
       "      <td>False</td>\n",
       "      <td>0.0000</td>\n",
       "      <td>0.0367</td>\n",
       "      <td>ar</td>\n",
       "      <td>True</td>\n",
       "      <td>True</td>\n",
       "      <td>RAKBANK</td>\n",
       "    </tr>\n",
       "    <tr>\n",
       "      <th>114011</th>\n",
       "      <td>27685643</td>\n",
       "      <td>NaN</td>\n",
       "      <td>3.083053</td>\n",
       "      <td>NaN</td>\n",
       "      <td>expand regional access</td>\n",
       "      <td>27.301448</td>\n",
       "      <td>1.958566</td>\n",
       "      <td>False</td>\n",
       "      <td>1957.0</td>\n",
       "      <td>False</td>\n",
       "      <td>...</td>\n",
       "      <td>NaN</td>\n",
       "      <td>True</td>\n",
       "      <td>2019-07-16</td>\n",
       "      <td>False</td>\n",
       "      <td>3.4498</td>\n",
       "      <td>0.0000</td>\n",
       "      <td>ar</td>\n",
       "      <td>True</td>\n",
       "      <td>False</td>\n",
       "      <td>Paypal</td>\n",
       "    </tr>\n",
       "    <tr>\n",
       "      <th>403463</th>\n",
       "      <td>22568442</td>\n",
       "      <td>base</td>\n",
       "      <td>2.523382</td>\n",
       "      <td>other</td>\n",
       "      <td>supplement OTT</td>\n",
       "      <td>31.651317</td>\n",
       "      <td>1.874212</td>\n",
       "      <td>False</td>\n",
       "      <td>1969.0</td>\n",
       "      <td>False</td>\n",
       "      <td>...</td>\n",
       "      <td>4.0</td>\n",
       "      <td>False</td>\n",
       "      <td>2019-11-17</td>\n",
       "      <td>False</td>\n",
       "      <td>0.0000</td>\n",
       "      <td>0.0367</td>\n",
       "      <td>ar</td>\n",
       "      <td>False</td>\n",
       "      <td>False</td>\n",
       "      <td>NaN</td>\n",
       "    </tr>\n",
       "    <tr>\n",
       "      <th>377257</th>\n",
       "      <td>28637667</td>\n",
       "      <td>base</td>\n",
       "      <td>NaN</td>\n",
       "      <td>comedy</td>\n",
       "      <td>access to exclusive content</td>\n",
       "      <td>21.501623</td>\n",
       "      <td>NaN</td>\n",
       "      <td>False</td>\n",
       "      <td>165.0</td>\n",
       "      <td>False</td>\n",
       "      <td>...</td>\n",
       "      <td>7.0</td>\n",
       "      <td>False</td>\n",
       "      <td>2019-12-12</td>\n",
       "      <td>False</td>\n",
       "      <td>0.0000</td>\n",
       "      <td>0.0367</td>\n",
       "      <td>ar</td>\n",
       "      <td>False</td>\n",
       "      <td>False</td>\n",
       "      <td>NaN</td>\n",
       "    </tr>\n",
       "    <tr>\n",
       "      <th>...</th>\n",
       "      <td>...</td>\n",
       "      <td>...</td>\n",
       "      <td>...</td>\n",
       "      <td>...</td>\n",
       "      <td>...</td>\n",
       "      <td>...</td>\n",
       "      <td>...</td>\n",
       "      <td>...</td>\n",
       "      <td>...</td>\n",
       "      <td>...</td>\n",
       "      <td>...</td>\n",
       "      <td>...</td>\n",
       "      <td>...</td>\n",
       "      <td>...</td>\n",
       "      <td>...</td>\n",
       "      <td>...</td>\n",
       "      <td>...</td>\n",
       "      <td>...</td>\n",
       "      <td>...</td>\n",
       "      <td>...</td>\n",
       "      <td>...</td>\n",
       "    </tr>\n",
       "    <tr>\n",
       "      <th>613698</th>\n",
       "      <td>28277755</td>\n",
       "      <td>base</td>\n",
       "      <td>2.367263</td>\n",
       "      <td>comedy</td>\n",
       "      <td>access to exclusive content</td>\n",
       "      <td>20.051667</td>\n",
       "      <td>1.903084</td>\n",
       "      <td>False</td>\n",
       "      <td>1962.0</td>\n",
       "      <td>False</td>\n",
       "      <td>...</td>\n",
       "      <td>NaN</td>\n",
       "      <td>True</td>\n",
       "      <td>2019-12-16</td>\n",
       "      <td>False</td>\n",
       "      <td>0.0000</td>\n",
       "      <td>0.0367</td>\n",
       "      <td>ar</td>\n",
       "      <td>False</td>\n",
       "      <td>False</td>\n",
       "      <td>NaN</td>\n",
       "    </tr>\n",
       "    <tr>\n",
       "      <th>293998</th>\n",
       "      <td>27306153</td>\n",
       "      <td>NaN</td>\n",
       "      <td>NaN</td>\n",
       "      <td>NaN</td>\n",
       "      <td>expand regional access</td>\n",
       "      <td>28.751405</td>\n",
       "      <td>NaN</td>\n",
       "      <td>False</td>\n",
       "      <td>1947.0</td>\n",
       "      <td>False</td>\n",
       "      <td>...</td>\n",
       "      <td>4.0</td>\n",
       "      <td>False</td>\n",
       "      <td>2019-07-17</td>\n",
       "      <td>False</td>\n",
       "      <td>0.0000</td>\n",
       "      <td>0.0000</td>\n",
       "      <td>ar</td>\n",
       "      <td>False</td>\n",
       "      <td>False</td>\n",
       "      <td>NaN</td>\n",
       "    </tr>\n",
       "    <tr>\n",
       "      <th>373164</th>\n",
       "      <td>26687096</td>\n",
       "      <td>NaN</td>\n",
       "      <td>2.560203</td>\n",
       "      <td>NaN</td>\n",
       "      <td>expand regional access</td>\n",
       "      <td>27.301448</td>\n",
       "      <td>1.825211</td>\n",
       "      <td>False</td>\n",
       "      <td>1956.0</td>\n",
       "      <td>False</td>\n",
       "      <td>...</td>\n",
       "      <td>9.0</td>\n",
       "      <td>False</td>\n",
       "      <td>2019-08-26</td>\n",
       "      <td>False</td>\n",
       "      <td>0.0000</td>\n",
       "      <td>0.0000</td>\n",
       "      <td>ar</td>\n",
       "      <td>False</td>\n",
       "      <td>False</td>\n",
       "      <td>NaN</td>\n",
       "    </tr>\n",
       "    <tr>\n",
       "      <th>101302</th>\n",
       "      <td>24035787</td>\n",
       "      <td>NaN</td>\n",
       "      <td>NaN</td>\n",
       "      <td>NaN</td>\n",
       "      <td>expand international access</td>\n",
       "      <td>30.201361</td>\n",
       "      <td>NaN</td>\n",
       "      <td>False</td>\n",
       "      <td>1956.0</td>\n",
       "      <td>False</td>\n",
       "      <td>...</td>\n",
       "      <td>NaN</td>\n",
       "      <td>True</td>\n",
       "      <td>2019-07-16</td>\n",
       "      <td>False</td>\n",
       "      <td>13.7992</td>\n",
       "      <td>0.0367</td>\n",
       "      <td>ar</td>\n",
       "      <td>True</td>\n",
       "      <td>False</td>\n",
       "      <td>Standard Charter</td>\n",
       "    </tr>\n",
       "    <tr>\n",
       "      <th>671624</th>\n",
       "      <td>27280997</td>\n",
       "      <td>base</td>\n",
       "      <td>2.405555</td>\n",
       "      <td>comedy</td>\n",
       "      <td>other</td>\n",
       "      <td>22.951579</td>\n",
       "      <td>1.854734</td>\n",
       "      <td>False</td>\n",
       "      <td>1936.0</td>\n",
       "      <td>False</td>\n",
       "      <td>...</td>\n",
       "      <td>8.0</td>\n",
       "      <td>False</td>\n",
       "      <td>2020-02-06</td>\n",
       "      <td>False</td>\n",
       "      <td>0.0000</td>\n",
       "      <td>0.0367</td>\n",
       "      <td>ar</td>\n",
       "      <td>False</td>\n",
       "      <td>False</td>\n",
       "      <td>NaN</td>\n",
       "    </tr>\n",
       "  </tbody>\n",
       "</table>\n",
       "<p>888 rows × 29 columns</p>\n",
       "</div>"
      ],
      "text/plain": [
       "           subid package_type  num_weekly_services_utilized preferred_genre  \\\n",
       "628003  29067453         base                           NaN           drama   \n",
       "3846    24614444         base                           NaN          comedy   \n",
       "114011  27685643          NaN                      3.083053             NaN   \n",
       "403463  22568442         base                      2.523382           other   \n",
       "377257  28637667         base                           NaN          comedy   \n",
       "...          ...          ...                           ...             ...   \n",
       "613698  28277755         base                      2.367263          comedy   \n",
       "293998  27306153          NaN                           NaN             NaN   \n",
       "373164  26687096          NaN                      2.560203             NaN   \n",
       "101302  24035787          NaN                           NaN             NaN   \n",
       "671624  27280997         base                      2.405555          comedy   \n",
       "\n",
       "                       intended_use  weekly_consumption_hour  \\\n",
       "628003  access to exclusive content                27.301448   \n",
       "3846    access to exclusive content                25.851492   \n",
       "114011       expand regional access                27.301448   \n",
       "403463               supplement OTT                31.651317   \n",
       "377257  access to exclusive content                21.501623   \n",
       "...                             ...                      ...   \n",
       "613698  access to exclusive content                20.051667   \n",
       "293998       expand regional access                28.751405   \n",
       "373164       expand regional access                27.301448   \n",
       "101302  expand international access                30.201361   \n",
       "671624                        other                22.951579   \n",
       "\n",
       "        num_ideal_streaming_services  retarget_TF     age male_TF  ...  \\\n",
       "628003                           NaN        False  1955.0   False  ...   \n",
       "3846                             NaN        False  1950.0   False  ...   \n",
       "114011                      1.958566        False  1957.0   False  ...   \n",
       "403463                      1.874212        False  1969.0   False  ...   \n",
       "377257                           NaN        False   165.0   False  ...   \n",
       "...                              ...          ...     ...     ...  ...   \n",
       "613698                      1.903084        False  1962.0   False  ...   \n",
       "293998                           NaN        False  1947.0   False  ...   \n",
       "373164                      1.825211        False  1956.0   False  ...   \n",
       "101302                           NaN        False  1956.0   False  ...   \n",
       "671624                      1.854734        False  1936.0   False  ...   \n",
       "\n",
       "       creation_until_cancel_days cancel_before_trial_end trial_end_date  \\\n",
       "628003                        7.0                   False     2019-10-31   \n",
       "3846                         30.0                    True     2019-09-07   \n",
       "114011                        NaN                    True     2019-07-16   \n",
       "403463                        4.0                   False     2019-11-17   \n",
       "377257                        7.0                   False     2019-12-12   \n",
       "...                           ...                     ...            ...   \n",
       "613698                        NaN                    True     2019-12-16   \n",
       "293998                        4.0                   False     2019-07-17   \n",
       "373164                        9.0                   False     2019-08-26   \n",
       "101302                        NaN                    True     2019-07-16   \n",
       "671624                        8.0                   False     2020-02-06   \n",
       "\n",
       "       initial_credit_card_declined  revenue_net join_fee  language  paid_TF  \\\n",
       "628003                        False       0.0000   0.0000        ar    False   \n",
       "3846                          False       0.0000   0.0367        ar     True   \n",
       "114011                        False       3.4498   0.0000        ar     True   \n",
       "403463                        False       0.0000   0.0367        ar    False   \n",
       "377257                        False       0.0000   0.0367        ar    False   \n",
       "...                             ...          ...      ...       ...      ...   \n",
       "613698                        False       0.0000   0.0367        ar    False   \n",
       "293998                        False       0.0000   0.0000        ar    False   \n",
       "373164                        False       0.0000   0.0000        ar    False   \n",
       "101302                        False      13.7992   0.0367        ar     True   \n",
       "671624                        False       0.0000   0.0367        ar    False   \n",
       "\n",
       "       refund_after_trial_TF      payment_type  \n",
       "628003                 False               NaN  \n",
       "3846                    True           RAKBANK  \n",
       "114011                 False            Paypal  \n",
       "403463                 False               NaN  \n",
       "377257                 False               NaN  \n",
       "...                      ...               ...  \n",
       "613698                 False               NaN  \n",
       "293998                 False               NaN  \n",
       "373164                 False               NaN  \n",
       "101302                 False  Standard Charter  \n",
       "671624                 False               NaN  \n",
       "\n",
       "[888 rows x 29 columns]"
      ]
     },
     "execution_count": 61,
     "metadata": {},
     "output_type": "execute_result"
    }
   ],
   "source": [
    "subscribers[subscribers.age>100]"
   ]
  },
  {
   "cell_type": "code",
   "execution_count": 62,
   "metadata": {},
   "outputs": [
    {
     "data": {
      "text/plain": [
       "Index(['subid', 'package_type', 'num_weekly_services_utilized',\n",
       "       'preferred_genre', 'intended_use', 'weekly_consumption_hour',\n",
       "       'num_ideal_streaming_services', 'retarget_TF', 'age', 'male_TF',\n",
       "       'country', 'attribution_technical', 'attribution_survey', 'op_sys',\n",
       "       'months_per_bill_period', 'plan_type', 'monthly_price',\n",
       "       'discount_price', 'account_creation_date', 'creation_until_cancel_days',\n",
       "       'cancel_before_trial_end', 'trial_end_date',\n",
       "       'initial_credit_card_declined', 'revenue_net', 'join_fee', 'language',\n",
       "       'paid_TF', 'refund_after_trial_TF', 'payment_type', 'renew'],\n",
       "      dtype='object')"
      ]
     },
     "execution_count": 62,
     "metadata": {},
     "output_type": "execute_result"
    }
   ],
   "source": [
    "df.columns"
   ]
  },
  {
   "cell_type": "code",
   "execution_count": 63,
   "metadata": {},
   "outputs": [
    {
     "data": {
      "text/plain": [
       "UAE    209894\n",
       "Name: country, dtype: int64"
      ]
     },
     "execution_count": 63,
     "metadata": {},
     "output_type": "execute_result"
    }
   ],
   "source": [
    "df['country'].value_counts()"
   ]
  },
  {
   "cell_type": "code",
   "execution_count": 64,
   "metadata": {},
   "outputs": [
    {
     "data": {
      "text/plain": [
       "Standard Charter    55858\n",
       "Paypal              44052\n",
       "RAKBANK             21173\n",
       "CBD                  7618\n",
       "Najim                3622\n",
       "Apple Pay               8\n",
       "Name: payment_type, dtype: int64"
      ]
     },
     "execution_count": 64,
     "metadata": {},
     "output_type": "execute_result"
    }
   ],
   "source": [
    "# \n",
    "df['payment_type'].value_counts()"
   ]
  },
  {
   "cell_type": "code",
   "execution_count": 65,
   "metadata": {},
   "outputs": [
    {
     "data": {
      "text/plain": [
       "209894"
      ]
     },
     "execution_count": 65,
     "metadata": {},
     "output_type": "execute_result"
    }
   ],
   "source": [
    "len(df)"
   ]
  },
  {
   "cell_type": "code",
   "execution_count": 66,
   "metadata": {},
   "outputs": [
    {
     "data": {
      "text/plain": [
       "5950"
      ]
     },
     "execution_count": 66,
     "metadata": {},
     "output_type": "execute_result"
    }
   ],
   "source": [
    "len(df.dropna())"
   ]
  },
  {
   "cell_type": "code",
   "execution_count": 67,
   "metadata": {},
   "outputs": [],
   "source": [
    "# change those > 1900 to 2020 - year\n",
    "def clean_age(age):\n",
    "    if age> 1920:\n",
    "        ag = 2020 - age\n",
    "    else:\n",
    "        ag = age\n",
    "    return ag\n",
    "# df = df[df['age'] < 100]"
   ]
  },
  {
   "cell_type": "code",
   "execution_count": 68,
   "metadata": {},
   "outputs": [],
   "source": [
    "df['age'] = df.apply(lambda row: clean_age(row['age']), axis=1) \n",
    "df = df[df['age'] < 100]\n",
    "df = df[df['age'] > 0]"
   ]
  },
  {
   "cell_type": "code",
   "execution_count": 69,
   "metadata": {},
   "outputs": [
    {
     "data": {
      "text/plain": [
       "158938"
      ]
     },
     "execution_count": 69,
     "metadata": {},
     "output_type": "execute_result"
    }
   ],
   "source": [
    "len(df)"
   ]
  },
  {
   "cell_type": "code",
   "execution_count": 70,
   "metadata": {},
   "outputs": [],
   "source": [
    "values = {'num_weekly_services_utilized': 0, 'weekly_consumption_hour': 0, 'num_ideal_streaming_services': 0, \n",
    "          'op_sys': 'unknownOp', 'creation_until_cancel_days' : 0, 'revenue_net' : 0, 'join_fee' : 0, \n",
    "          'payment_type' :'not_paid'}\n",
    "df = df.fillna(value=values)\n",
    "\n",
    "\n",
    "# change data type\n",
    "df['preferred_genre'] = df['preferred_genre'].astype(str)\n",
    "df['package_type'] = df['package_type'].astype(str)\n",
    "df['intended_use'] = df['intended_use'].astype(str)\n",
    "df['payment_type'] = df['payment_type'].astype(str)\n",
    "df['op_sys'] = df['op_sys'].astype(str)"
   ]
  },
  {
   "cell_type": "code",
   "execution_count": 71,
   "metadata": {},
   "outputs": [
    {
     "data": {
      "text/plain": [
       "151532"
      ]
     },
     "execution_count": 71,
     "metadata": {},
     "output_type": "execute_result"
    }
   ],
   "source": [
    "len(df.dropna())"
   ]
  },
  {
   "cell_type": "code",
   "execution_count": 72,
   "metadata": {},
   "outputs": [],
   "source": [
    "df = df.dropna()\n",
    "id_col = df['subid']\n",
    "df = df.drop(columns=['subid','country','account_creation_date','trial_end_date','language'])"
   ]
  },
  {
   "cell_type": "code",
   "execution_count": 73,
   "metadata": {
    "scrolled": true
   },
   "outputs": [
    {
     "data": {
      "text/plain": [
       "not_paid            76672\n",
       "Standard Charter    29282\n",
       "Paypal              23430\n",
       "RAKBANK             13353\n",
       "CBD                  5811\n",
       "Najim                2978\n",
       "Apple Pay               6\n",
       "Name: payment_type, dtype: int64"
      ]
     },
     "execution_count": 73,
     "metadata": {},
     "output_type": "execute_result"
    }
   ],
   "source": [
    "df['payment_type'].value_counts()"
   ]
  },
  {
   "cell_type": "code",
   "execution_count": 74,
   "metadata": {},
   "outputs": [],
   "source": [
    "import pydotplus #pip install pydotplus\n",
    "from sklearn.tree import export_graphviz"
   ]
  },
  {
   "cell_type": "code",
   "execution_count": 75,
   "metadata": {},
   "outputs": [
    {
     "data": {
      "text/plain": [
       "'\\nConsultant will build a churn model and develop recommendation(s)\\non an alternative product pricing structure as well as a distribution of expected CLV,\\nrepresenting the uncertainty of future payments given the current customer base\\n'"
      ]
     },
     "execution_count": 75,
     "metadata": {},
     "output_type": "execute_result"
    }
   ],
   "source": [
    "'''\n",
    "Consultant will build a churn model and develop recommendation(s)\n",
    "on an alternative product pricing structure as well as a distribution of expected CLV,\n",
    "representing the uncertainty of future payments given the current customer base\n",
    "'''"
   ]
  },
  {
   "cell_type": "code",
   "execution_count": 76,
   "metadata": {},
   "outputs": [],
   "source": [
    "df['renew'] = df['renew'].astype(int)\n",
    "df_input = pd.get_dummies(df)"
   ]
  },
  {
   "cell_type": "code",
   "execution_count": 77,
   "metadata": {},
   "outputs": [
    {
     "data": {
      "text/plain": [
       "101"
      ]
     },
     "execution_count": 77,
     "metadata": {},
     "output_type": "execute_result"
    }
   ],
   "source": [
    "len(df_input.columns)"
   ]
  },
  {
   "cell_type": "code",
   "execution_count": 78,
   "metadata": {},
   "outputs": [],
   "source": [
    "# list(df_input.columns)"
   ]
  },
  {
   "cell_type": "code",
   "execution_count": 79,
   "metadata": {},
   "outputs": [],
   "source": [
    "X = df_input.drop(columns=['renew'])\n",
    "y = df[['renew']]"
   ]
  },
  {
   "cell_type": "code",
   "execution_count": 80,
   "metadata": {},
   "outputs": [
    {
     "data": {
      "text/plain": [
       "151532"
      ]
     },
     "execution_count": 80,
     "metadata": {},
     "output_type": "execute_result"
    }
   ],
   "source": [
    "len(X)"
   ]
  },
  {
   "cell_type": "code",
   "execution_count": 81,
   "metadata": {},
   "outputs": [
    {
     "data": {
      "text/plain": [
       "151532"
      ]
     },
     "execution_count": 81,
     "metadata": {},
     "output_type": "execute_result"
    }
   ],
   "source": [
    "len(y)"
   ]
  },
  {
   "cell_type": "markdown",
   "metadata": {},
   "source": [
    "## 3 Decision tree"
   ]
  },
  {
   "cell_type": "code",
   "execution_count": 82,
   "metadata": {},
   "outputs": [],
   "source": [
    "from sklearn import tree\n",
    "clf = tree.DecisionTreeClassifier(max_depth=3)\n",
    "# As with other classifiers, DecisionTreeClassifier takes as input two arrays: an array X, \n",
    "# sparse or dense, of size [n_samples, n_features] holding the training samples, and an array Y of integer values,\n",
    "# size [n_samples], holding the class labels for the training samples:\n"
   ]
  },
  {
   "cell_type": "markdown",
   "metadata": {},
   "source": [
    "Feature ranking with recursive feature elimination and cross-validation\n",
    "\n",
    "RFECV performs RFE in a cross-validation loop to find the optimal number or the best number of features. Hereafter a recursive feature elimination applied on logistic regression with automatic tuning of the number of features selected with cross-validation."
   ]
  },
  {
   "cell_type": "code",
   "execution_count": 83,
   "metadata": {},
   "outputs": [
    {
     "name": "stdout",
     "output_type": "stream",
     "text": [
      "Optimal number of features: 1\n",
      "Selected features: ['paid_TF']\n"
     ]
    },
    {
     "data": {
      "image/png": "[encoded data removed]",
      "text/plain": [
       "<Figure size 720x360 with 1 Axes>"
      ]
     },
     "metadata": {
      "needs_background": "light"
     },
     "output_type": "display_data"
    }
   ],
   "source": [
    "from sklearn.feature_selection import RFECV\n",
    "def feature_selection_class(classifier, X, y):\n",
    "    # Create the RFE object and compute a cross-validated score.\n",
    "    # The \"accuracy\" scoring is proportional to the number of correct classifications\n",
    "    rfecv = RFECV(estimator=classifier, step=1, cv=10, scoring='accuracy')\n",
    "    rfecv.fit(X.head(6000), y.head(6000))\n",
    "\n",
    "    print(\"Optimal number of features: %d\" % rfecv.n_features_)\n",
    "    print('Selected features: %s' % list(X.columns[rfecv.support_]))\n",
    "\n",
    "    # Plot number of features VS. cross-validation scores\n",
    "    plt.figure(figsize=(10,5))\n",
    "    plt.xlabel(\"Number of features selected\")\n",
    "    plt.ylabel(\"Cross validation score (nb of correct classifications)\")\n",
    "    plt.plot(range(1, len(rfecv.grid_scores_) + 1), rfecv.grid_scores_)\n",
    "    plt.show()\n",
    "feature_selection_class(tree.DecisionTreeClassifier(), X, y)"
   ]
  },
  {
   "cell_type": "code",
   "execution_count": 84,
   "metadata": {},
   "outputs": [],
   "source": [
    "\n",
    "# feature_selection_class(tree.DecisionTreeClassifier(), X.drop(columns=['paid_TF','payment_type_not_paid','revenue_net','cancel_before_trial_end']), y)"
   ]
  },
  {
   "cell_type": "code",
   "execution_count": 85,
   "metadata": {},
   "outputs": [
    {
     "data": {
      "image/png": "[encoded data removed]",
      "text/plain": [
       "<Figure size 1080x576 with 2 Axes>"
      ]
     },
     "metadata": {
      "needs_background": "light"
     },
     "output_type": "display_data"
    },
    {
     "data": {
      "text/plain": [
       "payment_type_not_paid   -0.652731\n",
       "Name: renew, dtype: float64"
      ]
     },
     "execution_count": 85,
     "metadata": {},
     "output_type": "execute_result"
    }
   ],
   "source": [
    "a = df_input.corr()['renew']\n",
    "import seaborn as sns\n",
    "plt.subplots(figsize=(15, 8))\n",
    "sns.heatmap(df_input[['paid_TF','payment_type_not_paid','revenue_net','cancel_before_trial_end','renew']].corr(), annot=True, cmap=\"RdYlGn\")\n",
    "plt.show()\n",
    "\n",
    "a[a>0.5]\n",
    "a[a<-0.5]"
   ]
  },
  {
   "cell_type": "code",
   "execution_count": 86,
   "metadata": {},
   "outputs": [],
   "source": [
    "result_col = ['paid_TF','payment_type_not_paid','revenue_net','cancel_before_trial_end','renew']"
   ]
  },
  {
   "cell_type": "code",
   "execution_count": 87,
   "metadata": {},
   "outputs": [
    {
     "data": {
      "text/plain": [
       "['paid_TF', 'payment_type_not_paid', 'revenue_net', 'cancel_before_trial_end']"
      ]
     },
     "execution_count": 87,
     "metadata": {},
     "output_type": "execute_result"
    }
   ],
   "source": [
    "['paid_TF','payment_type_not_paid','revenue_net','cancel_before_trial_end']"
   ]
  },
  {
   "cell_type": "code",
   "execution_count": 95,
   "metadata": {},
   "outputs": [
    {
     "name": "stderr",
     "output_type": "stream",
     "text": [
      "d:\\programs\\python37\\lib\\site-packages\\sklearn\\utils\\validation.py:71: FutureWarning: Pass n_features_to_select=3 as keyword args. From version 0.25 passing these as positional arguments will result in an error\n",
      "  FutureWarning)\n"
     ]
    },
    {
     "name": "stdout",
     "output_type": "stream",
     "text": [
      "Selected features: ['num_weekly_services_utilized', 'creation_until_cancel_days', 'refund_after_trial_TF']\n"
     ]
    }
   ],
   "source": [
    "from sklearn.feature_selection import RFE\n",
    "def feature_selection_class2(classifier, X, y, num):\n",
    "    # X = log_dataFrame[cols]\n",
    "    # Build a logreg and compute the feature importances\n",
    "#     model = tree.DecisionTreeClassifier()\n",
    "    model = classifier\n",
    "    # create the RFE model and select 5 attributes\n",
    "    rfe = RFE(model, num)\n",
    "    rfe = rfe.fit(X.head(5000), y.head(5000))\n",
    "    # summarize the selection of the attributes\n",
    "    print('Selected features: %s' % list(X.columns[rfe.support_]))\n",
    "feature_selection_class2(tree.DecisionTreeClassifier(), X.drop(columns = ['paid_TF', 'payment_type_not_paid', 'revenue_net', 'cancel_before_trial_end']), y, 3)"
   ]
  },
  {
   "cell_type": "code",
   "execution_count": 96,
   "metadata": {},
   "outputs": [],
   "source": [
    "cols = ['num_weekly_services_utilized', 'weekly_consumption_hour', 'num_ideal_streaming_services', 'age', \n",
    "        'creation_until_cancel_days', 'revenue_net', 'join_fee', 'intended_use_access to exclusive content', \n",
    "        'attribution_technical_brand sem intent google', 'attribution_technical_facebook', 'payment_type_not_paid']"
   ]
  },
  {
   "cell_type": "code",
   "execution_count": 97,
   "metadata": {},
   "outputs": [],
   "source": [
    "cols = ['num_weekly_services_utilized', 'num_ideal_streaming_services', 'creation_until_cancel_days', \n",
    "        'revenue_net', 'payment_type_not_paid']"
   ]
  },
  {
   "cell_type": "code",
   "execution_count": 99,
   "metadata": {
    "scrolled": true
   },
   "outputs": [],
   "source": [
    "import graphviz \n",
    "# dot_data = tree.export_graphviz(clf, out_file=None, \n",
    "#                      feature_names=X[cols].columns,  \n",
    "# #                      class_names=y.columns,  \n",
    "#                      filled=True, rounded=True,  \n",
    "#                      special_characters=True)  \n",
    "# graph = graphviz.Source(dot_data)  \n",
    "# graph.render(\"churn_only_3_features\") \n",
    "# graph "
   ]
  },
  {
   "cell_type": "code",
   "execution_count": 101,
   "metadata": {},
   "outputs": [
    {
     "name": "stdout",
     "output_type": "stream",
     "text": [
      "Optimal number of features: 1\n",
      "Selected features: ['paid_TF']\n"
     ]
    },
    {
     "data": {
      "image/png": "[encoded data removed]",
      "text/plain": [
       "<Figure size 720x360 with 1 Axes>"
      ]
     },
     "metadata": {
      "needs_background": "light"
     },
     "output_type": "display_data"
    }
   ],
   "source": [
    "feature_selection_class(tree.DecisionTreeClassifier(), X, y)"
   ]
  },
  {
   "cell_type": "code",
   "execution_count": 107,
   "metadata": {},
   "outputs": [
    {
     "name": "stderr",
     "output_type": "stream",
     "text": [
      "d:\\programs\\python37\\lib\\site-packages\\sklearn\\utils\\validation.py:71: FutureWarning: Pass n_features_to_select=3 as keyword args. From version 0.25 passing these as positional arguments will result in an error\n",
      "  FutureWarning)\n"
     ]
    },
    {
     "name": "stdout",
     "output_type": "stream",
     "text": [
      "Selected features: ['payment_type_Paypal', 'payment_type_RAKBANK', 'payment_type_Standard Charter']\n"
     ]
    }
   ],
   "source": [
    "# excluding the \"outcome\" type of features\n",
    "\n",
    "feature_selection_class2(tree.DecisionTreeClassifier(), \n",
    "                        X.drop(columns = ['paid_TF', 'payment_type_not_paid', 'revenue_net', \n",
    "                                          'cancel_before_trial_end','creation_until_cancel_days'])\n",
    "                        , y,3 )"
   ]
  },
  {
   "cell_type": "code",
   "execution_count": 109,
   "metadata": {},
   "outputs": [
    {
     "name": "stdout",
     "output_type": "stream",
     "text": [
      "Optimal number of features: 3\n",
      "Selected features: ['payment_type_Paypal', 'payment_type_RAKBANK', 'payment_type_Standard Charter']\n"
     ]
    },
    {
     "data": {
      "image/png": "[encoded data removed]",
      "text/plain": [
       "<Figure size 720x360 with 1 Axes>"
      ]
     },
     "metadata": {
      "needs_background": "light"
     },
     "output_type": "display_data"
    }
   ],
   "source": [
    "feature_selection_class(tree.DecisionTreeClassifier(), \n",
    "                        X.drop(columns = ['paid_TF', 'payment_type_not_paid', 'revenue_net'\n",
    "                                          , 'cancel_before_trial_end','creation_until_cancel_days']), \n",
    "                        y)"
   ]
  },
  {
   "cell_type": "code",
   "execution_count": 110,
   "metadata": {},
   "outputs": [
    {
     "name": "stdout",
     "output_type": "stream",
     "text": [
      "Optimal number of features: 35\n",
      "Selected features: ['weekly_consumption_hour', 'num_ideal_streaming_services', 'retarget_TF', 'age', 'initial_credit_card_declined', 'join_fee', 'refund_after_trial_TF', 'package_type_base', 'package_type_economy', 'preferred_genre_comedy', 'preferred_genre_nan', 'intended_use_access to exclusive content', 'intended_use_expand international access', 'intended_use_expand regional access', 'intended_use_other', 'intended_use_replace OTT', 'intended_use_supplement OTT', 'male_TF_False', 'attribution_technical_brand sem intent google', 'attribution_technical_email', 'attribution_technical_email_blast', 'attribution_technical_facebook', 'attribution_technical_google_organic', 'attribution_technical_organic', 'attribution_technical_pinterest', 'attribution_technical_referral', 'attribution_technical_search', 'attribution_survey_facebook', 'attribution_survey_referral', 'attribution_survey_search', 'attribution_survey_tv', 'op_sys_Android', 'op_sys_iOS', 'payment_type_CBD', 'payment_type_Najim']\n"
     ]
    },
    {
     "data": {
      "image/png": "[encoded data removed]",
      "text/plain": [
       "<Figure size 720x360 with 1 Axes>"
      ]
     },
     "metadata": {
      "needs_background": "light"
     },
     "output_type": "display_data"
    }
   ],
   "source": [
    "feature_selection_class(tree.DecisionTreeClassifier(), \n",
    "                        X.drop(columns = ['paid_TF', 'payment_type_not_paid', 'revenue_net'\n",
    "                                          , 'cancel_before_trial_end','creation_until_cancel_days',\n",
    "                                         'payment_type_Paypal', 'payment_type_RAKBANK', \n",
    "                                          'payment_type_Standard Charter','num_weekly_services_utilized']), \n",
    "                        y)"
   ]
  },
  {
   "cell_type": "code",
   "execution_count": 111,
   "metadata": {},
   "outputs": [],
   "source": [
    "drop_cols = ['paid_TF', 'payment_type_not_paid', 'revenue_net'\n",
    "                                          , 'cancel_before_trial_end','creation_until_cancel_days',\n",
    "                                         'payment_type_Paypal', 'payment_type_RAKBANK', \n",
    "                                          'payment_type_Standard Charter','num_weekly_services_utilized']"
   ]
  },
  {
   "cell_type": "code",
   "execution_count": 112,
   "metadata": {},
   "outputs": [
    {
     "name": "stderr",
     "output_type": "stream",
     "text": [
      "d:\\programs\\python37\\lib\\site-packages\\sklearn\\utils\\validation.py:71: FutureWarning: Pass n_features_to_select=35 as keyword args. From version 0.25 passing these as positional arguments will result in an error\n",
      "  FutureWarning)\n"
     ]
    },
    {
     "name": "stdout",
     "output_type": "stream",
     "text": [
      "Selected features: ['num_ideal_streaming_services', 'retarget_TF', 'age', 'months_per_bill_period', 'monthly_price', 'discount_price', 'initial_credit_card_declined', 'join_fee', 'refund_after_trial_TF', 'package_type_base', 'package_type_economy', 'package_type_enhanced', 'package_type_nan', 'preferred_genre_comedy', 'preferred_genre_drama', 'preferred_genre_international', 'attribution_survey_facebook', 'attribution_survey_public_radio', 'attribution_survey_referral', 'attribution_survey_search', 'attribution_survey_sirius xm', 'attribution_survey_social_organic', 'attribution_survey_tv', 'attribution_survey_youtube', 'op_sys_Android', 'op_sys_iOS', 'op_sys_unknownOp', 'plan_type_base_eur_14_day_trial', 'plan_type_base_uae_14_day_trial', 'plan_type_high_aud_14_day_trial', 'plan_type_high_sar_14_day_trial', 'plan_type_high_uae_14_day_trial', 'plan_type_low_gbp_14_day_trial', 'payment_type_Apple Pay', 'payment_type_CBD']\n"
     ]
    },
    {
     "data": {
      "image/svg+xml": [
       "<?xml version=\"1.0\" encoding=\"UTF-8\" standalone=\"no\"?>\r\n",
       "<!DOCTYPE svg PUBLIC \"-//W3C//DTD SVG 1.1//EN\"\r\n",
       " \"http://www.w3.org/Graphics/SVG/1.1/DTD/svg11.dtd\">\r\n",
       "<!-- Generated by graphviz version 2.38.0 (20140413.2041)\r\n",
       " -->\r\n",
       "<!-- Title: Tree Pages: 1 -->\r\n",
       "<svg width=\"1284pt\" height=\"433pt\"\r\n",
       " viewBox=\"0.00 0.00 1283.50 433.00\" xmlns=\"http://www.w3.org/2000/svg\" xmlns:xlink=\"http://www.w3.org/1999/xlink\">\r\n",
       "<g id=\"graph0\" class=\"graph\" transform=\"scale(1 1) rotate(0) translate(4 429)\">\r\n",
       "<title>Tree</title>\r\n",
       "<polygon fill=\"white\" stroke=\"none\" points=\"-4,4 -4,-429 1279.5,-429 1279.5,4 -4,4\"/>\r\n",
       "<!-- 0 -->\r\n",
       "<g id=\"node1\" class=\"node\"><title>0</title>\r\n",
       "<path fill=\"#f0b58b\" stroke=\"black\" d=\"M737.5,-425C737.5,-425 495.5,-425 495.5,-425 489.5,-425 483.5,-419 483.5,-413 483.5,-413 483.5,-354 483.5,-354 483.5,-348 489.5,-342 495.5,-342 495.5,-342 737.5,-342 737.5,-342 743.5,-342 749.5,-348 749.5,-354 749.5,-354 749.5,-413 749.5,-413 749.5,-419 743.5,-425 737.5,-425\"/>\r\n",
       "<text text-anchor=\"start\" x=\"491.5\" y=\"-409.8\" font-family=\"Helvetica,sans-Serif\" font-size=\"14.00\">num_ideal_streaming_services ≤ 1.009</text>\r\n",
       "<text text-anchor=\"start\" x=\"579\" y=\"-394.8\" font-family=\"Helvetica,sans-Serif\" font-size=\"14.00\">gini = 0.415</text>\r\n",
       "<text text-anchor=\"start\" x=\"556.5\" y=\"-379.8\" font-family=\"Helvetica,sans-Serif\" font-size=\"14.00\">samples = 151532</text>\r\n",
       "<text text-anchor=\"start\" x=\"539\" y=\"-364.8\" font-family=\"Helvetica,sans-Serif\" font-size=\"14.00\">value = [107015, 44517]</text>\r\n",
       "<text text-anchor=\"start\" x=\"574.5\" y=\"-349.8\" font-family=\"Helvetica,sans-Serif\" font-size=\"14.00\">class = churn</text>\r\n",
       "</g>\r\n",
       "<!-- 1 -->\r\n",
       "<g id=\"node2\" class=\"node\"><title>1</title>\r\n",
       "<path fill=\"#e9965a\" stroke=\"black\" d=\"M576,-306C576,-306 415,-306 415,-306 409,-306 403,-300 403,-294 403,-294 403,-235 403,-235 403,-229 409,-223 415,-223 415,-223 576,-223 576,-223 582,-223 588,-229 588,-235 588,-235 588,-294 588,-294 588,-300 582,-306 576,-306\"/>\r\n",
       "<text text-anchor=\"start\" x=\"411\" y=\"-290.8\" font-family=\"Helvetica,sans-Serif\" font-size=\"14.00\">refund_after_trial_TF ≤ 0.5</text>\r\n",
       "<text text-anchor=\"start\" x=\"458\" y=\"-275.8\" font-family=\"Helvetica,sans-Serif\" font-size=\"14.00\">gini = 0.245</text>\r\n",
       "<text text-anchor=\"start\" x=\"439.5\" y=\"-260.8\" font-family=\"Helvetica,sans-Serif\" font-size=\"14.00\">samples = 34934</text>\r\n",
       "<text text-anchor=\"start\" x=\"426\" y=\"-245.8\" font-family=\"Helvetica,sans-Serif\" font-size=\"14.00\">value = [29952, 4982]</text>\r\n",
       "<text text-anchor=\"start\" x=\"453.5\" y=\"-230.8\" font-family=\"Helvetica,sans-Serif\" font-size=\"14.00\">class = churn</text>\r\n",
       "</g>\r\n",
       "<!-- 0&#45;&gt;1 -->\r\n",
       "<g id=\"edge1\" class=\"edge\"><title>0&#45;&gt;1</title>\r\n",
       "<path fill=\"none\" stroke=\"black\" d=\"M574.52,-341.907C564.947,-332.651 554.689,-322.732 544.84,-313.209\"/>\r\n",
       "<polygon fill=\"black\" stroke=\"black\" points=\"547.028,-310.456 537.406,-306.021 542.162,-315.488 547.028,-310.456\"/>\r\n",
       "<text text-anchor=\"middle\" x=\"537.826\" y=\"-327.317\" font-family=\"Helvetica,sans-Serif\" font-size=\"14.00\">True</text>\r\n",
       "</g>\r\n",
       "<!-- 8 -->\r\n",
       "<g id=\"node9\" class=\"node\"><title>8</title>\r\n",
       "<path fill=\"#f2c29f\" stroke=\"black\" d=\"M812.5,-306C812.5,-306 664.5,-306 664.5,-306 658.5,-306 652.5,-300 652.5,-294 652.5,-294 652.5,-235 652.5,-235 652.5,-229 658.5,-223 664.5,-223 664.5,-223 812.5,-223 812.5,-223 818.5,-223 824.5,-229 824.5,-235 824.5,-235 824.5,-294 824.5,-294 824.5,-300 818.5,-306 812.5,-306\"/>\r\n",
       "<text text-anchor=\"start\" x=\"660.5\" y=\"-290.8\" font-family=\"Helvetica,sans-Serif\" font-size=\"14.00\">package_type_nan ≤ 0.5</text>\r\n",
       "<text text-anchor=\"start\" x=\"701\" y=\"-275.8\" font-family=\"Helvetica,sans-Serif\" font-size=\"14.00\">gini = 0.448</text>\r\n",
       "<text text-anchor=\"start\" x=\"678.5\" y=\"-260.8\" font-family=\"Helvetica,sans-Serif\" font-size=\"14.00\">samples = 116598</text>\r\n",
       "<text text-anchor=\"start\" x=\"665\" y=\"-245.8\" font-family=\"Helvetica,sans-Serif\" font-size=\"14.00\">value = [77063, 39535]</text>\r\n",
       "<text text-anchor=\"start\" x=\"696.5\" y=\"-230.8\" font-family=\"Helvetica,sans-Serif\" font-size=\"14.00\">class = churn</text>\r\n",
       "</g>\r\n",
       "<!-- 0&#45;&gt;8 -->\r\n",
       "<g id=\"edge8\" class=\"edge\"><title>0&#45;&gt;8</title>\r\n",
       "<path fill=\"none\" stroke=\"black\" d=\"M658.827,-341.907C668.479,-332.651 678.822,-322.732 688.752,-313.209\"/>\r\n",
       "<polygon fill=\"black\" stroke=\"black\" points=\"691.453,-315.469 696.248,-306.021 686.608,-310.416 691.453,-315.469\"/>\r\n",
       "<text text-anchor=\"middle\" x=\"695.725\" y=\"-327.315\" font-family=\"Helvetica,sans-Serif\" font-size=\"14.00\">False</text>\r\n",
       "</g>\r\n",
       "<!-- 2 -->\r\n",
       "<g id=\"node3\" class=\"node\"><title>2</title>\r\n",
       "<path fill=\"#e89153\" stroke=\"black\" d=\"M316.5,-187C316.5,-187 160.5,-187 160.5,-187 154.5,-187 148.5,-181 148.5,-175 148.5,-175 148.5,-116 148.5,-116 148.5,-110 154.5,-104 160.5,-104 160.5,-104 316.5,-104 316.5,-104 322.5,-104 328.5,-110 328.5,-116 328.5,-116 328.5,-175 328.5,-175 328.5,-181 322.5,-187 316.5,-187\"/>\r\n",
       "<text text-anchor=\"start\" x=\"156.5\" y=\"-171.8\" font-family=\"Helvetica,sans-Serif\" font-size=\"14.00\">payment_type_CBD ≤ 0.5</text>\r\n",
       "<text text-anchor=\"start\" x=\"201\" y=\"-156.8\" font-family=\"Helvetica,sans-Serif\" font-size=\"14.00\">gini = 0.202</text>\r\n",
       "<text text-anchor=\"start\" x=\"182.5\" y=\"-141.8\" font-family=\"Helvetica,sans-Serif\" font-size=\"14.00\">samples = 32723</text>\r\n",
       "<text text-anchor=\"start\" x=\"169\" y=\"-126.8\" font-family=\"Helvetica,sans-Serif\" font-size=\"14.00\">value = [28988, 3735]</text>\r\n",
       "<text text-anchor=\"start\" x=\"196.5\" y=\"-111.8\" font-family=\"Helvetica,sans-Serif\" font-size=\"14.00\">class = churn</text>\r\n",
       "</g>\r\n",
       "<!-- 1&#45;&gt;2 -->\r\n",
       "<g id=\"edge2\" class=\"edge\"><title>1&#45;&gt;2</title>\r\n",
       "<path fill=\"none\" stroke=\"black\" d=\"M406.335,-222.907C383.909,-212.698 359.714,-201.683 336.866,-191.282\"/>\r\n",
       "<polygon fill=\"black\" stroke=\"black\" points=\"338.059,-187.979 327.507,-187.021 335.158,-194.35 338.059,-187.979\"/>\r\n",
       "</g>\r\n",
       "<!-- 5 -->\r\n",
       "<g id=\"node6\" class=\"node\"><title>5</title>\r\n",
       "<path fill=\"#d2e9f9\" stroke=\"black\" d=\"M552.5,-187C552.5,-187 438.5,-187 438.5,-187 432.5,-187 426.5,-181 426.5,-175 426.5,-175 426.5,-116 426.5,-116 426.5,-110 432.5,-104 438.5,-104 438.5,-104 552.5,-104 552.5,-104 558.5,-104 564.5,-110 564.5,-116 564.5,-116 564.5,-175 564.5,-175 564.5,-181 558.5,-187 552.5,-187\"/>\r\n",
       "<text text-anchor=\"start\" x=\"461.5\" y=\"-171.8\" font-family=\"Helvetica,sans-Serif\" font-size=\"14.00\">age ≤ 54.5</text>\r\n",
       "<text text-anchor=\"start\" x=\"458\" y=\"-156.8\" font-family=\"Helvetica,sans-Serif\" font-size=\"14.00\">gini = 0.492</text>\r\n",
       "<text text-anchor=\"start\" x=\"444\" y=\"-141.8\" font-family=\"Helvetica,sans-Serif\" font-size=\"14.00\">samples = 2211</text>\r\n",
       "<text text-anchor=\"start\" x=\"434.5\" y=\"-126.8\" font-family=\"Helvetica,sans-Serif\" font-size=\"14.00\">value = [964, 1247]</text>\r\n",
       "<text text-anchor=\"start\" x=\"451.5\" y=\"-111.8\" font-family=\"Helvetica,sans-Serif\" font-size=\"14.00\">class = renew</text>\r\n",
       "</g>\r\n",
       "<!-- 1&#45;&gt;5 -->\r\n",
       "<g id=\"edge5\" class=\"edge\"><title>1&#45;&gt;5</title>\r\n",
       "<path fill=\"none\" stroke=\"black\" d=\"M495.5,-222.907C495.5,-214.649 495.5,-205.864 495.5,-197.302\"/>\r\n",
       "<polygon fill=\"black\" stroke=\"black\" points=\"499,-197.021 495.5,-187.021 492,-197.021 499,-197.021\"/>\r\n",
       "</g>\r\n",
       "<!-- 3 -->\r\n",
       "<g id=\"node4\" class=\"node\"><title>3</title>\r\n",
       "<path fill=\"#e89051\" stroke=\"black\" d=\"M143,-68C143,-68 12,-68 12,-68 6,-68 0,-62 0,-56 0,-56 0,-12 0,-12 0,-6 6,-0 12,-0 12,-0 143,-0 143,-0 149,-0 155,-6 155,-12 155,-12 155,-56 155,-56 155,-62 149,-68 143,-68\"/>\r\n",
       "<text text-anchor=\"start\" x=\"44\" y=\"-52.8\" font-family=\"Helvetica,sans-Serif\" font-size=\"14.00\">gini = 0.19</text>\r\n",
       "<text text-anchor=\"start\" x=\"21.5\" y=\"-37.8\" font-family=\"Helvetica,sans-Serif\" font-size=\"14.00\">samples = 32272</text>\r\n",
       "<text text-anchor=\"start\" x=\"8\" y=\"-22.8\" font-family=\"Helvetica,sans-Serif\" font-size=\"14.00\">value = [28842, 3430]</text>\r\n",
       "<text text-anchor=\"start\" x=\"35.5\" y=\"-7.8\" font-family=\"Helvetica,sans-Serif\" font-size=\"14.00\">class = churn</text>\r\n",
       "</g>\r\n",
       "<!-- 2&#45;&gt;3 -->\r\n",
       "<g id=\"edge3\" class=\"edge\"><title>2&#45;&gt;3</title>\r\n",
       "<path fill=\"none\" stroke=\"black\" d=\"M178.55,-103.726C164.126,-93.9161 148.758,-83.4644 134.474,-73.7496\"/>\r\n",
       "<polygon fill=\"black\" stroke=\"black\" points=\"136.442,-70.855 126.205,-68.1252 132.505,-76.6431 136.442,-70.855\"/>\r\n",
       "</g>\r\n",
       "<!-- 4 -->\r\n",
       "<g id=\"node5\" class=\"node\"><title>4</title>\r\n",
       "<path fill=\"#98ccf1\" stroke=\"black\" d=\"M291.5,-68C291.5,-68 185.5,-68 185.5,-68 179.5,-68 173.5,-62 173.5,-56 173.5,-56 173.5,-12 173.5,-12 173.5,-6 179.5,-0 185.5,-0 185.5,-0 291.5,-0 291.5,-0 297.5,-0 303.5,-6 303.5,-12 303.5,-12 303.5,-56 303.5,-56 303.5,-62 297.5,-68 291.5,-68\"/>\r\n",
       "<text text-anchor=\"start\" x=\"201\" y=\"-52.8\" font-family=\"Helvetica,sans-Serif\" font-size=\"14.00\">gini = 0.438</text>\r\n",
       "<text text-anchor=\"start\" x=\"191\" y=\"-37.8\" font-family=\"Helvetica,sans-Serif\" font-size=\"14.00\">samples = 451</text>\r\n",
       "<text text-anchor=\"start\" x=\"181.5\" y=\"-22.8\" font-family=\"Helvetica,sans-Serif\" font-size=\"14.00\">value = [146, 305]</text>\r\n",
       "<text text-anchor=\"start\" x=\"194.5\" y=\"-7.8\" font-family=\"Helvetica,sans-Serif\" font-size=\"14.00\">class = renew</text>\r\n",
       "</g>\r\n",
       "<!-- 2&#45;&gt;4 -->\r\n",
       "<g id=\"edge4\" class=\"edge\"><title>2&#45;&gt;4</title>\r\n",
       "<path fill=\"none\" stroke=\"black\" d=\"M238.5,-103.726C238.5,-95.5175 238.5,-86.8595 238.5,-78.56\"/>\r\n",
       "<polygon fill=\"black\" stroke=\"black\" points=\"242,-78.2996 238.5,-68.2996 235,-78.2996 242,-78.2996\"/>\r\n",
       "</g>\r\n",
       "<!-- 6 -->\r\n",
       "<g id=\"node7\" class=\"node\"><title>6</title>\r\n",
       "<path fill=\"#daedfa\" stroke=\"black\" d=\"M439.5,-68C439.5,-68 333.5,-68 333.5,-68 327.5,-68 321.5,-62 321.5,-56 321.5,-56 321.5,-12 321.5,-12 321.5,-6 327.5,-0 333.5,-0 333.5,-0 439.5,-0 439.5,-0 445.5,-0 451.5,-6 451.5,-12 451.5,-12 451.5,-56 451.5,-56 451.5,-62 445.5,-68 439.5,-68\"/>\r\n",
       "<text text-anchor=\"start\" x=\"349\" y=\"-52.8\" font-family=\"Helvetica,sans-Serif\" font-size=\"14.00\">gini = 0.495</text>\r\n",
       "<text text-anchor=\"start\" x=\"335\" y=\"-37.8\" font-family=\"Helvetica,sans-Serif\" font-size=\"14.00\">samples = 1514</text>\r\n",
       "<text text-anchor=\"start\" x=\"329.5\" y=\"-22.8\" font-family=\"Helvetica,sans-Serif\" font-size=\"14.00\">value = [679, 835]</text>\r\n",
       "<text text-anchor=\"start\" x=\"342.5\" y=\"-7.8\" font-family=\"Helvetica,sans-Serif\" font-size=\"14.00\">class = renew</text>\r\n",
       "</g>\r\n",
       "<!-- 5&#45;&gt;6 -->\r\n",
       "<g id=\"edge6\" class=\"edge\"><title>5&#45;&gt;6</title>\r\n",
       "<path fill=\"none\" stroke=\"black\" d=\"M454.912,-103.726C445.742,-94.5142 436.009,-84.7364 426.849,-75.5343\"/>\r\n",
       "<polygon fill=\"black\" stroke=\"black\" points=\"429.183,-72.9176 419.648,-68.2996 424.222,-77.8561 429.183,-72.9176\"/>\r\n",
       "</g>\r\n",
       "<!-- 7 -->\r\n",
       "<g id=\"node8\" class=\"node\"><title>7</title>\r\n",
       "<path fill=\"#c2e1f7\" stroke=\"black\" d=\"M587.5,-68C587.5,-68 481.5,-68 481.5,-68 475.5,-68 469.5,-62 469.5,-56 469.5,-56 469.5,-12 469.5,-12 469.5,-6 475.5,-0 481.5,-0 481.5,-0 587.5,-0 587.5,-0 593.5,-0 599.5,-6 599.5,-12 599.5,-12 599.5,-56 599.5,-56 599.5,-62 593.5,-68 587.5,-68\"/>\r\n",
       "<text text-anchor=\"start\" x=\"497\" y=\"-52.8\" font-family=\"Helvetica,sans-Serif\" font-size=\"14.00\">gini = 0.483</text>\r\n",
       "<text text-anchor=\"start\" x=\"487\" y=\"-37.8\" font-family=\"Helvetica,sans-Serif\" font-size=\"14.00\">samples = 697</text>\r\n",
       "<text text-anchor=\"start\" x=\"477.5\" y=\"-22.8\" font-family=\"Helvetica,sans-Serif\" font-size=\"14.00\">value = [285, 412]</text>\r\n",
       "<text text-anchor=\"start\" x=\"490.5\" y=\"-7.8\" font-family=\"Helvetica,sans-Serif\" font-size=\"14.00\">class = renew</text>\r\n",
       "</g>\r\n",
       "<!-- 5&#45;&gt;7 -->\r\n",
       "<g id=\"edge7\" class=\"edge\"><title>5&#45;&gt;7</title>\r\n",
       "<path fill=\"none\" stroke=\"black\" d=\"M510.022,-103.726C513.043,-95.2439 516.235,-86.2819 519.281,-77.7312\"/>\r\n",
       "<polygon fill=\"black\" stroke=\"black\" points=\"522.582,-78.8943 522.64,-68.2996 515.987,-76.5456 522.582,-78.8943\"/>\r\n",
       "</g>\r\n",
       "<!-- 9 -->\r\n",
       "<g id=\"node10\" class=\"node\"><title>9</title>\r\n",
       "<path fill=\"#f0b58a\" stroke=\"black\" d=\"M841.5,-187C841.5,-187 635.5,-187 635.5,-187 629.5,-187 623.5,-181 623.5,-175 623.5,-175 623.5,-116 623.5,-116 623.5,-110 629.5,-104 635.5,-104 635.5,-104 841.5,-104 841.5,-104 847.5,-104 853.5,-110 853.5,-116 853.5,-116 853.5,-175 853.5,-175 853.5,-181 847.5,-187 841.5,-187\"/>\r\n",
       "<text text-anchor=\"start\" x=\"631.5\" y=\"-171.8\" font-family=\"Helvetica,sans-Serif\" font-size=\"14.00\">attribution_survey_facebook ≤ 0.5</text>\r\n",
       "<text text-anchor=\"start\" x=\"701\" y=\"-156.8\" font-family=\"Helvetica,sans-Serif\" font-size=\"14.00\">gini = 0.412</text>\r\n",
       "<text text-anchor=\"start\" x=\"682.5\" y=\"-141.8\" font-family=\"Helvetica,sans-Serif\" font-size=\"14.00\">samples = 84325</text>\r\n",
       "<text text-anchor=\"start\" x=\"665\" y=\"-126.8\" font-family=\"Helvetica,sans-Serif\" font-size=\"14.00\">value = [59852, 24473]</text>\r\n",
       "<text text-anchor=\"start\" x=\"696.5\" y=\"-111.8\" font-family=\"Helvetica,sans-Serif\" font-size=\"14.00\">class = churn</text>\r\n",
       "</g>\r\n",
       "<!-- 8&#45;&gt;9 -->\r\n",
       "<g id=\"edge9\" class=\"edge\"><title>8&#45;&gt;9</title>\r\n",
       "<path fill=\"none\" stroke=\"black\" d=\"M738.5,-222.907C738.5,-214.649 738.5,-205.864 738.5,-197.302\"/>\r\n",
       "<polygon fill=\"black\" stroke=\"black\" points=\"742,-197.021 738.5,-187.021 735,-197.021 742,-197.021\"/>\r\n",
       "</g>\r\n",
       "<!-- 12 -->\r\n",
       "<g id=\"node13\" class=\"node\"><title>12</title>\r\n",
       "<path fill=\"#fcefe6\" stroke=\"black\" d=\"M1153.5,-187C1153.5,-187 953.5,-187 953.5,-187 947.5,-187 941.5,-181 941.5,-175 941.5,-175 941.5,-116 941.5,-116 941.5,-110 947.5,-104 953.5,-104 953.5,-104 1153.5,-104 1153.5,-104 1159.5,-104 1165.5,-110 1165.5,-116 1165.5,-116 1165.5,-175 1165.5,-175 1165.5,-181 1159.5,-187 1153.5,-187\"/>\r\n",
       "<text text-anchor=\"start\" x=\"949.5\" y=\"-171.8\" font-family=\"Helvetica,sans-Serif\" font-size=\"14.00\">initial_credit_card_declined ≤ 0.5</text>\r\n",
       "<text text-anchor=\"start\" x=\"1016\" y=\"-156.8\" font-family=\"Helvetica,sans-Serif\" font-size=\"14.00\">gini = 0.498</text>\r\n",
       "<text text-anchor=\"start\" x=\"997.5\" y=\"-141.8\" font-family=\"Helvetica,sans-Serif\" font-size=\"14.00\">samples = 32273</text>\r\n",
       "<text text-anchor=\"start\" x=\"980\" y=\"-126.8\" font-family=\"Helvetica,sans-Serif\" font-size=\"14.00\">value = [17211, 15062]</text>\r\n",
       "<text text-anchor=\"start\" x=\"1011.5\" y=\"-111.8\" font-family=\"Helvetica,sans-Serif\" font-size=\"14.00\">class = churn</text>\r\n",
       "</g>\r\n",
       "<!-- 8&#45;&gt;12 -->\r\n",
       "<g id=\"edge12\" class=\"edge\"><title>8&#45;&gt;12</title>\r\n",
       "<path fill=\"none\" stroke=\"black\" d=\"M824.575,-231.529C858.52,-218.921 898.081,-204.227 934.673,-190.636\"/>\r\n",
       "<polygon fill=\"black\" stroke=\"black\" points=\"936.25,-193.784 944.406,-187.021 933.813,-187.222 936.25,-193.784\"/>\r\n",
       "</g>\r\n",
       "<!-- 10 -->\r\n",
       "<g id=\"node11\" class=\"node\"><title>10</title>\r\n",
       "<path fill=\"#f3c6a5\" stroke=\"black\" d=\"M769,-68C769,-68 630,-68 630,-68 624,-68 618,-62 618,-56 618,-56 618,-12 618,-12 618,-6 624,-0 630,-0 630,-0 769,-0 769,-0 775,-0 781,-6 781,-12 781,-12 781,-56 781,-56 781,-62 775,-68 769,-68\"/>\r\n",
       "<text text-anchor=\"start\" x=\"662\" y=\"-52.8\" font-family=\"Helvetica,sans-Serif\" font-size=\"14.00\">gini = 0.457</text>\r\n",
       "<text text-anchor=\"start\" x=\"643.5\" y=\"-37.8\" font-family=\"Helvetica,sans-Serif\" font-size=\"14.00\">samples = 49059</text>\r\n",
       "<text text-anchor=\"start\" x=\"626\" y=\"-22.8\" font-family=\"Helvetica,sans-Serif\" font-size=\"14.00\">value = [31750, 17309]</text>\r\n",
       "<text text-anchor=\"start\" x=\"657.5\" y=\"-7.8\" font-family=\"Helvetica,sans-Serif\" font-size=\"14.00\">class = churn</text>\r\n",
       "</g>\r\n",
       "<!-- 9&#45;&gt;10 -->\r\n",
       "<g id=\"edge10\" class=\"edge\"><title>9&#45;&gt;10</title>\r\n",
       "<path fill=\"none\" stroke=\"black\" d=\"M723.978,-103.726C720.957,-95.2439 717.765,-86.2819 714.719,-77.7312\"/>\r\n",
       "<polygon fill=\"black\" stroke=\"black\" points=\"718.013,-76.5456 711.36,-68.2996 711.418,-78.8943 718.013,-76.5456\"/>\r\n",
       "</g>\r\n",
       "<!-- 11 -->\r\n",
       "<g id=\"node12\" class=\"node\"><title>11</title>\r\n",
       "<path fill=\"#eca16b\" stroke=\"black\" d=\"M942,-68C942,-68 811,-68 811,-68 805,-68 799,-62 799,-56 799,-56 799,-12 799,-12 799,-6 805,-0 811,-0 811,-0 942,-0 942,-0 948,-0 954,-6 954,-12 954,-12 954,-56 954,-56 954,-62 948,-68 942,-68\"/>\r\n",
       "<text text-anchor=\"start\" x=\"839\" y=\"-52.8\" font-family=\"Helvetica,sans-Serif\" font-size=\"14.00\">gini = 0.324</text>\r\n",
       "<text text-anchor=\"start\" x=\"820.5\" y=\"-37.8\" font-family=\"Helvetica,sans-Serif\" font-size=\"14.00\">samples = 35266</text>\r\n",
       "<text text-anchor=\"start\" x=\"807\" y=\"-22.8\" font-family=\"Helvetica,sans-Serif\" font-size=\"14.00\">value = [28102, 7164]</text>\r\n",
       "<text text-anchor=\"start\" x=\"834.5\" y=\"-7.8\" font-family=\"Helvetica,sans-Serif\" font-size=\"14.00\">class = churn</text>\r\n",
       "</g>\r\n",
       "<!-- 9&#45;&gt;11 -->\r\n",
       "<g id=\"edge11\" class=\"edge\"><title>9&#45;&gt;11</title>\r\n",
       "<path fill=\"none\" stroke=\"black\" d=\"M789.886,-103.726C801.841,-94.2406 814.551,-84.1551 826.447,-74.7159\"/>\r\n",
       "<polygon fill=\"black\" stroke=\"black\" points=\"828.875,-77.2571 834.533,-68.2996 824.524,-71.7736 828.875,-77.2571\"/>\r\n",
       "</g>\r\n",
       "<!-- 13 -->\r\n",
       "<g id=\"node14\" class=\"node\"><title>13</title>\r\n",
       "<path fill=\"#fdf3ed\" stroke=\"black\" d=\"M1123,-68C1123,-68 984,-68 984,-68 978,-68 972,-62 972,-56 972,-56 972,-12 972,-12 972,-6 978,-0 984,-0 984,-0 1123,-0 1123,-0 1129,-0 1135,-6 1135,-12 1135,-12 1135,-56 1135,-56 1135,-62 1129,-68 1123,-68\"/>\r\n",
       "<text text-anchor=\"start\" x=\"1016\" y=\"-52.8\" font-family=\"Helvetica,sans-Serif\" font-size=\"14.00\">gini = 0.499</text>\r\n",
       "<text text-anchor=\"start\" x=\"997.5\" y=\"-37.8\" font-family=\"Helvetica,sans-Serif\" font-size=\"14.00\">samples = 31637</text>\r\n",
       "<text text-anchor=\"start\" x=\"980\" y=\"-22.8\" font-family=\"Helvetica,sans-Serif\" font-size=\"14.00\">value = [16586, 15051]</text>\r\n",
       "<text text-anchor=\"start\" x=\"1011.5\" y=\"-7.8\" font-family=\"Helvetica,sans-Serif\" font-size=\"14.00\">class = churn</text>\r\n",
       "</g>\r\n",
       "<!-- 12&#45;&gt;13 -->\r\n",
       "<g id=\"edge13\" class=\"edge\"><title>12&#45;&gt;13</title>\r\n",
       "<path fill=\"none\" stroke=\"black\" d=\"M1053.5,-103.726C1053.5,-95.5175 1053.5,-86.8595 1053.5,-78.56\"/>\r\n",
       "<polygon fill=\"black\" stroke=\"black\" points=\"1057,-78.2996 1053.5,-68.2996 1050,-78.2996 1057,-78.2996\"/>\r\n",
       "</g>\r\n",
       "<!-- 14 -->\r\n",
       "<g id=\"node15\" class=\"node\"><title>14</title>\r\n",
       "<path fill=\"#e5833c\" stroke=\"black\" d=\"M1263.5,-68C1263.5,-68 1165.5,-68 1165.5,-68 1159.5,-68 1153.5,-62 1153.5,-56 1153.5,-56 1153.5,-12 1153.5,-12 1153.5,-6 1159.5,-0 1165.5,-0 1165.5,-0 1263.5,-0 1263.5,-0 1269.5,-0 1275.5,-6 1275.5,-12 1275.5,-12 1275.5,-56 1275.5,-56 1275.5,-62 1269.5,-68 1263.5,-68\"/>\r\n",
       "<text text-anchor=\"start\" x=\"1177\" y=\"-52.8\" font-family=\"Helvetica,sans-Serif\" font-size=\"14.00\">gini = 0.034</text>\r\n",
       "<text text-anchor=\"start\" x=\"1167\" y=\"-37.8\" font-family=\"Helvetica,sans-Serif\" font-size=\"14.00\">samples = 636</text>\r\n",
       "<text text-anchor=\"start\" x=\"1161.5\" y=\"-22.8\" font-family=\"Helvetica,sans-Serif\" font-size=\"14.00\">value = [625, 11]</text>\r\n",
       "<text text-anchor=\"start\" x=\"1172.5\" y=\"-7.8\" font-family=\"Helvetica,sans-Serif\" font-size=\"14.00\">class = churn</text>\r\n",
       "</g>\r\n",
       "<!-- 12&#45;&gt;14 -->\r\n",
       "<g id=\"edge14\" class=\"edge\"><title>12&#45;&gt;14</title>\r\n",
       "<path fill=\"none\" stroke=\"black\" d=\"M1113.45,-103.726C1127.87,-93.9161 1143.24,-83.4644 1157.53,-73.7496\"/>\r\n",
       "<polygon fill=\"black\" stroke=\"black\" points=\"1159.49,-76.6431 1165.8,-68.1252 1155.56,-70.855 1159.49,-76.6431\"/>\r\n",
       "</g>\r\n",
       "</g>\r\n",
       "</svg>\r\n"
      ],
      "text/plain": [
       "<graphviz.files.Source at 0x1eb874b6f60>"
      ]
     },
     "execution_count": 112,
     "metadata": {},
     "output_type": "execute_result"
    }
   ],
   "source": [
    "import graphviz \n",
    "num = 35\n",
    "model = tree.DecisionTreeClassifier(max_depth=3)\n",
    "# create the RFE model and select 5 attributes\n",
    "rfe = RFE(model, num)\n",
    "rfe = rfe.fit(X.drop(columns = drop_cols), y)\n",
    "# summarize the selection of the attributes\n",
    "col = list(X.drop(columns = drop_cols).columns[rfe.support_])\n",
    "print('Selected features: %s' % list(X.drop(columns = drop_cols).columns[rfe.support_]))\n",
    "# 2 define col\n",
    "clf = tree.DecisionTreeClassifier(max_depth=3)\n",
    "clf = clf.fit(X[col], y)\n",
    "dot_data = tree.export_graphviz(clf, out_file=None, \n",
    "                 feature_names=X[col].columns,  \n",
    "                 class_names=['churn','renew'],  \n",
    "                 filled=True, rounded=True,  \n",
    "                 special_characters=True)  \n",
    "graph = graphviz.Source(dot_data)  \n",
    "graph.render(\"churn_only_\" + str(num)+\"_features.pdf\") \n",
    "\n",
    "graph"
   ]
  },
  {
   "cell_type": "markdown",
   "metadata": {},
   "source": [
    "## 4 Logistic regression model"
   ]
  },
  {
   "cell_type": "code",
   "execution_count": null,
   "metadata": {},
   "outputs": [],
   "source": []
  },
  {
   "cell_type": "code",
   "execution_count": 151,
   "metadata": {
    "scrolled": false
   },
   "outputs": [
    {
     "name": "stdout",
     "output_type": "stream",
     "text": [
      "Optimal number of features: 86\n",
      "Selected features: ['weekly_consumption_hour', 'num_ideal_streaming_services', 'retarget_TF', 'age', 'months_per_bill_period', 'monthly_price', 'discount_price', 'initial_credit_card_declined', 'join_fee', 'refund_after_trial_TF', 'package_type_base', 'package_type_economy', 'package_type_enhanced', 'package_type_nan', 'preferred_genre_comedy', 'preferred_genre_drama', 'preferred_genre_international', 'preferred_genre_nan', 'preferred_genre_other', 'preferred_genre_regional', 'intended_use_access to exclusive content', 'intended_use_education', 'intended_use_expand international access', 'intended_use_expand regional access', 'intended_use_nan', 'intended_use_other', 'intended_use_replace OTT', 'intended_use_supplement OTT', 'male_TF_False', 'male_TF_True', 'attribution_technical_affiliate', 'attribution_technical_appstore', 'attribution_technical_bing', 'attribution_technical_bing_organic', 'attribution_technical_brand sem intent bing', 'attribution_technical_brand sem intent google', 'attribution_technical_content_greatist', 'attribution_technical_criteo', 'attribution_technical_direct_mail', 'attribution_technical_discovery', 'attribution_technical_display', 'attribution_technical_email', 'attribution_technical_email_blast', 'attribution_technical_facebook', 'attribution_technical_facebook_organic', 'attribution_technical_google_organic', 'attribution_technical_influencer', 'attribution_technical_internal', 'attribution_technical_organic', 'attribution_technical_other', 'attribution_technical_ott', 'attribution_technical_pinterest', 'attribution_technical_pinterest_organic', 'attribution_technical_playstore', 'attribution_technical_podcast', 'attribution_technical_quora', 'attribution_technical_referral', 'attribution_technical_samsung', 'attribution_technical_search', 'attribution_technical_tv', 'attribution_technical_vod', 'attribution_technical_youtube', 'attribution_survey_affiliate', 'attribution_survey_amfm_radio', 'attribution_survey_direct_mail', 'attribution_survey_facebook', 'attribution_survey_facebook_organic', 'attribution_survey_other', 'attribution_survey_ott', 'attribution_survey_pinterest', 'attribution_survey_podcast', 'attribution_survey_public_radio', 'attribution_survey_referral', 'attribution_survey_search', 'attribution_survey_sirius xm', 'attribution_survey_social_organic', 'attribution_survey_tv', 'attribution_survey_youtube', 'op_sys_Android', 'op_sys_iOS', 'op_sys_unknownOp', 'plan_type_base_eur_14_day_trial', 'plan_type_base_uae_14_day_trial', 'plan_type_high_aud_14_day_trial', 'plan_type_high_sar_14_day_trial', 'plan_type_high_uae_14_day_trial']\n"
     ]
    },
    {
     "data": {
      "image/png": "[encoded data removed]",
      "text/plain": [
       "<Figure size 720x360 with 1 Axes>"
      ]
     },
     "metadata": {
      "needs_background": "light"
     },
     "output_type": "display_data"
    }
   ],
   "source": [
    "from sklearn.linear_model import LogisticRegression\n",
    "feature_selection_class(LogisticRegression(), \n",
    "                        X.drop(columns = ['paid_TF', 'payment_type_not_paid', 'revenue_net'\n",
    "                                          , 'cancel_before_trial_end','creation_until_cancel_days',\n",
    "                                         'payment_type_Paypal', 'payment_type_RAKBANK', \n",
    "                                          'payment_type_Standard Charter','num_weekly_services_utilized',\n",
    "                                         'payment_type_CBD', 'payment_type_Najim']), \n",
    "                        y)"
   ]
  },
  {
   "cell_type": "code",
   "execution_count": 113,
   "metadata": {},
   "outputs": [
    {
     "data": {
      "text/plain": [
       "(151532, 100)"
      ]
     },
     "execution_count": 113,
     "metadata": {},
     "output_type": "execute_result"
    }
   ],
   "source": [
    "X.shape"
   ]
  },
  {
   "cell_type": "code",
   "execution_count": 114,
   "metadata": {},
   "outputs": [
    {
     "data": {
      "text/plain": [
       "(151532, 1)"
      ]
     },
     "execution_count": 114,
     "metadata": {},
     "output_type": "execute_result"
    }
   ],
   "source": [
    "y.shape"
   ]
  },
  {
   "cell_type": "code",
   "execution_count": 126,
   "metadata": {},
   "outputs": [],
   "source": [
    "from sklearn.datasets import load_iris\n",
    "\n",
    "# clf = LogisticRegression(random_state=0).fit(X, y)\n",
    "\n",
    "from sklearn.preprocessing import StandardScaler\n",
    "from sklearn.pipeline import make_pipeline\n",
    "from sklearn.linear_model import LogisticRegression\n",
    "from sklearn.model_selection import train_test_split\n",
    "drop_cols = ['paid_TF', 'payment_type_not_paid', 'revenue_net'\n",
    "                                          , 'cancel_before_trial_end','creation_until_cancel_days',\n",
    "                                         'payment_type_Paypal', 'payment_type_RAKBANK', \n",
    "                                          'payment_type_Standard Charter','num_weekly_services_utilized']\n",
    "\n",
    "X_train, X_test, y_train, y_test = train_test_split(X.drop(columns = drop_cols), y, test_size=0.2,random_state=42)\n",
    "# X_train, X_test, y_train, y_test = train_test_split(X[col], y, test_size=0.2,random_state=42)\n"
   ]
  },
  {
   "cell_type": "markdown",
   "metadata": {},
   "source": [
    "## 5 Confusion Matrix and ROC"
   ]
  },
  {
   "cell_type": "markdown",
   "metadata": {},
   "source": [
    "Decision Tree"
   ]
  },
  {
   "cell_type": "code",
   "execution_count": 116,
   "metadata": {},
   "outputs": [
    {
     "data": {
      "text/plain": [
       "['num_ideal_streaming_services',\n",
       " 'retarget_TF',\n",
       " 'age',\n",
       " 'months_per_bill_period',\n",
       " 'monthly_price',\n",
       " 'discount_price',\n",
       " 'initial_credit_card_declined',\n",
       " 'join_fee',\n",
       " 'refund_after_trial_TF',\n",
       " 'package_type_base',\n",
       " 'package_type_economy',\n",
       " 'package_type_enhanced',\n",
       " 'package_type_nan',\n",
       " 'preferred_genre_comedy',\n",
       " 'preferred_genre_drama',\n",
       " 'preferred_genre_international',\n",
       " 'attribution_survey_facebook',\n",
       " 'attribution_survey_public_radio',\n",
       " 'attribution_survey_referral',\n",
       " 'attribution_survey_search',\n",
       " 'attribution_survey_sirius xm',\n",
       " 'attribution_survey_social_organic',\n",
       " 'attribution_survey_tv',\n",
       " 'attribution_survey_youtube',\n",
       " 'op_sys_Android',\n",
       " 'op_sys_iOS',\n",
       " 'op_sys_unknownOp',\n",
       " 'plan_type_base_eur_14_day_trial',\n",
       " 'plan_type_base_uae_14_day_trial',\n",
       " 'plan_type_high_aud_14_day_trial',\n",
       " 'plan_type_high_sar_14_day_trial',\n",
       " 'plan_type_high_uae_14_day_trial',\n",
       " 'plan_type_low_gbp_14_day_trial',\n",
       " 'payment_type_Apple Pay',\n",
       " 'payment_type_CBD']"
      ]
     },
     "execution_count": 116,
     "metadata": {},
     "output_type": "execute_result"
    }
   ],
   "source": [
    "col"
   ]
  },
  {
   "cell_type": "code",
   "execution_count": 117,
   "metadata": {},
   "outputs": [],
   "source": [
    "from sklearn.metrics import ConfusionMatrixDisplay"
   ]
  },
  {
   "cell_type": "code",
   "execution_count": 140,
   "metadata": {},
   "outputs": [
    {
     "data": {
      "image/png": "[encoded data removed]",
      "text/plain": [
       "<Figure size 432x288 with 1 Axes>"
      ]
     },
     "metadata": {
      "needs_background": "light"
     },
     "output_type": "display_data"
    }
   ],
   "source": [
    "from sklearn.metrics import plot_roc_curve\n",
    "\n",
    "# X_train, X_test, y_train, y_test = train_test_split(X, y, random_state=42)\n",
    "clf = tree.DecisionTreeClassifier(max_depth=3)\n",
    "# clf = tree.DecisionTreeClassifier(max_depth=10)\n",
    "clf = clf.fit(X_train, y_train)\n",
    "\n",
    "clf_disp = plot_roc_curve(clf, X_test, y_test)"
   ]
  },
  {
   "cell_type": "markdown",
   "metadata": {},
   "source": [
    "Logistic Regression"
   ]
  },
  {
   "cell_type": "code",
   "execution_count": null,
   "metadata": {},
   "outputs": [],
   "source": []
  },
  {
   "cell_type": "code",
   "execution_count": 142,
   "metadata": {},
   "outputs": [
    {
     "name": "stderr",
     "output_type": "stream",
     "text": [
      "d:\\programs\\python37\\lib\\site-packages\\sklearn\\utils\\validation.py:73: DataConversionWarning: A column-vector y was passed when a 1d array was expected. Please change the shape of y to (n_samples, ), for example using ravel().\n",
      "  return f(**kwargs)\n",
      "d:\\programs\\python37\\lib\\site-packages\\sklearn\\linear_model\\_logistic.py:762: ConvergenceWarning: lbfgs failed to converge (status=1):\n",
      "STOP: TOTAL NO. of ITERATIONS REACHED LIMIT.\n",
      "\n",
      "Increase the number of iterations (max_iter) or scale the data as shown in:\n",
      "    https://scikit-learn.org/stable/modules/preprocessing.html\n",
      "Please also refer to the documentation for alternative solver options:\n",
      "    https://scikit-learn.org/stable/modules/linear_model.html#logistic-regression\n",
      "  extra_warning_msg=_LOGISTIC_SOLVER_CONVERGENCE_MSG)\n"
     ]
    },
    {
     "data": {
      "text/plain": [
       "<sklearn.metrics._plot.roc_curve.RocCurveDisplay at 0x1eb852919e8>"
      ]
     },
     "execution_count": 142,
     "metadata": {},
     "output_type": "execute_result"
    },
    {
     "data": {
      "image/png": "[encoded data removed]",
      "text/plain": [
       "<Figure size 432x288 with 1 Axes>"
      ]
     },
     "metadata": {
      "needs_background": "light"
     },
     "output_type": "display_data"
    }
   ],
   "source": [
    "# log = make_pipeline(StandardScaler(), LogisticRegression(random_state=0))\n",
    "log = LogisticRegression()\n",
    "log.fit(X_train, y_train)\n",
    "\n",
    "\n",
    "\n",
    "\n",
    "ax = plt.gca()\n",
    "rfc_disp = plot_roc_curve(log, X_test, y_test, ax=ax, alpha=0.8)\n",
    "clf_disp.plot(ax=ax, alpha=0.8)"
   ]
  },
  {
   "cell_type": "code",
   "execution_count": 145,
   "metadata": {},
   "outputs": [
    {
     "data": {
      "text/plain": [
       "Text(0.5, 0, 'Predicted label')"
      ]
     },
     "execution_count": 145,
     "metadata": {},
     "output_type": "execute_result"
    },
    {
     "data": {
      "image/png": "[encoded data removed]",
      "text/plain": [
       "<Figure size 288x288 with 2 Axes>"
      ]
     },
     "metadata": {
      "needs_background": "light"
     },
     "output_type": "display_data"
    }
   ],
   "source": [
    "# clf\n",
    "from sklearn.metrics import confusion_matrix\n",
    "y_pred = clf.predict(X_test)\n",
    "cm = confusion_matrix(y_test, y_pred)\n",
    "plt.matshow(cm,cmap=plt.cm.Greens)\n",
    "# m.Greens\n",
    "plt.colorbar()\n",
    "for x in range(len(cm)):\n",
    "    for Y in range(len(cm)):\n",
    "        plt.annotate(cm[x,Y],xy=(x,Y),horizontalalignment='center',verticalalignment='center')\n",
    "plt.ylabel('True label')\n",
    "plt.xlabel('Predicted label')"
   ]
  },
  {
   "cell_type": "code",
   "execution_count": 152,
   "metadata": {},
   "outputs": [
    {
     "data": {
      "image/png": "[encoded data removed]",
      "text/plain": [
       "<Figure size 432x288 with 2 Axes>"
      ]
     },
     "metadata": {
      "needs_background": "light"
     },
     "output_type": "display_data"
    }
   ],
   "source": [
    "from sklearn.metrics import confusion_matrix\n",
    "from sklearn.metrics import ConfusionMatrixDisplay\n",
    "\n",
    "y_pred = clf.predict(X_test)\n",
    "cm = confusion_matrix(y_test, y_pred)\n",
    "\n",
    "cm_display = ConfusionMatrixDisplay(cm).plot()"
   ]
  },
  {
   "cell_type": "code",
   "execution_count": 156,
   "metadata": {},
   "outputs": [
    {
     "data": {
      "image/png": "[encoded data removed]",
      "text/plain": [
       "<Figure size 432x288 with 1 Axes>"
      ]
     },
     "metadata": {
      "needs_background": "light"
     },
     "output_type": "display_data"
    },
    {
     "data": {
      "image/png": "[encoded data removed]",
      "text/plain": [
       "<Figure size 432x288 with 1 Axes>"
      ]
     },
     "metadata": {
      "needs_background": "light"
     },
     "output_type": "display_data"
    },
    {
     "data": {
      "image/png": "[encoded data removed]",
      "text/plain": [
       "<Figure size 864x576 with 2 Axes>"
      ]
     },
     "metadata": {
      "needs_background": "light"
     },
     "output_type": "display_data"
    }
   ],
   "source": [
    "from sklearn.metrics import roc_curve\n",
    "from sklearn.metrics import RocCurveDisplay\n",
    "y_score = log.decision_function(X_test)\n",
    "\n",
    "fpr, tpr, _ = roc_curve(y_test, y_score, pos_label=clf.classes_[1])\n",
    "roc_display = RocCurveDisplay(fpr=fpr, tpr=tpr).plot()\n",
    "\n",
    "\n",
    "from sklearn.metrics import precision_recall_curve\n",
    "from sklearn.metrics import PrecisionRecallDisplay\n",
    "\n",
    "prec, recall, _ = precision_recall_curve(y_test, y_score,\n",
    "                                         pos_label=clf.classes_[1])\n",
    "pr_display = PrecisionRecallDisplay(precision=prec, recall=recall).plot()\n",
    "\n",
    "\n",
    "import matplotlib.pyplot as plt\n",
    "fig, (ax1, ax2) = plt.subplots(1, 2, figsize=(12, 8))\n",
    "\n",
    "roc_display.plot(ax=ax1)\n",
    "pr_display.plot(ax=ax2)\n",
    "plt.show()"
   ]
  },
  {
   "cell_type": "code",
   "execution_count": 160,
   "metadata": {},
   "outputs": [
    {
     "data": {
      "text/html": [
       "<div>\n",
       "<style scoped>\n",
       "    .dataframe tbody tr th:only-of-type {\n",
       "        vertical-align: middle;\n",
       "    }\n",
       "\n",
       "    .dataframe tbody tr th {\n",
       "        vertical-align: top;\n",
       "    }\n",
       "\n",
       "    .dataframe thead th {\n",
       "        text-align: right;\n",
       "    }\n",
       "</style>\n",
       "<table border=\"1\" class=\"dataframe\">\n",
       "  <thead>\n",
       "    <tr style=\"text-align: right;\">\n",
       "      <th></th>\n",
       "      <th>num_ideal_streaming_services</th>\n",
       "      <th>retarget_TF</th>\n",
       "      <th>age</th>\n",
       "      <th>months_per_bill_period</th>\n",
       "      <th>monthly_price</th>\n",
       "      <th>discount_price</th>\n",
       "      <th>initial_credit_card_declined</th>\n",
       "      <th>join_fee</th>\n",
       "      <th>refund_after_trial_TF</th>\n",
       "      <th>package_type_base</th>\n",
       "      <th>...</th>\n",
       "      <th>op_sys_iOS</th>\n",
       "      <th>op_sys_unknownOp</th>\n",
       "      <th>plan_type_base_eur_14_day_trial</th>\n",
       "      <th>plan_type_base_uae_14_day_trial</th>\n",
       "      <th>plan_type_high_aud_14_day_trial</th>\n",
       "      <th>plan_type_high_sar_14_day_trial</th>\n",
       "      <th>plan_type_high_uae_14_day_trial</th>\n",
       "      <th>plan_type_low_gbp_14_day_trial</th>\n",
       "      <th>payment_type_Apple Pay</th>\n",
       "      <th>payment_type_CBD</th>\n",
       "    </tr>\n",
       "  </thead>\n",
       "  <tbody>\n",
       "    <tr>\n",
       "      <th>134533</th>\n",
       "      <td>0.000000</td>\n",
       "      <td>False</td>\n",
       "      <td>50.0</td>\n",
       "      <td>4</td>\n",
       "      <td>4.7343</td>\n",
       "      <td>4.5141</td>\n",
       "      <td>False</td>\n",
       "      <td>0.6606</td>\n",
       "      <td>False</td>\n",
       "      <td>0</td>\n",
       "      <td>...</td>\n",
       "      <td>1</td>\n",
       "      <td>0</td>\n",
       "      <td>0</td>\n",
       "      <td>1</td>\n",
       "      <td>0</td>\n",
       "      <td>0</td>\n",
       "      <td>0</td>\n",
       "      <td>0</td>\n",
       "      <td>0</td>\n",
       "      <td>0</td>\n",
       "    </tr>\n",
       "    <tr>\n",
       "      <th>56322</th>\n",
       "      <td>2.011166</td>\n",
       "      <td>False</td>\n",
       "      <td>30.0</td>\n",
       "      <td>4</td>\n",
       "      <td>4.7343</td>\n",
       "      <td>4.5141</td>\n",
       "      <td>False</td>\n",
       "      <td>0.0000</td>\n",
       "      <td>False</td>\n",
       "      <td>1</td>\n",
       "      <td>...</td>\n",
       "      <td>1</td>\n",
       "      <td>0</td>\n",
       "      <td>0</td>\n",
       "      <td>1</td>\n",
       "      <td>0</td>\n",
       "      <td>0</td>\n",
       "      <td>0</td>\n",
       "      <td>0</td>\n",
       "      <td>0</td>\n",
       "      <td>0</td>\n",
       "    </tr>\n",
       "    <tr>\n",
       "      <th>190189</th>\n",
       "      <td>1.869206</td>\n",
       "      <td>False</td>\n",
       "      <td>63.0</td>\n",
       "      <td>4</td>\n",
       "      <td>4.7343</td>\n",
       "      <td>4.5141</td>\n",
       "      <td>False</td>\n",
       "      <td>0.0367</td>\n",
       "      <td>False</td>\n",
       "      <td>0</td>\n",
       "      <td>...</td>\n",
       "      <td>0</td>\n",
       "      <td>0</td>\n",
       "      <td>0</td>\n",
       "      <td>1</td>\n",
       "      <td>0</td>\n",
       "      <td>0</td>\n",
       "      <td>0</td>\n",
       "      <td>0</td>\n",
       "      <td>0</td>\n",
       "      <td>0</td>\n",
       "    </tr>\n",
       "    <tr>\n",
       "      <th>181398</th>\n",
       "      <td>1.865365</td>\n",
       "      <td>False</td>\n",
       "      <td>47.0</td>\n",
       "      <td>4</td>\n",
       "      <td>4.7343</td>\n",
       "      <td>4.5141</td>\n",
       "      <td>False</td>\n",
       "      <td>0.0367</td>\n",
       "      <td>False</td>\n",
       "      <td>0</td>\n",
       "      <td>...</td>\n",
       "      <td>0</td>\n",
       "      <td>0</td>\n",
       "      <td>0</td>\n",
       "      <td>1</td>\n",
       "      <td>0</td>\n",
       "      <td>0</td>\n",
       "      <td>0</td>\n",
       "      <td>0</td>\n",
       "      <td>0</td>\n",
       "      <td>0</td>\n",
       "    </tr>\n",
       "    <tr>\n",
       "      <th>136305</th>\n",
       "      <td>2.309905</td>\n",
       "      <td>False</td>\n",
       "      <td>47.0</td>\n",
       "      <td>4</td>\n",
       "      <td>4.7343</td>\n",
       "      <td>4.5141</td>\n",
       "      <td>False</td>\n",
       "      <td>0.1101</td>\n",
       "      <td>False</td>\n",
       "      <td>1</td>\n",
       "      <td>...</td>\n",
       "      <td>1</td>\n",
       "      <td>0</td>\n",
       "      <td>0</td>\n",
       "      <td>1</td>\n",
       "      <td>0</td>\n",
       "      <td>0</td>\n",
       "      <td>0</td>\n",
       "      <td>0</td>\n",
       "      <td>0</td>\n",
       "      <td>0</td>\n",
       "    </tr>\n",
       "  </tbody>\n",
       "</table>\n",
       "<p>5 rows × 35 columns</p>\n",
       "</div>"
      ],
      "text/plain": [
       "        num_ideal_streaming_services  retarget_TF   age  \\\n",
       "134533                      0.000000        False  50.0   \n",
       "56322                       2.011166        False  30.0   \n",
       "190189                      1.869206        False  63.0   \n",
       "181398                      1.865365        False  47.0   \n",
       "136305                      2.309905        False  47.0   \n",
       "\n",
       "        months_per_bill_period  monthly_price  discount_price  \\\n",
       "134533                       4         4.7343          4.5141   \n",
       "56322                        4         4.7343          4.5141   \n",
       "190189                       4         4.7343          4.5141   \n",
       "181398                       4         4.7343          4.5141   \n",
       "136305                       4         4.7343          4.5141   \n",
       "\n",
       "        initial_credit_card_declined  join_fee  refund_after_trial_TF  \\\n",
       "134533                         False    0.6606                  False   \n",
       "56322                          False    0.0000                  False   \n",
       "190189                         False    0.0367                  False   \n",
       "181398                         False    0.0367                  False   \n",
       "136305                         False    0.1101                  False   \n",
       "\n",
       "        package_type_base  ...  op_sys_iOS  op_sys_unknownOp  \\\n",
       "134533                  0  ...           1                 0   \n",
       "56322                   1  ...           1                 0   \n",
       "190189                  0  ...           0                 0   \n",
       "181398                  0  ...           0                 0   \n",
       "136305                  1  ...           1                 0   \n",
       "\n",
       "        plan_type_base_eur_14_day_trial  plan_type_base_uae_14_day_trial  \\\n",
       "134533                                0                                1   \n",
       "56322                                 0                                1   \n",
       "190189                                0                                1   \n",
       "181398                                0                                1   \n",
       "136305                                0                                1   \n",
       "\n",
       "        plan_type_high_aud_14_day_trial  plan_type_high_sar_14_day_trial  \\\n",
       "134533                                0                                0   \n",
       "56322                                 0                                0   \n",
       "190189                                0                                0   \n",
       "181398                                0                                0   \n",
       "136305                                0                                0   \n",
       "\n",
       "        plan_type_high_uae_14_day_trial  plan_type_low_gbp_14_day_trial  \\\n",
       "134533                                0                               0   \n",
       "56322                                 0                               0   \n",
       "190189                                0                               0   \n",
       "181398                                0                               0   \n",
       "136305                                0                               0   \n",
       "\n",
       "        payment_type_Apple Pay  payment_type_CBD  \n",
       "134533                       0                 0  \n",
       "56322                        0                 0  \n",
       "190189                       0                 0  \n",
       "181398                       0                 0  \n",
       "136305                       0                 0  \n",
       "\n",
       "[5 rows x 35 columns]"
      ]
     },
     "execution_count": 160,
     "metadata": {},
     "output_type": "execute_result"
    }
   ],
   "source": [
    "X_train.head()"
   ]
  },
  {
   "cell_type": "code",
   "execution_count": 161,
   "metadata": {},
   "outputs": [
    {
     "data": {
      "image/png": "[encoded data removed]",
      "text/plain": [
       "<Figure size 864x432 with 3 Axes>"
      ]
     },
     "metadata": {
      "needs_background": "light"
     },
     "output_type": "display_data"
    }
   ],
   "source": [
    "from sklearn.inspection import plot_partial_dependence\n",
    "fig, ax = plt.subplots(figsize=(12, 6))\n",
    "ax.set_title(\"Decision Tree\")\n",
    "tree_disp = plot_partial_dependence(clf, X_train, [\"age\",'num_ideal_streaming_services'], ax=ax)"
   ]
  },
  {
   "cell_type": "code",
   "execution_count": null,
   "metadata": {},
   "outputs": [],
   "source": []
  },
  {
   "cell_type": "code",
   "execution_count": null,
   "metadata": {},
   "outputs": [],
   "source": []
  },
  {
   "cell_type": "code",
   "execution_count": 144,
   "metadata": {},
   "outputs": [
    {
     "data": {
      "text/plain": [
       "Text(0.5, 0, 'Predicted label')"
      ]
     },
     "execution_count": 144,
     "metadata": {},
     "output_type": "execute_result"
    },
    {
     "data": {
      "image/png": "[encoded data removed]",
      "text/plain": [
       "<Figure size 288x288 with 2 Axes>"
      ]
     },
     "metadata": {
      "needs_background": "light"
     },
     "output_type": "display_data"
    }
   ],
   "source": [
    "# log\n",
    "from sklearn.metrics import confusion_matrix\n",
    "y_pred = log.predict(X_test)\n",
    "cm = confusion_matrix(y_test, y_pred)\n",
    "plt.matshow(cm,cmap=plt.cm.Greens)\n",
    "# m.Greens\n",
    "plt.colorbar()\n",
    "for x in range(len(cm)):\n",
    "    for Y in range(len(cm)):\n",
    "        plt.annotate(cm[x,Y],xy=(x,Y),horizontalalignment='center',verticalalignment='center')\n",
    "plt.ylabel('True label')\n",
    "plt.xlabel('Predicted label')\n",
    "\n"
   ]
  },
  {
   "cell_type": "markdown",
   "metadata": {},
   "source": [
    "## 6 Customer Lifetime Value"
   ]
  },
  {
   "cell_type": "code",
   "execution_count": 167,
   "metadata": {},
   "outputs": [
    {
     "data": {
      "text/plain": [
       "0    26844789\n",
       "1    29726122\n",
       "2    29726122\n",
       "3    20299962\n",
       "4    20299962\n",
       "Name: subid, dtype: int64"
      ]
     },
     "execution_count": 167,
     "metadata": {},
     "output_type": "execute_result"
    }
   ],
   "source": [
    "id_col.head()"
   ]
  },
  {
   "cell_type": "code",
   "execution_count": 166,
   "metadata": {},
   "outputs": [
    {
     "data": {
      "text/html": [
       "<div>\n",
       "<style scoped>\n",
       "    .dataframe tbody tr th:only-of-type {\n",
       "        vertical-align: middle;\n",
       "    }\n",
       "\n",
       "    .dataframe tbody tr th {\n",
       "        vertical-align: top;\n",
       "    }\n",
       "\n",
       "    .dataframe thead th {\n",
       "        text-align: right;\n",
       "    }\n",
       "</style>\n",
       "<table border=\"1\" class=\"dataframe\">\n",
       "  <thead>\n",
       "    <tr style=\"text-align: right;\">\n",
       "      <th></th>\n",
       "      <th>package_type</th>\n",
       "      <th>num_weekly_services_utilized</th>\n",
       "      <th>preferred_genre</th>\n",
       "      <th>intended_use</th>\n",
       "      <th>weekly_consumption_hour</th>\n",
       "      <th>num_ideal_streaming_services</th>\n",
       "      <th>retarget_TF</th>\n",
       "      <th>age</th>\n",
       "      <th>male_TF</th>\n",
       "      <th>attribution_technical</th>\n",
       "      <th>...</th>\n",
       "      <th>discount_price</th>\n",
       "      <th>creation_until_cancel_days</th>\n",
       "      <th>cancel_before_trial_end</th>\n",
       "      <th>initial_credit_card_declined</th>\n",
       "      <th>revenue_net</th>\n",
       "      <th>join_fee</th>\n",
       "      <th>paid_TF</th>\n",
       "      <th>refund_after_trial_TF</th>\n",
       "      <th>payment_type</th>\n",
       "      <th>renew</th>\n",
       "    </tr>\n",
       "  </thead>\n",
       "  <tbody>\n",
       "    <tr>\n",
       "      <th>0</th>\n",
       "      <td>enhanced</td>\n",
       "      <td>3.362885</td>\n",
       "      <td>regional</td>\n",
       "      <td>replace OTT</td>\n",
       "      <td>36.001186</td>\n",
       "      <td>1.951776</td>\n",
       "      <td>False</td>\n",
       "      <td>25.0</td>\n",
       "      <td>True</td>\n",
       "      <td>organic</td>\n",
       "      <td>...</td>\n",
       "      <td>4.5141</td>\n",
       "      <td>1.0</td>\n",
       "      <td>False</td>\n",
       "      <td>False</td>\n",
       "      <td>0.0000</td>\n",
       "      <td>0.1101</td>\n",
       "      <td>False</td>\n",
       "      <td>False</td>\n",
       "      <td>not_paid</td>\n",
       "      <td>0</td>\n",
       "    </tr>\n",
       "    <tr>\n",
       "      <th>1</th>\n",
       "      <td>base</td>\n",
       "      <td>2.049135</td>\n",
       "      <td>comedy</td>\n",
       "      <td>access to exclusive content</td>\n",
       "      <td>20.051667</td>\n",
       "      <td>1.860289</td>\n",
       "      <td>False</td>\n",
       "      <td>61.0</td>\n",
       "      <td>False</td>\n",
       "      <td>bing</td>\n",
       "      <td>...</td>\n",
       "      <td>4.5141</td>\n",
       "      <td>0.0</td>\n",
       "      <td>True</td>\n",
       "      <td>False</td>\n",
       "      <td>4.5875</td>\n",
       "      <td>0.3303</td>\n",
       "      <td>True</td>\n",
       "      <td>False</td>\n",
       "      <td>Standard Charter</td>\n",
       "      <td>1</td>\n",
       "    </tr>\n",
       "    <tr>\n",
       "      <th>2</th>\n",
       "      <td>base</td>\n",
       "      <td>2.049135</td>\n",
       "      <td>comedy</td>\n",
       "      <td>access to exclusive content</td>\n",
       "      <td>20.051667</td>\n",
       "      <td>1.860289</td>\n",
       "      <td>False</td>\n",
       "      <td>61.0</td>\n",
       "      <td>False</td>\n",
       "      <td>bing</td>\n",
       "      <td>...</td>\n",
       "      <td>4.5141</td>\n",
       "      <td>0.0</td>\n",
       "      <td>True</td>\n",
       "      <td>False</td>\n",
       "      <td>4.5875</td>\n",
       "      <td>0.3303</td>\n",
       "      <td>True</td>\n",
       "      <td>False</td>\n",
       "      <td>Standard Charter</td>\n",
       "      <td>0</td>\n",
       "    </tr>\n",
       "    <tr>\n",
       "      <th>3</th>\n",
       "      <td>base</td>\n",
       "      <td>3.002048</td>\n",
       "      <td>drama</td>\n",
       "      <td>access to exclusive content</td>\n",
       "      <td>34.551230</td>\n",
       "      <td>1.870503</td>\n",
       "      <td>False</td>\n",
       "      <td>23.0</td>\n",
       "      <td>False</td>\n",
       "      <td>email</td>\n",
       "      <td>...</td>\n",
       "      <td>4.5141</td>\n",
       "      <td>0.0</td>\n",
       "      <td>True</td>\n",
       "      <td>False</td>\n",
       "      <td>3.4498</td>\n",
       "      <td>0.0000</td>\n",
       "      <td>True</td>\n",
       "      <td>False</td>\n",
       "      <td>RAKBANK</td>\n",
       "      <td>1</td>\n",
       "    </tr>\n",
       "    <tr>\n",
       "      <th>4</th>\n",
       "      <td>base</td>\n",
       "      <td>3.002048</td>\n",
       "      <td>drama</td>\n",
       "      <td>access to exclusive content</td>\n",
       "      <td>34.551230</td>\n",
       "      <td>1.870503</td>\n",
       "      <td>False</td>\n",
       "      <td>23.0</td>\n",
       "      <td>False</td>\n",
       "      <td>email</td>\n",
       "      <td>...</td>\n",
       "      <td>4.5141</td>\n",
       "      <td>0.0</td>\n",
       "      <td>True</td>\n",
       "      <td>False</td>\n",
       "      <td>3.4498</td>\n",
       "      <td>0.0000</td>\n",
       "      <td>True</td>\n",
       "      <td>False</td>\n",
       "      <td>RAKBANK</td>\n",
       "      <td>0</td>\n",
       "    </tr>\n",
       "  </tbody>\n",
       "</table>\n",
       "<p>5 rows × 25 columns</p>\n",
       "</div>"
      ],
      "text/plain": [
       "  package_type  num_weekly_services_utilized preferred_genre  \\\n",
       "0     enhanced                      3.362885        regional   \n",
       "1         base                      2.049135          comedy   \n",
       "2         base                      2.049135          comedy   \n",
       "3         base                      3.002048           drama   \n",
       "4         base                      3.002048           drama   \n",
       "\n",
       "                  intended_use  weekly_consumption_hour  \\\n",
       "0                  replace OTT                36.001186   \n",
       "1  access to exclusive content                20.051667   \n",
       "2  access to exclusive content                20.051667   \n",
       "3  access to exclusive content                34.551230   \n",
       "4  access to exclusive content                34.551230   \n",
       "\n",
       "   num_ideal_streaming_services  retarget_TF   age male_TF  \\\n",
       "0                      1.951776        False  25.0    True   \n",
       "1                      1.860289        False  61.0   False   \n",
       "2                      1.860289        False  61.0   False   \n",
       "3                      1.870503        False  23.0   False   \n",
       "4                      1.870503        False  23.0   False   \n",
       "\n",
       "  attribution_technical  ... discount_price creation_until_cancel_days  \\\n",
       "0               organic  ...         4.5141                        1.0   \n",
       "1                  bing  ...         4.5141                        0.0   \n",
       "2                  bing  ...         4.5141                        0.0   \n",
       "3                 email  ...         4.5141                        0.0   \n",
       "4                 email  ...         4.5141                        0.0   \n",
       "\n",
       "   cancel_before_trial_end initial_credit_card_declined  revenue_net  \\\n",
       "0                    False                        False       0.0000   \n",
       "1                     True                        False       4.5875   \n",
       "2                     True                        False       4.5875   \n",
       "3                     True                        False       3.4498   \n",
       "4                     True                        False       3.4498   \n",
       "\n",
       "   join_fee  paid_TF  refund_after_trial_TF      payment_type  renew  \n",
       "0    0.1101    False                  False          not_paid      0  \n",
       "1    0.3303     True                  False  Standard Charter      1  \n",
       "2    0.3303     True                  False  Standard Charter      0  \n",
       "3    0.0000     True                  False           RAKBANK      1  \n",
       "4    0.0000     True                  False           RAKBANK      0  \n",
       "\n",
       "[5 rows x 25 columns]"
      ]
     },
     "execution_count": 166,
     "metadata": {},
     "output_type": "execute_result"
    }
   ],
   "source": [
    "df.head()"
   ]
  },
  {
   "cell_type": "code",
   "execution_count": 170,
   "metadata": {},
   "outputs": [
    {
     "data": {
      "text/plain": [
       "0    0.0000\n",
       "1    4.5875\n",
       "2    4.5875\n",
       "3    3.4498\n",
       "4    3.4498\n",
       "Name: revenue_net, dtype: float64"
      ]
     },
     "execution_count": 170,
     "metadata": {},
     "output_type": "execute_result"
    }
   ],
   "source": [
    "df['revenue_net'].head()"
   ]
  },
  {
   "cell_type": "code",
   "execution_count": 163,
   "metadata": {},
   "outputs": [
    {
     "data": {
      "text/html": [
       "<div>\n",
       "<style scoped>\n",
       "    .dataframe tbody tr th:only-of-type {\n",
       "        vertical-align: middle;\n",
       "    }\n",
       "\n",
       "    .dataframe tbody tr th {\n",
       "        vertical-align: top;\n",
       "    }\n",
       "\n",
       "    .dataframe thead th {\n",
       "        text-align: right;\n",
       "    }\n",
       "</style>\n",
       "<table border=\"1\" class=\"dataframe\">\n",
       "  <thead>\n",
       "    <tr style=\"text-align: right;\">\n",
       "      <th></th>\n",
       "      <th>num_weekly_services_utilized</th>\n",
       "      <th>weekly_consumption_hour</th>\n",
       "      <th>num_ideal_streaming_services</th>\n",
       "      <th>retarget_TF</th>\n",
       "      <th>age</th>\n",
       "      <th>months_per_bill_period</th>\n",
       "      <th>monthly_price</th>\n",
       "      <th>discount_price</th>\n",
       "      <th>creation_until_cancel_days</th>\n",
       "      <th>cancel_before_trial_end</th>\n",
       "      <th>...</th>\n",
       "      <th>plan_type_high_sar_14_day_trial</th>\n",
       "      <th>plan_type_high_uae_14_day_trial</th>\n",
       "      <th>plan_type_low_gbp_14_day_trial</th>\n",
       "      <th>payment_type_Apple Pay</th>\n",
       "      <th>payment_type_CBD</th>\n",
       "      <th>payment_type_Najim</th>\n",
       "      <th>payment_type_Paypal</th>\n",
       "      <th>payment_type_RAKBANK</th>\n",
       "      <th>payment_type_Standard Charter</th>\n",
       "      <th>payment_type_not_paid</th>\n",
       "    </tr>\n",
       "  </thead>\n",
       "  <tbody>\n",
       "    <tr>\n",
       "      <th>0</th>\n",
       "      <td>3.362885</td>\n",
       "      <td>36.001186</td>\n",
       "      <td>1.951776</td>\n",
       "      <td>False</td>\n",
       "      <td>25.0</td>\n",
       "      <td>4</td>\n",
       "      <td>4.7343</td>\n",
       "      <td>4.5141</td>\n",
       "      <td>1.0</td>\n",
       "      <td>False</td>\n",
       "      <td>...</td>\n",
       "      <td>0</td>\n",
       "      <td>0</td>\n",
       "      <td>0</td>\n",
       "      <td>0</td>\n",
       "      <td>0</td>\n",
       "      <td>0</td>\n",
       "      <td>0</td>\n",
       "      <td>0</td>\n",
       "      <td>0</td>\n",
       "      <td>1</td>\n",
       "    </tr>\n",
       "    <tr>\n",
       "      <th>1</th>\n",
       "      <td>2.049135</td>\n",
       "      <td>20.051667</td>\n",
       "      <td>1.860289</td>\n",
       "      <td>False</td>\n",
       "      <td>61.0</td>\n",
       "      <td>4</td>\n",
       "      <td>4.7343</td>\n",
       "      <td>4.5141</td>\n",
       "      <td>0.0</td>\n",
       "      <td>True</td>\n",
       "      <td>...</td>\n",
       "      <td>0</td>\n",
       "      <td>0</td>\n",
       "      <td>0</td>\n",
       "      <td>0</td>\n",
       "      <td>0</td>\n",
       "      <td>0</td>\n",
       "      <td>0</td>\n",
       "      <td>0</td>\n",
       "      <td>1</td>\n",
       "      <td>0</td>\n",
       "    </tr>\n",
       "    <tr>\n",
       "      <th>2</th>\n",
       "      <td>2.049135</td>\n",
       "      <td>20.051667</td>\n",
       "      <td>1.860289</td>\n",
       "      <td>False</td>\n",
       "      <td>61.0</td>\n",
       "      <td>4</td>\n",
       "      <td>4.7343</td>\n",
       "      <td>4.5141</td>\n",
       "      <td>0.0</td>\n",
       "      <td>True</td>\n",
       "      <td>...</td>\n",
       "      <td>0</td>\n",
       "      <td>0</td>\n",
       "      <td>0</td>\n",
       "      <td>0</td>\n",
       "      <td>0</td>\n",
       "      <td>0</td>\n",
       "      <td>0</td>\n",
       "      <td>0</td>\n",
       "      <td>1</td>\n",
       "      <td>0</td>\n",
       "    </tr>\n",
       "    <tr>\n",
       "      <th>3</th>\n",
       "      <td>3.002048</td>\n",
       "      <td>34.551230</td>\n",
       "      <td>1.870503</td>\n",
       "      <td>False</td>\n",
       "      <td>23.0</td>\n",
       "      <td>4</td>\n",
       "      <td>4.7343</td>\n",
       "      <td>4.5141</td>\n",
       "      <td>0.0</td>\n",
       "      <td>True</td>\n",
       "      <td>...</td>\n",
       "      <td>0</td>\n",
       "      <td>0</td>\n",
       "      <td>0</td>\n",
       "      <td>0</td>\n",
       "      <td>0</td>\n",
       "      <td>0</td>\n",
       "      <td>0</td>\n",
       "      <td>1</td>\n",
       "      <td>0</td>\n",
       "      <td>0</td>\n",
       "    </tr>\n",
       "    <tr>\n",
       "      <th>4</th>\n",
       "      <td>3.002048</td>\n",
       "      <td>34.551230</td>\n",
       "      <td>1.870503</td>\n",
       "      <td>False</td>\n",
       "      <td>23.0</td>\n",
       "      <td>4</td>\n",
       "      <td>4.7343</td>\n",
       "      <td>4.5141</td>\n",
       "      <td>0.0</td>\n",
       "      <td>True</td>\n",
       "      <td>...</td>\n",
       "      <td>0</td>\n",
       "      <td>0</td>\n",
       "      <td>0</td>\n",
       "      <td>0</td>\n",
       "      <td>0</td>\n",
       "      <td>0</td>\n",
       "      <td>0</td>\n",
       "      <td>1</td>\n",
       "      <td>0</td>\n",
       "      <td>0</td>\n",
       "    </tr>\n",
       "    <tr>\n",
       "      <th>...</th>\n",
       "      <td>...</td>\n",
       "      <td>...</td>\n",
       "      <td>...</td>\n",
       "      <td>...</td>\n",
       "      <td>...</td>\n",
       "      <td>...</td>\n",
       "      <td>...</td>\n",
       "      <td>...</td>\n",
       "      <td>...</td>\n",
       "      <td>...</td>\n",
       "      <td>...</td>\n",
       "      <td>...</td>\n",
       "      <td>...</td>\n",
       "      <td>...</td>\n",
       "      <td>...</td>\n",
       "      <td>...</td>\n",
       "      <td>...</td>\n",
       "      <td>...</td>\n",
       "      <td>...</td>\n",
       "      <td>...</td>\n",
       "      <td>...</td>\n",
       "    </tr>\n",
       "    <tr>\n",
       "      <th>209889</th>\n",
       "      <td>0.000000</td>\n",
       "      <td>28.751405</td>\n",
       "      <td>0.000000</td>\n",
       "      <td>False</td>\n",
       "      <td>61.0</td>\n",
       "      <td>4</td>\n",
       "      <td>4.7343</td>\n",
       "      <td>4.5141</td>\n",
       "      <td>0.0</td>\n",
       "      <td>False</td>\n",
       "      <td>...</td>\n",
       "      <td>0</td>\n",
       "      <td>0</td>\n",
       "      <td>0</td>\n",
       "      <td>0</td>\n",
       "      <td>0</td>\n",
       "      <td>0</td>\n",
       "      <td>0</td>\n",
       "      <td>0</td>\n",
       "      <td>0</td>\n",
       "      <td>1</td>\n",
       "    </tr>\n",
       "    <tr>\n",
       "      <th>209890</th>\n",
       "      <td>2.169904</td>\n",
       "      <td>24.401536</td>\n",
       "      <td>1.881068</td>\n",
       "      <td>False</td>\n",
       "      <td>43.0</td>\n",
       "      <td>4</td>\n",
       "      <td>4.7343</td>\n",
       "      <td>4.5141</td>\n",
       "      <td>11.0</td>\n",
       "      <td>False</td>\n",
       "      <td>...</td>\n",
       "      <td>0</td>\n",
       "      <td>0</td>\n",
       "      <td>0</td>\n",
       "      <td>0</td>\n",
       "      <td>0</td>\n",
       "      <td>0</td>\n",
       "      <td>0</td>\n",
       "      <td>0</td>\n",
       "      <td>0</td>\n",
       "      <td>1</td>\n",
       "    </tr>\n",
       "    <tr>\n",
       "      <th>209891</th>\n",
       "      <td>2.594078</td>\n",
       "      <td>28.751405</td>\n",
       "      <td>1.905485</td>\n",
       "      <td>False</td>\n",
       "      <td>38.0</td>\n",
       "      <td>4</td>\n",
       "      <td>4.7343</td>\n",
       "      <td>4.5141</td>\n",
       "      <td>8.0</td>\n",
       "      <td>False</td>\n",
       "      <td>...</td>\n",
       "      <td>0</td>\n",
       "      <td>0</td>\n",
       "      <td>0</td>\n",
       "      <td>0</td>\n",
       "      <td>0</td>\n",
       "      <td>0</td>\n",
       "      <td>0</td>\n",
       "      <td>0</td>\n",
       "      <td>0</td>\n",
       "      <td>1</td>\n",
       "    </tr>\n",
       "    <tr>\n",
       "      <th>209892</th>\n",
       "      <td>2.361370</td>\n",
       "      <td>27.301448</td>\n",
       "      <td>1.835189</td>\n",
       "      <td>True</td>\n",
       "      <td>49.0</td>\n",
       "      <td>4</td>\n",
       "      <td>4.7343</td>\n",
       "      <td>4.5141</td>\n",
       "      <td>0.0</td>\n",
       "      <td>True</td>\n",
       "      <td>...</td>\n",
       "      <td>0</td>\n",
       "      <td>0</td>\n",
       "      <td>0</td>\n",
       "      <td>0</td>\n",
       "      <td>0</td>\n",
       "      <td>0</td>\n",
       "      <td>1</td>\n",
       "      <td>0</td>\n",
       "      <td>0</td>\n",
       "      <td>0</td>\n",
       "    </tr>\n",
       "    <tr>\n",
       "      <th>209893</th>\n",
       "      <td>2.361370</td>\n",
       "      <td>27.301448</td>\n",
       "      <td>1.835189</td>\n",
       "      <td>True</td>\n",
       "      <td>49.0</td>\n",
       "      <td>4</td>\n",
       "      <td>4.7343</td>\n",
       "      <td>4.5141</td>\n",
       "      <td>0.0</td>\n",
       "      <td>True</td>\n",
       "      <td>...</td>\n",
       "      <td>0</td>\n",
       "      <td>0</td>\n",
       "      <td>0</td>\n",
       "      <td>0</td>\n",
       "      <td>0</td>\n",
       "      <td>0</td>\n",
       "      <td>1</td>\n",
       "      <td>0</td>\n",
       "      <td>0</td>\n",
       "      <td>0</td>\n",
       "    </tr>\n",
       "  </tbody>\n",
       "</table>\n",
       "<p>151532 rows × 100 columns</p>\n",
       "</div>"
      ],
      "text/plain": [
       "        num_weekly_services_utilized  weekly_consumption_hour  \\\n",
       "0                           3.362885                36.001186   \n",
       "1                           2.049135                20.051667   \n",
       "2                           2.049135                20.051667   \n",
       "3                           3.002048                34.551230   \n",
       "4                           3.002048                34.551230   \n",
       "...                              ...                      ...   \n",
       "209889                      0.000000                28.751405   \n",
       "209890                      2.169904                24.401536   \n",
       "209891                      2.594078                28.751405   \n",
       "209892                      2.361370                27.301448   \n",
       "209893                      2.361370                27.301448   \n",
       "\n",
       "        num_ideal_streaming_services  retarget_TF   age  \\\n",
       "0                           1.951776        False  25.0   \n",
       "1                           1.860289        False  61.0   \n",
       "2                           1.860289        False  61.0   \n",
       "3                           1.870503        False  23.0   \n",
       "4                           1.870503        False  23.0   \n",
       "...                              ...          ...   ...   \n",
       "209889                      0.000000        False  61.0   \n",
       "209890                      1.881068        False  43.0   \n",
       "209891                      1.905485        False  38.0   \n",
       "209892                      1.835189         True  49.0   \n",
       "209893                      1.835189         True  49.0   \n",
       "\n",
       "        months_per_bill_period  monthly_price  discount_price  \\\n",
       "0                            4         4.7343          4.5141   \n",
       "1                            4         4.7343          4.5141   \n",
       "2                            4         4.7343          4.5141   \n",
       "3                            4         4.7343          4.5141   \n",
       "4                            4         4.7343          4.5141   \n",
       "...                        ...            ...             ...   \n",
       "209889                       4         4.7343          4.5141   \n",
       "209890                       4         4.7343          4.5141   \n",
       "209891                       4         4.7343          4.5141   \n",
       "209892                       4         4.7343          4.5141   \n",
       "209893                       4         4.7343          4.5141   \n",
       "\n",
       "        creation_until_cancel_days  cancel_before_trial_end  ...  \\\n",
       "0                              1.0                    False  ...   \n",
       "1                              0.0                     True  ...   \n",
       "2                              0.0                     True  ...   \n",
       "3                              0.0                     True  ...   \n",
       "4                              0.0                     True  ...   \n",
       "...                            ...                      ...  ...   \n",
       "209889                         0.0                    False  ...   \n",
       "209890                        11.0                    False  ...   \n",
       "209891                         8.0                    False  ...   \n",
       "209892                         0.0                     True  ...   \n",
       "209893                         0.0                     True  ...   \n",
       "\n",
       "        plan_type_high_sar_14_day_trial  plan_type_high_uae_14_day_trial  \\\n",
       "0                                     0                                0   \n",
       "1                                     0                                0   \n",
       "2                                     0                                0   \n",
       "3                                     0                                0   \n",
       "4                                     0                                0   \n",
       "...                                 ...                              ...   \n",
       "209889                                0                                0   \n",
       "209890                                0                                0   \n",
       "209891                                0                                0   \n",
       "209892                                0                                0   \n",
       "209893                                0                                0   \n",
       "\n",
       "        plan_type_low_gbp_14_day_trial  payment_type_Apple Pay  \\\n",
       "0                                    0                       0   \n",
       "1                                    0                       0   \n",
       "2                                    0                       0   \n",
       "3                                    0                       0   \n",
       "4                                    0                       0   \n",
       "...                                ...                     ...   \n",
       "209889                               0                       0   \n",
       "209890                               0                       0   \n",
       "209891                               0                       0   \n",
       "209892                               0                       0   \n",
       "209893                               0                       0   \n",
       "\n",
       "        payment_type_CBD  payment_type_Najim  payment_type_Paypal  \\\n",
       "0                      0                   0                    0   \n",
       "1                      0                   0                    0   \n",
       "2                      0                   0                    0   \n",
       "3                      0                   0                    0   \n",
       "4                      0                   0                    0   \n",
       "...                  ...                 ...                  ...   \n",
       "209889                 0                   0                    0   \n",
       "209890                 0                   0                    0   \n",
       "209891                 0                   0                    0   \n",
       "209892                 0                   0                    1   \n",
       "209893                 0                   0                    1   \n",
       "\n",
       "        payment_type_RAKBANK  payment_type_Standard Charter  \\\n",
       "0                          0                              0   \n",
       "1                          0                              1   \n",
       "2                          0                              1   \n",
       "3                          1                              0   \n",
       "4                          1                              0   \n",
       "...                      ...                            ...   \n",
       "209889                     0                              0   \n",
       "209890                     0                              0   \n",
       "209891                     0                              0   \n",
       "209892                     0                              0   \n",
       "209893                     0                              0   \n",
       "\n",
       "        payment_type_not_paid  \n",
       "0                           1  \n",
       "1                           0  \n",
       "2                           0  \n",
       "3                           0  \n",
       "4                           0  \n",
       "...                       ...  \n",
       "209889                      1  \n",
       "209890                      1  \n",
       "209891                      1  \n",
       "209892                      0  \n",
       "209893                      0  \n",
       "\n",
       "[151532 rows x 100 columns]"
      ]
     },
     "execution_count": 163,
     "metadata": {},
     "output_type": "execute_result"
    }
   ],
   "source": [
    "X"
   ]
  },
  {
   "cell_type": "code",
   "execution_count": 172,
   "metadata": {},
   "outputs": [],
   "source": [
    "from sklearn.model_selection import train_test_split\n",
    "drop_cols = ['paid_TF', 'payment_type_not_paid', 'revenue_net'\n",
    "                                          , 'cancel_before_trial_end','creation_until_cancel_days',\n",
    "                                         'payment_type_Paypal', 'payment_type_RAKBANK', \n",
    "                                          'payment_type_Standard Charter','num_weekly_services_utilized']\n",
    "\n",
    "X_train, X_test, y_train, y_test = train_test_split(X.drop(columns = drop_cols), y, test_size=0.05,random_state=42)\n",
    "\n",
    "log = LogisticRegression()\n",
    "log = log.fit(X_train,y_train)"
   ]
  },
  {
   "cell_type": "code",
   "execution_count": null,
   "metadata": {},
   "outputs": [],
   "source": []
  },
  {
   "cell_type": "code",
   "execution_count": 174,
   "metadata": {},
   "outputs": [],
   "source": [
    "prob_list = [renew for renew, churn in log.predict_proba(X.drop(columns = drop_cols))]"
   ]
  },
  {
   "cell_type": "code",
   "execution_count": 177,
   "metadata": {},
   "outputs": [
    {
     "data": {
      "text/plain": [
       "[0.7261671245082209,\n",
       " 0.7261671245082209,\n",
       " 0.8123141328142311,\n",
       " 0.8123141328142311,\n",
       " 0.9270975978280358,\n",
       " 0.8862471829100999,\n",
       " 0.6174895556199471,\n",
       " 0.7911038113703474,\n",
       " 0.9223666593475623]"
      ]
     },
     "execution_count": 177,
     "metadata": {},
     "output_type": "execute_result"
    }
   ],
   "source": [
    "prob_list[1:10]"
   ]
  },
  {
   "cell_type": "code",
   "execution_count": 179,
   "metadata": {},
   "outputs": [
    {
     "data": {
      "text/plain": [
       "1     4.5875\n",
       "2     4.5875\n",
       "3     3.4498\n",
       "4     3.4498\n",
       "5     0.0000\n",
       "6     0.0000\n",
       "7     0.0000\n",
       "8     0.0000\n",
       "11    0.0000\n",
       "Name: revenue_net, dtype: float64"
      ]
     },
     "execution_count": 179,
     "metadata": {},
     "output_type": "execute_result"
    }
   ],
   "source": [
    "df['revenue_net'][1:10]"
   ]
  },
  {
   "cell_type": "code",
   "execution_count": 250,
   "metadata": {},
   "outputs": [],
   "source": []
  },
  {
   "cell_type": "code",
   "execution_count": 257,
   "metadata": {},
   "outputs": [],
   "source": [
    "l = [1,2,3]"
   ]
  },
  {
   "cell_type": "code",
   "execution_count": 263,
   "metadata": {},
   "outputs": [],
   "source": [
    "l[2] = l[2]+1"
   ]
  },
  {
   "cell_type": "code",
   "execution_count": 264,
   "metadata": {},
   "outputs": [
    {
     "data": {
      "text/plain": [
       "[1, 2, 6]"
      ]
     },
     "execution_count": 264,
     "metadata": {},
     "output_type": "execute_result"
    }
   ],
   "source": [
    "l"
   ]
  },
  {
   "cell_type": "code",
   "execution_count": 266,
   "metadata": {},
   "outputs": [],
   "source": [
    "all_churn_list = list(df['revenue_net'])"
   ]
  },
  {
   "cell_type": "code",
   "execution_count": 268,
   "metadata": {},
   "outputs": [
    {
     "data": {
      "text/plain": [
       "455303.4296001557"
      ]
     },
     "execution_count": 268,
     "metadata": {},
     "output_type": "execute_result"
    }
   ],
   "source": [
    "sum(all_churn_list)"
   ]
  },
  {
   "cell_type": "code",
   "execution_count": 271,
   "metadata": {},
   "outputs": [
    {
     "data": {
      "text/plain": [
       "0         0.0000\n",
       "1         4.5875\n",
       "2         4.5875\n",
       "3         3.4498\n",
       "4         3.4498\n",
       "           ...  \n",
       "209889    0.0000\n",
       "209890    0.0000\n",
       "209891    0.0000\n",
       "209892    4.5875\n",
       "209893    4.5875\n",
       "Name: revenue_net, Length: 151532, dtype: float64"
      ]
     },
     "execution_count": 271,
     "metadata": {},
     "output_type": "execute_result"
    }
   ],
   "source": [
    "df.revenue_net"
   ]
  },
  {
   "cell_type": "code",
   "execution_count": 272,
   "metadata": {},
   "outputs": [],
   "source": [
    "import random\n",
    "\n",
    "# using r_year = 0.1 as default\n",
    "r_year = 0.1\n",
    "# effective discount rate of each month\n",
    "r = pow(1+r_year,1/12)-1\n",
    "\n",
    "revenue_list = list(df['revenue_net'])\n",
    "# 0 if churned\n",
    "all_churn_list = list(df['revenue_net'])\n",
    "\n",
    "\n",
    "t=1\n",
    "while sum(all_churn_list) != 0:\n",
    "    \n",
    "    for i in range(len(prob_list)):\n",
    "        if all_churn_list[i] != 0:\n",
    "            if random.random() < prob_list[i]:\n",
    "                revenue_list[i] = revenue_list[i] + revenue_list[i]/pow(1+r,t)\n",
    "            else:\n",
    "                all_churn_list[i] = 0\n",
    "\n",
    "    t += 1"
   ]
  },
  {
   "cell_type": "code",
   "execution_count": null,
   "metadata": {},
   "outputs": [],
   "source": []
  },
  {
   "cell_type": "code",
   "execution_count": null,
   "metadata": {
    "scrolled": true
   },
   "outputs": [],
   "source": [
    "df = customer_service_reps.copy()\n",
    "customer_service_reps.head()"
   ]
  },
  {
   "cell_type": "code",
   "execution_count": null,
   "metadata": {},
   "outputs": [],
   "source": [
    "# 2020年2月 1.75%\n",
    "r_year = 1.75/100\n",
    "# effective discount rate of each month\n",
    "r = pow(1+r_year,1/12)-1\n",
    "df['last_payment'] = pd.to_datetime(df['last_payment'])"
   ]
  },
  {
   "cell_type": "markdown",
   "metadata": {},
   "source": [
    "### An overall result of clv"
   ]
  },
  {
   "cell_type": "code",
   "execution_count": null,
   "metadata": {},
   "outputs": [],
   "source": [
    "df['last_payment'].max() - df['last_payment'].min()"
   ]
  },
  {
   "cell_type": "code",
   "execution_count": null,
   "metadata": {},
   "outputs": [],
   "source": [
    "# 2019 June as our base ()\n",
    "df['last_payment'].min()"
   ]
  },
  {
   "cell_type": "code",
   "execution_count": null,
   "metadata": {},
   "outputs": [],
   "source": [
    "df['last_payment'].max()"
   ]
  },
  {
   "cell_type": "code",
   "execution_count": null,
   "metadata": {},
   "outputs": [],
   "source": [
    "df['paid_year'] = df['last_payment'].dt.year\n",
    "df['paid_month'] = df['last_payment'].dt.month"
   ]
  },
  {
   "cell_type": "code",
   "execution_count": null,
   "metadata": {},
   "outputs": [],
   "source": [
    "df.head()"
   ]
  },
  {
   "cell_type": "code",
   "execution_count": null,
   "metadata": {
    "scrolled": true
   },
   "outputs": [],
   "source": [
    "# basic discount period example\n",
    "year = 2020\n",
    "month = 6\n",
    "p = 0\n",
    "if year == 2019:\n",
    "    p = month - 6\n",
    "if year == 2020:\n",
    "    p += 6+month\n",
    "print(p)\n",
    "\n",
    "def discount_period(year, month):\n",
    "    p = 0\n",
    "    if year == 2019:\n",
    "        p = month - 6\n",
    "    if year == 2020:\n",
    "        p += 6+month\n",
    "    return p"
   ]
  },
  {
   "cell_type": "code",
   "execution_count": null,
   "metadata": {},
   "outputs": [],
   "source": [
    "df['dicount_period'] = df.apply(lambda row: discount_period(row['paid_year'], row['paid_month']), axis=1) "
   ]
  },
  {
   "cell_type": "code",
   "execution_count": null,
   "metadata": {},
   "outputs": [],
   "source": [
    "df.groupby(['dicount_period']).sum()['revenue_net_1month']"
   ]
  },
  {
   "cell_type": "code",
   "execution_count": null,
   "metadata": {},
   "outputs": [],
   "source": [
    "a = df.groupby(['dicount_period']).sum()['revenue_net_1month']\n",
    "clv_df = pd.DataFrame(list(a),index=a.index, columns=['revenue_net'])\n",
    "clv_df['dicount_period'] = range(11)\n",
    "clv_df['discounted_value'] = clv_df['revenue_net']/pow(1+r,clv_df['dicount_period'])"
   ]
  },
  {
   "cell_type": "code",
   "execution_count": null,
   "metadata": {},
   "outputs": [],
   "source": [
    "# clv\n",
    "clv_df['discounted_value'].sum()/len(np.unique(customer_service_reps['customer_service_rep_id']))"
   ]
  },
  {
   "cell_type": "code",
   "execution_count": null,
   "metadata": {},
   "outputs": [],
   "source": [
    "# CLV of different channel"
   ]
  },
  {
   "cell_type": "code",
   "execution_count": null,
   "metadata": {},
   "outputs": [],
   "source": [
    "a = df.groupby(['dicount_period','billing_channel']).sum()['revenue_net_1month']"
   ]
  },
  {
   "cell_type": "code",
   "execution_count": null,
   "metadata": {},
   "outputs": [],
   "source": [
    "discount_factor = list(pow(1+r,clv_df['dicount_period']))"
   ]
  },
  {
   "cell_type": "code",
   "execution_count": null,
   "metadata": {},
   "outputs": [],
   "source": [
    "np.array([[d]*3 for d in discount_factor]).reshape(33,)"
   ]
  },
  {
   "cell_type": "code",
   "execution_count": null,
   "metadata": {
    "scrolled": false
   },
   "outputs": [],
   "source": [
    "a/np.array([[d]*3 for d in discount_factor]).reshape(33,)"
   ]
  },
  {
   "cell_type": "code",
   "execution_count": null,
   "metadata": {},
   "outputs": [],
   "source": [
    "b = a/np.array([[d]*3 for d in discount_factor]).reshape(33,)\n",
    "channel_clv = pd.DataFrame(list(a),index=a.index, columns=['discounted_value'])\n",
    "channel_clv['channel'] = [channel for ind, channel in list(channel_clv.index)]"
   ]
  },
  {
   "cell_type": "code",
   "execution_count": null,
   "metadata": {},
   "outputs": [],
   "source": [
    "channel_clv.groupby('channel').sum()"
   ]
  },
  {
   "cell_type": "code",
   "execution_count": null,
   "metadata": {},
   "outputs": [],
   "source": [
    "# of different num_trial_days"
   ]
  },
  {
   "cell_type": "code",
   "execution_count": null,
   "metadata": {},
   "outputs": [],
   "source": [
    "df['num_trial_days'] = df['num_trial_days'].astype(str)\n",
    "\n",
    "a = df.groupby(['dicount_period','num_trial_days']).sum()['revenue_net_1month']\n",
    "b = a/np.array([[d]*3 for d in discount_factor]).reshape(33,)\n",
    "trial_day_clv = pd.DataFrame(list(a),index=a.index, columns=['discounted_value'])\n",
    "trial_day_clv['trial'] = [trial for ind, trial in list(trial_day_clv.index)]"
   ]
  },
  {
   "cell_type": "code",
   "execution_count": null,
   "metadata": {},
   "outputs": [],
   "source": [
    "trial_day_clv"
   ]
  },
  {
   "cell_type": "code",
   "execution_count": null,
   "metadata": {},
   "outputs": [],
   "source": [
    "trial_day_clv.groupby('trial').sum()"
   ]
  }
 ],
 "metadata": {
  "kernelspec": {
   "display_name": "Python 3",
   "language": "python",
   "name": "python3"
  },
  "language_info": {
   "codemirror_mode": {
    "name": "ipython",
    "version": 3
   },
   "file_extension": ".py",
   "mimetype": "text/x-python",
   "name": "python",
   "nbconvert_exporter": "python",
   "pygments_lexer": "ipython3",
   "version": "3.7.1"
  }
 },
 "nbformat": 4,
 "nbformat_minor": 2
}
